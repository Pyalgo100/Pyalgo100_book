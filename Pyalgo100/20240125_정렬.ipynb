{
  "cells": [
    {
      "cell_type": "markdown",
      "metadata": {
        "id": "52pqe3tEoqNR"
      },
      "source": [
        "# 7번 문제"
      ]
    },
    {
      "cell_type": "code",
      "execution_count": null,
      "metadata": {
        "id": "g0pqMyy_n6i0"
      },
      "outputs": [],
      "source": [
        "# 7번\n",
        "def solution(data):\n",
        "    sorted_data = sorted(data, key=lambda x:x[1])\n",
        "    return [x[0] for x in sorted_data]\n",
        "# sorted(iterable, key 파라미터, reverse 파라미터: True 내림차순 False 오름차순)"
      ]
    },
    {
      "cell_type": "code",
      "execution_count": null,
      "metadata": {
        "id": "b2NhlOAzpk7E"
      },
      "outputs": [],
      "source": [
        "def solution(data):\n",
        "    new_list = sorted(data, key = lambda x:x[1])\n",
        "    result = [todo[0] for todo in new_list]\n",
        "\n",
        "    return result"
      ]
    },
    {
      "cell_type": "code",
      "execution_count": null,
      "metadata": {
        "id": "1OWXlBCuqHo3"
      },
      "outputs": [],
      "source": [
        "def solution(data):\n",
        "    return [item[0] for item in sorted(data, key=lambda x: x[1])]"
      ]
    },
    {
      "cell_type": "code",
      "execution_count": null,
      "metadata": {
        "id": "IOda2S0TqM7s"
      },
      "outputs": [],
      "source": [
        "def solution(data):\n",
        "    sorted_data = sorted(data, key=lambda x: x[1])\n",
        "    return list(x[0] for x in sorted_data)"
      ]
    },
    {
      "cell_type": "code",
      "execution_count": null,
      "metadata": {
        "id": "m4wIln6uqOOk"
      },
      "outputs": [],
      "source": [
        "\n",
        "def solution(data):\n",
        "    l= []\n",
        "    # 숫자 기준으로 정렬 후 정렬되어 순서대로 알파벳을 반환\n",
        "    sorted_list = sorted(data, key = lambda x: x[1])\n",
        "    for i in range(len(data)):\n",
        "        l.append(sorted_list[i][0])\n",
        "    return l"
      ]
    },
    {
      "cell_type": "code",
      "execution_count": null,
      "metadata": {
        "id": "RlVxp4j-qQK8"
      },
      "outputs": [],
      "source": [
        "# 7번\n",
        "def solution(data):\n",
        "    return [i[0] for i in sorted(data, key=lambda x: x[1])]"
      ]
    },
    {
      "cell_type": "code",
      "execution_count": null,
      "metadata": {
        "id": "dlN2aHBkqZB-"
      },
      "outputs": [],
      "source": [
        "# 문제 7번\n",
        "def solution(data):\n",
        "    new_list = sorted(data, key=lambda x: x[1])\n",
        "    result = [todo[0] for todo in new_list]\n",
        "\n",
        "    return result"
      ]
    },
    {
      "cell_type": "markdown",
      "metadata": {
        "id": "TVx8-zsJpLbO"
      },
      "source": [
        "# 8번 문제"
      ]
    },
    {
      "cell_type": "code",
      "execution_count": null,
      "metadata": {
        "id": "dxV5sEpgosDk"
      },
      "outputs": [],
      "source": [
        "# 8번\n",
        "def solution(data):\n",
        "    min_distance = float('inf')\n",
        "    result = []\n",
        "\n",
        "    for i in range(len(data)):\n",
        "        for j in range(i+1, len(data)):\n",
        "            distance = abs(data[i] - data[j])\n",
        "            if distance < min_distance:\n",
        "                min_distance = distance\n",
        "                result = [data[i], data[j]]\n",
        "\n",
        "    return result"
      ]
    },
    {
      "cell_type": "code",
      "execution_count": null,
      "metadata": {
        "id": "vEq7w2eKqk-g"
      },
      "outputs": [],
      "source": [
        "# 8번 문제\n",
        "def solution(data):\n",
        "    if len(data) < 2:\n",
        "        return data\n",
        "\n",
        "    min_distance = float('inf')\n",
        "    closest_fair = []\n",
        "\n",
        "    for i in range(len(data)-1):\n",
        "        distance = data[i+1]-data[i]\n",
        "        if distance < min_distance:\n",
        "            min_distance = distance\n",
        "\n",
        "            closest_pair = [data[i], data[i+1]]\n",
        "\n",
        "    return closest_pair"
      ]
    },
    {
      "cell_type": "code",
      "execution_count": null,
      "metadata": {
        "id": "8QAwAC_drMiG"
      },
      "outputs": [],
      "source": [
        "def solution(data):\n",
        "    x = list(zip(data, data[1:]))\n",
        "    return list(sorted(x, key = lambda x: abs(x[1] - x[0]))[0])"
      ]
    },
    {
      "cell_type": "code",
      "execution_count": null,
      "metadata": {
        "id": "zXtRuCrMrLjG"
      },
      "outputs": [],
      "source": [
        "# 문제 8번\n",
        "\n",
        "def solution(data):\n",
        "    l = []\n",
        "    # i, j 값 반복 후 절대값과 i,j 값을 튜플로 l에 반환\n",
        "    for i in data:\n",
        "        for j in data:\n",
        "            z = abs(int(i)-int(j))\n",
        "            l.append((z,[i, j]))\n",
        "\n",
        "    # 절대값이 0인 값을 제외\n",
        "    new_l = []\n",
        "    for abs_z, point in l:\n",
        "        if abs_z != 0:\n",
        "            new_l.append((abs_z, point))\n",
        "\n",
        "    # 리스트 new_l에서 절대값을 기준으로 최솟값을 찾은 후 i,j 쌍을 반환\n",
        "    return min(new_l, key = lambda x: x[0])[1]"
      ]
    },
    {
      "cell_type": "code",
      "execution_count": null,
      "metadata": {
        "id": "lWepMKz8rQX2"
      },
      "outputs": [],
      "source": [
        "# 8번\n",
        "def solution(data):\n",
        "\n",
        "    try:\n",
        "        tmp_d = sum(data, []) # 2차원 데이터는 평탄화\n",
        "    except:\n",
        "        tmp_d = data # 1차원 데이터는 평탄화된 상태이므로 그대로 사용\n",
        "    # print(tmp_d)\n",
        "\n",
        "    dic = dict() # 숫자 조합을 키, 숫자 간 거리를 값 으로 하는 딕셔너리\n",
        "\n",
        "    for i in range(len(tmp_d)-1):\n",
        "        num1 = tmp_d[i] # 앞의 숫자\n",
        "        num2 = tmp_d[i+1] # 뒤의 숫자\n",
        "        dist = abs(num1 - num2) # 두 숫자의 거리\n",
        "        dic[(num1, num2)] = dist\n",
        "\n",
        "    # 딕셔너리를 값을 기준으로 정렬해서 키 값을 뽑아냄.\n",
        "    sorted_data = sorted(dic.items(), key= lambda x: x[1])\n",
        "    # 가장 작은 거리를 가지는 숫자 조합을 리스트로 출력\n",
        "    res = list(sorted_data[0][0])\n",
        "    return res"
      ]
    },
    {
      "cell_type": "code",
      "execution_count": null,
      "metadata": {
        "id": "kA00IAkxrd4o"
      },
      "outputs": [],
      "source": [
        "# 8번\n",
        "def solution(data):\n",
        "    sorted_data = sorted(data)\n",
        "    return list(min(zip(sorted_data, sorted_data[1:]), key=lambda x: abs(x[0]- x[1])))"
      ]
    },
    {
      "cell_type": "markdown",
      "metadata": {
        "id": "1vvG4vLMpPD7"
      },
      "source": [
        "# 9번 문제"
      ]
    },
    {
      "cell_type": "code",
      "execution_count": null,
      "metadata": {
        "id": "IEnQgairtm_Z"
      },
      "outputs": [],
      "source": [
        "# 9번\n",
        "def solution(data):\n",
        "    max_math_score = 0 #가장 높은 수학점수를 저장할 변수\n",
        "    top_math_student = \"\"\n",
        "\n",
        "    for student in data:\n",
        "        math_score = student['수']\n",
        "        if math_score > max_math_score:\n",
        "            max_math_score = math_score\n",
        "            top_math_student = student['이름']\n",
        "\n",
        "    return top_math_student"
      ]
    },
    {
      "cell_type": "code",
      "execution_count": null,
      "metadata": {
        "id": "OQkm_75_uaGw"
      },
      "outputs": [],
      "source": [
        "def solution(data):\n",
        "    sorted_data = sorted(data, key=lambda x:x['수'], reverse=True)\n",
        "    return sorted_data[0]['이름']"
      ]
    },
    {
      "cell_type": "code",
      "execution_count": null,
      "metadata": {
        "id": "Up6_U7AQubhw"
      },
      "outputs": [],
      "source": [
        "def solution(data):\n",
        "    return sorted(data, key= lambda x: x['수'], reverse=True)[0]['이름']"
      ]
    },
    {
      "cell_type": "code",
      "execution_count": null,
      "metadata": {
        "id": "4KMwgERPucgR"
      },
      "outputs": [],
      "source": [
        "# 9번\n",
        "def solution(data):\n",
        "    top_math_score = 0\n",
        "    student_name = ''\n",
        "\n",
        "    for student in data:\n",
        "        if student['수'] > top_math_score:\n",
        "            top_math_score = student['수']\n",
        "            student_name = student['이름']\n",
        "\n",
        "    return student_name"
      ]
    },
    {
      "cell_type": "code",
      "execution_count": null,
      "metadata": {
        "id": "b78Pbj-sudmJ"
      },
      "outputs": [],
      "source": [
        "# 9번 - 1\n",
        "def solution(data):\n",
        "    score = 0\n",
        "    name = ''\n",
        "    for i in data:\n",
        "        if i['수'] > score:\n",
        "            score = i['수']\n",
        "            name = i['이름']\n",
        "    return name\n",
        "\n",
        "# 9번 - 2\n",
        "def solution(data):\n",
        "    return max(data, key=lambda x: x['수'])['이름']"
      ]
    },
    {
      "cell_type": "code",
      "execution_count": null,
      "metadata": {
        "id": "nYBs7gsuufqh"
      },
      "outputs": [],
      "source": [
        "# 9번\n",
        "data = [{'이름': 'A', '국': 30, '영': 20, '수': 85}, {'이름': 'B', '국': 95, '영': 98, '수': 10}]\n",
        "\n",
        "# 접근방법\n",
        "# 1. 결국 정렬 기준이 수학점수니까, 새로운 딕셔너리를 만들고 거기에 이름을 키로 하고 수학 점수를 값으로 하자.\n",
        "# 2. 그 다음 수학점수를 기준으로 해당 딕셔너리를 내림차순으로 배열하면 수학점수이름이 높은 순으로 이름이 배열될 것이다.\n",
        "# 3. 그럼 거기서 제일 앞에 오는 데이터의 0번째 값을 추출\n",
        "\n",
        "dic = dict()\n",
        "for i in data:\n",
        "    name = i['이름']\n",
        "    math_score = i['수']\n",
        "    dic[name] = math_score\n",
        "# dic # {'A': 85, 'B': 10}\n",
        "sorted_data = sorted(dic.items(), key =lambda x: x[1], reverse= True)\n",
        "# sorted_data # [('A', 85), ('B', 10)]\n",
        "res = sorted_data[0][0]\n",
        "res"
      ]
    },
    {
      "cell_type": "markdown",
      "metadata": {
        "id": "QSUy9iCTpQTk"
      },
      "source": [
        "# 10번 문제"
      ]
    },
    {
      "cell_type": "code",
      "execution_count": null,
      "metadata": {
        "id": "db_GHmbRsefd"
      },
      "outputs": [],
      "source": [
        "# 10번\n",
        "def solution(data):\n",
        "    if 3 <= len(data) <= 10: # 캐릭터의 수 제한\n",
        "        for x in data: # 캐릭터\n",
        "            for y in x[1:]: # 능력치\n",
        "                if 10 <= y <= 100: # 능력치 제한\n",
        "                    continue\n",
        "                else: # 범위 밖 능력치 탐지\n",
        "                    print(f'{x[0]}에게서 범위 밖 능력치를 탐지했습니다.') # 모든 캐릭터의 능력치를 봐야해서 return이 아닌 print\n",
        "\n",
        "        mal_list = sorted([x[0] for x in data if sum(x[1:]) > 350]) # 능력치합 350 초과 -> 이름\n",
        "        return mal_list\n",
        "\n",
        "    else: # 캐릭터 수가 부족하거나 너무 많을 경우\n",
        "        msg = '캐릭터 수가 부적절합니다. 3 ~ 10명의 캐릭터 정보를 입력해주세요'\n",
        "        return msg"
      ]
    },
    {
      "cell_type": "code",
      "execution_count": null,
      "metadata": {
        "id": "Bek0Qk0ayJeW"
      },
      "outputs": [],
      "source": [
        "# 10번\n",
        "def solution(characters):\n",
        "    result = []  # 능력치 합이 350 이상인 캐릭터 이름을 저장할 리스트\n",
        "\n",
        "    for character in characters:\n",
        "        name = character[0]\n",
        "        abilities = character[1:]\n",
        "        total_ability = sum(abilities)\n",
        "\n",
        "        if total_ability >= 350:\n",
        "            result.append(name)\n",
        "\n",
        "    result.sort()  # 알파벳 순으로 정렬\n",
        "    return result"
      ]
    },
    {
      "cell_type": "code",
      "execution_count": null,
      "metadata": {
        "id": "jWD-OZJTvhR0"
      },
      "outputs": [],
      "source": [
        "def solution(data):\n",
        "    select_character = []\n",
        "\n",
        "    # step1 3 ≤ 캐릭터의 수 ≤ 10\n",
        "    if 3 <= len(data) <= 10:\n",
        "        for i in data:\n",
        "            if sum(i[1:]) >= 350 and all(list(map(lambda x:True if 10 <= int(x) <= 100 else False, i[1:]))):\n",
        "                select_character.append(i[0])\n",
        "        return sorted(select_character)\n",
        "    else:\n",
        "        print(\"캐릭터 수가 3 보다 크고 10 보다 작아야 합니다.\")"
      ]
    },
    {
      "cell_type": "code",
      "execution_count": null,
      "metadata": {
        "id": "xtJIUn00vihT"
      },
      "outputs": [],
      "source": [
        "def solution(data):\n",
        "    return sorted([i[0] for i in data if sum(i[1:]) >= 350])"
      ]
    },
    {
      "cell_type": "code",
      "execution_count": null,
      "metadata": {
        "id": "0dlOAiphvqIM"
      },
      "outputs": [],
      "source": [
        "# 10번\n",
        "def solution(data):\n",
        "    filtered_list = list(filter(lambda x: x[1]+x[2]+x[3]+x[4] >= 350, data))\n",
        "    sorted_list = sorted([i[0] for i in filtered_list])\n",
        "    return sorted_list"
      ]
    },
    {
      "cell_type": "code",
      "execution_count": null,
      "metadata": {
        "id": "pkN0wLCTvszs"
      },
      "outputs": [],
      "source": [
        "# 문제 10번\n",
        "\n",
        "def solution(data):\n",
        "    l = []\n",
        "    # 데이터 값을 캐릭터에 언패킹 후 조건을 충족하는 이름만 반환\n",
        "    for character in data:\n",
        "        name, attack, defense, health, mana = character\n",
        "        if (attack + defense + health + mana) >= 350:\n",
        "            l.append(name)\n",
        "    # 이름을 오름차순으로 정렬\n",
        "    l.sort()\n",
        "\n",
        "    return l"
      ]
    },
    {
      "cell_type": "markdown",
      "metadata": {
        "id": "vw6IBvE6wrnX"
      },
      "source": [
        "# 11번 문제"
      ]
    },
    {
      "cell_type": "code",
      "execution_count": null,
      "metadata": {
        "id": "YMFcf8YLyojq"
      },
      "outputs": [],
      "source": [
        "# 11번\n",
        "def solution(scores):\n",
        "    count = 0  # 평균 점수가 80 이상인 학생 수를 저장할 변수\n",
        "\n",
        "    for student_scores in scores:\n",
        "        total_score = sum(student_scores)  # 각 학생의 점수 합을 계산\n",
        "        average_score = total_score / len(student_scores)  # 평균 점수 계산\n",
        "\n",
        "        if average_score >= 80:  # 평균 점수가 80 이상이면 카운트 증가\n",
        "            count += 1\n",
        "\n",
        "    return count"
      ]
    },
    {
      "cell_type": "code",
      "execution_count": null,
      "metadata": {
        "id": "vXK0UlAdwAqS"
      },
      "outputs": [],
      "source": [
        "# 11번\n",
        "def solution(data):\n",
        "    c = 0\n",
        "    for i in data:\n",
        "        total = int(sum(i)/3)\n",
        "        if total >= 80:\n",
        "            c += 1\n",
        "        else:\n",
        "            continue\n",
        "    return c"
      ]
    },
    {
      "cell_type": "code",
      "execution_count": null,
      "metadata": {
        "id": "ar9gqfu-wpJ4"
      },
      "outputs": [],
      "source": [
        "# 11번\n",
        "def solution(data):\n",
        "    count = 0\n",
        "    for i in data:\n",
        "        if sum(i) / len(i) > 80:\n",
        "            count += 1\n",
        "    return count"
      ]
    },
    {
      "cell_type": "code",
      "execution_count": null,
      "metadata": {
        "id": "LqjPEyUswn6W"
      },
      "outputs": [],
      "source": [
        "def solution(data):\n",
        "    return sum(1 for row in data if sum(row[:3]) >= 180)"
      ]
    },
    {
      "cell_type": "code",
      "execution_count": null,
      "metadata": {
        "id": "V-vo-8aZwx9K"
      },
      "outputs": [],
      "source": [
        "# 11번\n",
        "def solution(data):\n",
        "    filtered_data = list(filter(lambda x:x[0]+x[1]+x[2]>240, data))\n",
        "    return len(filtered_data)"
      ]
    },
    {
      "cell_type": "code",
      "execution_count": null,
      "metadata": {
        "id": "8f2nB9u5wyhY"
      },
      "outputs": [],
      "source": [
        "def solution(data):\n",
        "    return len(list(filter(lambda x: x > 240, map(sum,data))))"
      ]
    },
    {
      "cell_type": "markdown",
      "metadata": {
        "id": "y_huBjbiw0Ro"
      },
      "source": [
        "# 12번 문제"
      ]
    },
    {
      "cell_type": "code",
      "execution_count": null,
      "metadata": {
        "id": "zfCPjvAE0bm0"
      },
      "outputs": [],
      "source": [
        "# 12번\n",
        "def solution(data):\n",
        "    return sorted(data[0], key = lambda x: data[1].get(x.split(' ')[1]))"
      ]
    },
    {
      "cell_type": "code",
      "execution_count": null,
      "metadata": {
        "id": "_gt8oi8Kw1Y7"
      },
      "outputs": [],
      "source": [
        "# 12번\n",
        "def solution(data):\n",
        "    address,post = data\n",
        "    sorted_data = sorted(address, key=lambda x:\\\n",
        "                         post[x.split()[1]])\n",
        "    return sorted_data"
      ]
    },
    {
      "cell_type": "code",
      "execution_count": null,
      "metadata": {
        "id": "exYZaittydWJ"
      },
      "outputs": [],
      "source": [
        "# 12번\n",
        "def solution(data):\n",
        "    data1, data2 = data\n",
        "    sorted_data2 = sorted(data2, key=lambda x: data2[x])\n",
        "    sorted_data1 = sorted(data1, key=lambda x: sorted_data2.index(x.split()[1]))\n",
        "    return sorted_data1"
      ]
    },
    {
      "cell_type": "code",
      "execution_count": null,
      "metadata": {
        "id": "zGJL_BOGyhck"
      },
      "outputs": [],
      "source": [
        "def solution(data):\n",
        "    return sorted(data[0], key=lambda x: data[1][x.split()[1]])"
      ]
    },
    {
      "cell_type": "code",
      "execution_count": null,
      "metadata": {
        "id": "yx3eI-EqyiYr"
      },
      "outputs": [],
      "source": [
        "# 12번\n",
        "def solution(data):\n",
        "    key2idx = {idx:val for idx, val in enumerate(data[1].values())} # 딕셔너리의 키값을 index로 변경\n",
        "    rearranged = sorted(key2idx.items(), key= lambda x : x[1]) # 값을 기준으로 재배열\n",
        "    res = [data[0][i] for i, _ in rearranged] # data[0]의 index를 재배열된 idx로 바꿔 재배열\n",
        "    return res"
      ]
    }
  ],
  "metadata": {
    "colab": {
      "provenance": []
    },
    "kernelspec": {
      "display_name": "Python 3",
      "name": "python3"
    },
    "language_info": {
      "name": "python"
    }
  },
  "nbformat": 4,
  "nbformat_minor": 0
}
