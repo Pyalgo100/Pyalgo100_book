{
  "nbformat": 4,
  "nbformat_minor": 0,
  "metadata": {
    "colab": {
      "provenance": []
    },
    "kernelspec": {
      "name": "python3",
      "display_name": "Python 3"
    },
    "language_info": {
      "name": "python"
    }
  },
  "cells": [
    {
      "cell_type": "code",
      "execution_count": null,
      "metadata": {
        "id": "wtpU2If3gB5F"
      },
      "outputs": [],
      "source": [
        "25번 문제"
      ]
    },
    {
      "cell_type": "code",
      "source": [
        "def solution(data):\n",
        "    sieve = [True] * (data+1)\n",
        "    sieve[0] = sieve[1] = False\n",
        "    for i in range(2, int(data**0.5) + 1):\n",
        "        if sieve[i] == True:\n",
        "            for j in range(i+i, data+1, i):\n",
        "                sieve[j] = False\n",
        "    return sieve.count(True)"
      ],
      "metadata": {
        "id": "OfqiwhvqgbW3"
      },
      "execution_count": null,
      "outputs": []
    },
    {
      "cell_type": "code",
      "source": [
        "# 간결한 풀이\n",
        "def solution(N):\n",
        "    # 2부터 N까지의 모든 숫자를 포함하는 리스트 생성\n",
        "    numbers = list(range(2, N + 1))\n",
        "\n",
        "    # 에라토스테네스의 체 알고리즘 적용\n",
        "    for i in range(2, int(N**0.5) + 1):\n",
        "        if i in numbers:\n",
        "            # i의 배수를 모두 제거\n",
        "            numbers = [num for num in numbers if (num % i != 0) or (num == i)]\n",
        "\n",
        "    # 남아있는 숫자는 소수이므로 개수 반환\n",
        "    return len(numbers)"
      ],
      "metadata": {
        "id": "ss8sqxrngekF"
      },
      "execution_count": null,
      "outputs": []
    },
    {
      "cell_type": "code",
      "source": [
        "# 생각해볼 만한 풀이\n",
        "def solution(data):\n",
        "    '''\n",
        "    소수를 찾기 위해 조건으로 약수가 2개라는 조건을 사용\n",
        "    i에 주어진 수를 언패킹하고 n에 i이하의 숫자를 넣어줌\n",
        "    i를 나눌 수 있는 n을 리스트 l에 추가하고 l의 길이가 2개인 것들만 추출\n",
        "    '''\n",
        "    prime_num = []\n",
        "\n",
        "    for i in range(1, data+1):\n",
        "        l = []\n",
        "        for n in range(1, i+1):\n",
        "            if i % n == 0:\n",
        "                l.append(n)\n",
        "\n",
        "        if len(l) == 2:\n",
        "            prime_num.append(i)\n",
        "\n",
        "    return len(prime_num)"
      ],
      "metadata": {
        "id": "HYMfNwXXgg0d"
      },
      "execution_count": null,
      "outputs": []
    },
    {
      "cell_type": "code",
      "source": [
        "# 위의 추출 과정을 filter 함수로 바꿈\n",
        "def solution(data):\n",
        "    prime_num = []\n",
        "\n",
        "    for i in range(1, data+1):\n",
        "        l = list(filter(lambda n: i % n == 0, range(1, i+1)))\n",
        "        if len(l) == 2:\n",
        "            prime_num.append(i)\n",
        "\n",
        "    return len(prime_num)"
      ],
      "metadata": {
        "id": "EMSFjoWlhCql"
      },
      "execution_count": null,
      "outputs": []
    },
    {
      "cell_type": "code",
      "source": [
        "def solution(data):\n",
        "    for i in range(2, data + 1):\n",
        "        primes = []\n",
        "        is_prime = [True] * (data + 1)\n",
        "\n",
        "        for num in range(2, int(data ** 0.5) + 1):\n",
        "            if is_prime[num]:\n",
        "                primes.append(num)\n",
        "                for mul in range(num * num, data + 1, num):\n",
        "                    is_prime[mul] = False\n",
        "\n",
        "        for num in range(int(data**0.5) + 1, data + 1):\n",
        "            if is_prime[num]:\n",
        "                primes.append(num)\n",
        "    return len(primes)"
      ],
      "metadata": {
        "id": "q0S4tu2Pght_"
      },
      "execution_count": null,
      "outputs": []
    },
    {
      "cell_type": "code",
      "source": [
        "def solution(n):\n",
        "    # 0부터 n까지의 숫자 리스트 생성\n",
        "    nums_list = [True] * (n + 1)\n",
        "    count = 0\n",
        "\n",
        "    # 0과 1은 소수가 아님\n",
        "    nums_list[0] = nums_list[1] = False\n",
        "\n",
        "    # 에라토스테네스의 체 알고리즘\n",
        "    for i in range(2, int(n ** 0.5) + 1):\n",
        "        # nums[i]가 소수인 경우\n",
        "        if nums_list[i]:\n",
        "            # i의 배수들은 소수가 아님\n",
        "            for j in range(i * i, n + 1, i):\n",
        "                nums_list[j] = False\n",
        "\n",
        "    # True인 값 세기\n",
        "    count = sum(nums_list)\n",
        "\n",
        "    return count"
      ],
      "metadata": {
        "id": "qTFUXZ7Tgj4f"
      },
      "execution_count": null,
      "outputs": []
    },
    {
      "cell_type": "code",
      "source": [
        "# 설명이 잘 들어간 풀이\n",
        "def solution(data):\n",
        "\n",
        "    # 2보다 작은 숫자내에는 소수가 없으므로 0 리턴\n",
        "    if data < 2:\n",
        "        return 0\n",
        "\n",
        "    # 0부터 시작이라 입력받은 숫자보다 1 큰 숫자만큼 리스트를 만든다.\n",
        "    che_list = [True] * (data+1)\n",
        "    # 0과 1은 소수가 아니라 False\n",
        "    che_list[0] = che_list[1] = False\n",
        "\n",
        "    # 입력 받은 수의 최대 약수가 n제곱근 이하 이므로 루트씌우고 1더함\n",
        "    for i in range(2, int(data ** 0.5) + 1):\n",
        "\n",
        "        # 2부터 숫자 하나씩 검사\n",
        "        if che_list[i] == True:\n",
        "            # i의 배수들을 False로 판정\n",
        "            for j in range(i+i, data+1, i):\n",
        "                che_list[j] = False\n",
        "\n",
        "    return che_list.count(True)"
      ],
      "metadata": {
        "id": "beniVd0Dgl4W"
      },
      "execution_count": null,
      "outputs": []
    },
    {
      "cell_type": "code",
      "source": [
        "def solution(data):\n",
        "    n = int(data ** 0.5)\n",
        "    result = [False]*2 + [True]*(data-1)\n",
        "    for i in range(2, n+1):\n",
        "        if result[i]:\n",
        "            for k in range(i*2, data+1, i):\n",
        "                result[k] = False\n",
        "    return result.count(True)"
      ],
      "metadata": {
        "id": "r05qmqnGgnIu"
      },
      "execution_count": null,
      "outputs": []
    },
    {
      "cell_type": "code",
      "source": [
        "def solution(N):\n",
        "    prime_count = 0\n",
        "\n",
        "    for num in range(2, N + 1):\n",
        "        is_prime = True\n",
        "\n",
        "        for i in range(2, num):\n",
        "            if num % i == 0:\n",
        "                is_prime = False\n",
        "                break\n",
        "\n",
        "        if is_prime:\n",
        "            prime_count += 1\n",
        "\n",
        "    return prime_count"
      ],
      "metadata": {
        "id": "RY4CdySbihC5"
      },
      "execution_count": null,
      "outputs": []
    },
    {
      "cell_type": "code",
      "source": [
        "26번 문제"
      ],
      "metadata": {
        "id": "eTEOgMr2gnwv"
      },
      "execution_count": null,
      "outputs": []
    },
    {
      "cell_type": "code",
      "source": [
        "# 생각해볼만한 풀이\n",
        "def solution(data):\n",
        "    arr, k = data\n",
        "    max_sum = float('-inf')\n",
        "    window_sum = 0\n",
        "\n",
        "    for i in range(len(arr)):\n",
        "        window_sum += arr[i]\n",
        "        if i >= k-1:\n",
        "            max_sum = max(max_sum, window_sum)\n",
        "            window_sum -= arr[i-(k-1)]\n",
        "    return max_sum"
      ],
      "metadata": {
        "id": "47tuOZeugpVu"
      },
      "execution_count": null,
      "outputs": []
    },
    {
      "cell_type": "code",
      "source": [
        "# 좋은 풀이\n",
        "def solution(data):\n",
        "    array, k = data\n",
        "    # 초기 윈도우 합계 계산\n",
        "    window_sum = sum(array[:k])\n",
        "    max_sum = window_sum\n",
        "\n",
        "    # 윈도우를 슬라이드하면서 최대 합계 찾기\n",
        "    for i in range(k, len(array)):\n",
        "        # 윈도우에 새로 추가된 요소 더하고, 이전 윈도우의 첫 번째 요소 빼기\n",
        "        window_sum = window_sum + array[i] - array[i - k]\n",
        "\n",
        "        # 최대 합계 업데이트\n",
        "        max_sum = max(max_sum, window_sum)\n",
        "\n",
        "    return max_sum"
      ],
      "metadata": {
        "id": "UiWbdzClg25O"
      },
      "execution_count": null,
      "outputs": []
    },
    {
      "cell_type": "code",
      "source": [
        "def solution(data):\n",
        "    # 초기값으로 주어진 length 만큼의 합을 초기값으로\n",
        "    my_list, length = data\n",
        "    max_sum = sum(my_list[:length])\n",
        "    # 한칸씩 오른쪽으로 이동하며 max_sum보다 값이 크면 그 값을 max_sum에 저장\n",
        "    # 슬라이싱은 배열의 길이를 벗어나면 무시\n",
        "    for idx, _ in enumerate(my_list,1):\n",
        "        if sum(my_list[idx:idx+length]) > max_sum:\n",
        "            max_sum = sum(my_list[idx:idx+length])\n",
        "    return max_sum"
      ],
      "metadata": {
        "id": "mRILs3QQhOQs"
      },
      "execution_count": null,
      "outputs": []
    },
    {
      "cell_type": "code",
      "source": [
        "# 설명이 잘 들어간 풀이\n",
        "def solution(data):\n",
        "\n",
        "    # 순회할 data_list 와 더해줄 배열의 개수를 count로 할당\n",
        "    data_list, count = data\n",
        "\n",
        "    # 첫번째부터 count 까지의 합을 select_value 에 할당\n",
        "    select_value = sum(data_list[:count])\n",
        "\n",
        "    # 리턴해줄 최대값은 select_value 와 같다.\n",
        "    answer_value = select_value\n",
        "\n",
        "    # count 다음 자리부터 순회돌면 된다.\n",
        "    for i in range(len(data_list) - count):\n",
        "        # select_value 에서 배열의 i번째 자리 빼주고, count 더한 자리의 데이터를 더해준다.\n",
        "        select_value = select_value - data_list[i] + data_list[i + count]\n",
        "        answer_value = max(select_value, answer_value)\n",
        "    return answer_value"
      ],
      "metadata": {
        "id": "nuNXpWxFhTsQ"
      },
      "execution_count": null,
      "outputs": []
    },
    {
      "cell_type": "code",
      "source": [
        "def solution(data):\n",
        "    arr = data[0]\n",
        "    k = data[1]\n",
        "\n",
        "    max_sum = 0\n",
        "    if 1 <= k <= len(arr):\n",
        "        for i in range(len(arr)-k + 1):\n",
        "            if i == 0:\n",
        "                sliding = arr[i:i+k]\n",
        "                current_sum = sum(sliding)\n",
        "                max_sum += current_sum\n",
        "            else:\n",
        "                sliding = arr[i:i+k]\n",
        "                current_sum = sum(sliding)\n",
        "                max_sum = max(max_sum, current_sum)\n",
        "    return max_sum"
      ],
      "metadata": {
        "id": "TAvax2MghU30"
      },
      "execution_count": null,
      "outputs": []
    },
    {
      "cell_type": "code",
      "source": [
        "# 간결한 풀이\n",
        "def solution(data):\n",
        "    data_list, window = data\n",
        "    l = []\n",
        "    for i in range(len(data_list) - window + 1):\n",
        "        slide = data_list[i:window + i]\n",
        "        l.append(sum(slide))\n",
        "\n",
        "    return max(l)"
      ],
      "metadata": {
        "id": "ugD7Mub7hXAG"
      },
      "execution_count": null,
      "outputs": []
    },
    {
      "cell_type": "code",
      "source": [
        "def solution(data):\n",
        "    arr, window = data\n",
        "    window_sum = sum(arr[:window])  # 처음 윈도우의 합계\n",
        "    max_sum = window_sum  # 최대 합계를 처음 윈도우의 합계로 초기화\n",
        "\n",
        "    # 윈도우를 슬라이드하면서 합계 계산\n",
        "    for i in range(window, len(arr)):\n",
        "        window_sum = window_sum - arr[i-window] + arr[i]\n",
        "        max_sum = max(max_sum, window_sum)\n",
        "\n",
        "    return max_sum"
      ],
      "metadata": {
        "id": "5YLq5LjLhZO3"
      },
      "execution_count": null,
      "outputs": []
    },
    {
      "cell_type": "code",
      "source": [
        "27번 문제"
      ],
      "metadata": {
        "id": "AvBTMY0ahaRU"
      },
      "execution_count": null,
      "outputs": []
    },
    {
      "cell_type": "code",
      "source": [
        "def solution(data):\n",
        "    arr, S = data\n",
        "    n = len(arr)\n",
        "    min_len = n + 1\n",
        "    start = 0\n",
        "    curr_sum = 0\n",
        "\n",
        "    for end in range(n):\n",
        "        curr_sum += arr[end]\n",
        "\n",
        "        while curr_sum >= S:\n",
        "            min_len = min(min_len, end - start + 1)\n",
        "            curr_sum -= arr[start]\n",
        "            start += 1\n",
        "\n",
        "    if min_len == n + 1:\n",
        "        return 0\n",
        "    else:\n",
        "        return min_len"
      ],
      "metadata": {
        "id": "53uc3kj8hb_m"
      },
      "execution_count": null,
      "outputs": []
    },
    {
      "cell_type": "code",
      "source": [
        "# 생각해볼만한 풀이\n",
        "def solution(data):\n",
        "    nums, target_sum = data\n",
        "    min_length = float('inf')  # 최소 길이를 저장하는 변수를 무한대로 초기화\n",
        "\n",
        "    current_sum = 0\n",
        "    start = 0\n",
        "\n",
        "    for end in range(len(nums)):\n",
        "        current_sum += nums[end]\n",
        "\n",
        "        while current_sum >= target_sum:\n",
        "            min_length = min(min_length, end - start + 1)\n",
        "            current_sum -= nums[start]\n",
        "            start += 1\n",
        "\n",
        "    if min_length == float('inf'):\n",
        "        return 0\n",
        "    else:\n",
        "        return min_length"
      ],
      "metadata": {
        "id": "OgFUOl0ChcZ-"
      },
      "execution_count": null,
      "outputs": []
    },
    {
      "cell_type": "code",
      "source": [
        "def solution(data):\n",
        "    my_list, target = data\n",
        "    start, end, result, current_sum = 0, 0, 0, 0\n",
        "\n",
        "    while end < len(my_list):\n",
        "        current_sum += my_list[end]\n",
        "\n",
        "        while current_sum >= target:\n",
        "            result = min(result, end-start+1) if result != 0 else end-start+1\n",
        "            current_sum -= my_list[start]\n",
        "            start += 1\n",
        "        end += 1\n",
        "    return result if result != 0 else 0"
      ],
      "metadata": {
        "id": "LatGkZ1_hdm2"
      },
      "execution_count": null,
      "outputs": []
    },
    {
      "cell_type": "code",
      "source": [
        "# 이해하기 쉬운 좋은 풀이\n",
        "def solution(data):\n",
        "    data_list, target_S = data\n",
        "    l = []\n",
        "    # 연속된 배열이 될 수 있는 경우의 수 리스트를 l로 반환\n",
        "    for i in range(len(data_list)):\n",
        "        for j in range(i + 1, len(data_list) + 1):\n",
        "            l.append(data_list[i:j])\n",
        "\n",
        "    # S 값을 넘는 배열의 길이를 l2에 반환\n",
        "    l2 = []\n",
        "    for k in l:\n",
        "        if sum(k) >= target_S:\n",
        "            l2.append(len(k))\n",
        "\n",
        "    if l2 == []:\n",
        "        return 0\n",
        "\n",
        "    return min(l2)"
      ],
      "metadata": {
        "id": "WFuJJ7p6hemN"
      },
      "execution_count": null,
      "outputs": []
    },
    {
      "cell_type": "code",
      "source": [
        "def solution(data):\n",
        "    # data = ([2, 1, 5, 2, 3, 2], 7)\n",
        "    # data = ([1, 1, 1, 1, 1, 1, 1], 11)\n",
        "    # arr, s = data\n",
        "    arr = data[0]\n",
        "    s = data[1]\n",
        "    for k in range(1, len(arr) + 1):\n",
        "        if k == len(arr):\n",
        "            if sum(arr) >= s:\n",
        "                return len(arr)\n",
        "            else:\n",
        "                return 0\n",
        "        else:\n",
        "            for j in range(len(arr)-k+1):\n",
        "                if sum(arr[j:j+k]) >= s:\n",
        "                    return len(arr[j:j+k])\n",
        "                else:\n",
        "                    continue"
      ],
      "metadata": {
        "id": "N8imRZeihfpt"
      },
      "execution_count": null,
      "outputs": []
    },
    {
      "cell_type": "code",
      "source": [
        "# 생각해볼만한 풀이\n",
        "def solution(data):\n",
        "    nums, s = data\n",
        "    min_len = float('inf')\n",
        "    left = 0\n",
        "    value_sum = 0\n",
        "    for i in range(len(nums)):\n",
        "        value_sum += nums[i]\n",
        "        while value_sum >= s:\n",
        "            min_len = min(min_len, i+1-left)\n",
        "            value_sum -= nums[left]\n",
        "            left += 1\n",
        "    return min_len if min_len != float('inf') else 0"
      ],
      "metadata": {
        "id": "rhywYpPlhh4l"
      },
      "execution_count": null,
      "outputs": []
    },
    {
      "cell_type": "code",
      "source": [
        "28번 문제"
      ],
      "metadata": {
        "id": "JogarLfyh26F"
      },
      "execution_count": null,
      "outputs": []
    },
    {
      "cell_type": "code",
      "source": [
        "def solution(data):\n",
        "    arr, target = data\n",
        "    left, right = 0, len(arr) - 1\n",
        "    closest_sum = float('inf')\n",
        "\n",
        "    while left < right:\n",
        "        current_sum = arr[left] + arr[right]\n",
        "\n",
        "        if abs(target - current_sum) < abs(target - closest_sum):\n",
        "            closest_sum = current_sum\n",
        "\n",
        "        if current_sum < target:\n",
        "            left += 1\n",
        "        else:\n",
        "            right -= 1\n",
        "\n",
        "    return closest_sum"
      ],
      "metadata": {
        "id": "fuYOWiCDh4lF"
      },
      "execution_count": null,
      "outputs": []
    },
    {
      "cell_type": "code",
      "source": [
        "def solution(data):\n",
        "\n",
        "    arr = data[0]\n",
        "    target = data[1]\n",
        "\n",
        "    d_dict = dict()\n",
        "    for i in range(len(arr)):\n",
        "        for j in range(1, len(arr) -i):\n",
        "            sum_arr = arr[i] + arr[i+j] # i=0, j=1 => arr[0] + arr[1]\n",
        "            dist = abs(target - sum_arr)\n",
        "            d_dict[sum_arr] = dist\n",
        "    sorted_data = sorted(d_dict.items(), key=lambda x: x[1])[0]\n",
        "    res = sorted_data[0]\n",
        "    return res"
      ],
      "metadata": {
        "id": "e5AlNw1ah7Ok"
      },
      "execution_count": null,
      "outputs": []
    },
    {
      "cell_type": "code",
      "source": [
        "def solution(data):\n",
        "    nums, target = data\n",
        "    closest_sum = float('inf')  # 가장 가까운 합을 무한대로 초기화\n",
        "    left, right = 0, len(nums) - 1\n",
        "\n",
        "    while left < right:\n",
        "        current_sum = nums[left] + nums[right]\n",
        "        diff = abs(current_sum - target)\n",
        "\n",
        "        if diff < abs(closest_sum - target):\n",
        "            closest_sum = current_sum\n",
        "\n",
        "        if current_sum < target:\n",
        "            left += 1\n",
        "        elif current_sum > target:\n",
        "            right -= 1\n",
        "        else:\n",
        "            return target  # 합이 타겟 값과 같으면 결과 반환\n",
        "\n",
        "    return closest_sum"
      ],
      "metadata": {
        "id": "tZPMUrjeh8X-"
      },
      "execution_count": null,
      "outputs": []
    },
    {
      "cell_type": "code",
      "source": [
        "# 좋은 풀이\n",
        "def solution(data):\n",
        "    data_list, target = data\n",
        "    l = []\n",
        "\n",
        "    # i, j 가 같은 숫자가 아닌 경우 target값에 i,j 값을 뺀 절대값을 리스트화\n",
        "    for i in data_list:\n",
        "        for j in data_list:\n",
        "            if i != j:\n",
        "                l.append(abs(target - (i+j)))\n",
        "\n",
        "    # 만든 리스트에서 제일 작은 값이 target과 가까운 숫자이므로 i, j의 합을 찾아줌\n",
        "    for i in data_list:\n",
        "        for j in data_list:\n",
        "            if abs(target - (i+j)) == min(l):\n",
        "                return i + j"
      ],
      "metadata": {
        "id": "VKCw93Tah9oE"
      },
      "execution_count": null,
      "outputs": []
    },
    {
      "cell_type": "code",
      "source": [
        "def solution(data):\n",
        "    my_list, target = data\n",
        "    left, right = 0, len(my_list) - 1\n",
        "    min_diff = float('inf')\n",
        "    result = 0\n",
        "\n",
        "    while left < right:\n",
        "        sum_ = my_list[left] + my_list[right]\n",
        "        diff = abs(target - sum_)\n",
        "\n",
        "        if diff < min_diff:\n",
        "            min_diff = diff\n",
        "            result = sum_\n",
        "\n",
        "        if sum_ < target:\n",
        "            left += 1\n",
        "        else:\n",
        "            right -= 1\n",
        "\n",
        "    return result"
      ],
      "metadata": {
        "id": "xeell7bhh-3N"
      },
      "execution_count": null,
      "outputs": []
    },
    {
      "cell_type": "code",
      "source": [
        "# 설명이 잘 들어간 풀이\n",
        "def solution(data):\n",
        "    data_list, target = data\n",
        "\n",
        "    close_num = 0\n",
        "\n",
        "    # 두수의 합을 찾기 위해 중첩 for문 사용\n",
        "    for i in range(0, len(data_list)):      # 0 부터 리스트 길이만큼\n",
        "        for j in range(i, len(data_list)):  # i 부터 리스트 길이만큼 2 + 3 했으면 3 + 2 제외 위함\n",
        "            if i == j:      # 같은 수 끼리 더하는 경우 제외\n",
        "                continue\n",
        "            else:\n",
        "                # 두수의 합에서 target 숫자를 빼고 나온수 와 임의의 가까운 수에서 target 숫자를 뺀수를 비교\n",
        "                # 기존 수보다 작으면 가까운 수 변경\n",
        "                if abs(data_list[i] + data_list[j] - target) < abs(close_num - target):\n",
        "                    close_num = data_list[i] + data_list[j]\n",
        "    return close_num"
      ],
      "metadata": {
        "id": "WctL-yIwiACd"
      },
      "execution_count": null,
      "outputs": []
    },
    {
      "cell_type": "code",
      "source": [
        "# 생각해볼만한 풀이\n",
        "def solution(data):\n",
        "    arr, target = data\n",
        "    left, right = 0, len(arr)-1\n",
        "    result = target - (arr[left] + arr[right])\n",
        "    while left < right:\n",
        "        curr_sum = arr[left] + arr[right]\n",
        "        result = min(result, target - curr_sum)\n",
        "        if curr_sum < target:\n",
        "            left += 1\n",
        "        elif curr_sum > target:\n",
        "            right -= 1\n",
        "        else:\n",
        "            return curr_sum\n",
        "    return (target - result)"
      ],
      "metadata": {
        "id": "UZ9CuyKBiC0t"
      },
      "execution_count": null,
      "outputs": []
    },
    {
      "cell_type": "code",
      "source": [
        "29번 문제"
      ],
      "metadata": {
        "id": "3v3GsWvNiDhe"
      },
      "execution_count": null,
      "outputs": []
    },
    {
      "cell_type": "code",
      "source": [
        "# 간결한 풀이\n",
        "# XOR연산. 이해힘듬\n",
        "def solution(arr):\n",
        "    result = 0\n",
        "    for num in arr:\n",
        "        result ^= num\n",
        "    return result"
      ],
      "metadata": {
        "id": "goSY-CE1iFHW"
      },
      "execution_count": null,
      "outputs": []
    },
    {
      "cell_type": "code",
      "source": [
        "# 설명이 잘 들어간 풀이\n",
        "def solution(data):\n",
        "    '''\n",
        "    data에 중복되는 숫자를 set을 통해 제거\n",
        "    set_list에 있는 숫자와 data에 있는 숫자가 겹치는 횟수를 리스트화\n",
        "    리스트에서 제일 작은 숫자와 일치하는 횟수를 지닌 숫자를 출력\n",
        "    '''\n",
        "    set_list = list(set(data))\n",
        "    l = []\n",
        "    for i in set_list:\n",
        "        num = data.count(i)\n",
        "        l.append(num)\n",
        "\n",
        "    for i in set_list:\n",
        "        if min(l) == data.count(i):\n",
        "             return i"
      ],
      "metadata": {
        "id": "Kjhs59YFiGwO"
      },
      "execution_count": null,
      "outputs": []
    },
    {
      "cell_type": "code",
      "source": [
        "def solution(data):\n",
        "    uniq_d = set(data)\n",
        "\n",
        "    for num in uniq_d:\n",
        "        num_count = data.count(num)\n",
        "        if num_count == 1:\n",
        "            return num\n",
        "        else:\n",
        "            continue"
      ],
      "metadata": {
        "id": "ueFMpm_JiIAY"
      },
      "execution_count": null,
      "outputs": []
    },
    {
      "cell_type": "code",
      "source": [
        "# 개념이 많이 들어간 풀이\n",
        "def solution(data):\n",
        "    # 딕셔너리를 사용하여 각 숫자의 등장 횟수를 기록\n",
        "    count_dict = {}\n",
        "    for num in data:\n",
        "        if num in count_dict:\n",
        "            count_dict[num] += 1\n",
        "        else:\n",
        "            count_dict[num] = 1\n",
        "\n",
        "    # 등장 횟수가 1인 숫자를 찾아 반환\n",
        "    for num, count in count_dict.items():\n",
        "        if count == 1:\n",
        "            return num"
      ],
      "metadata": {
        "id": "eacR0ktliMpF"
      },
      "execution_count": null,
      "outputs": []
    },
    {
      "cell_type": "code",
      "source": [
        "def solution(data):\n",
        "    from collections import Counter\n",
        "    count = Counter(data)\n",
        "    # get은 주어진 키에 대한 값을 반환\n",
        "    return min(count.keys(), key=count.get)"
      ],
      "metadata": {
        "id": "nhiJ6lJiiN6w"
      },
      "execution_count": null,
      "outputs": []
    },
    {
      "cell_type": "code",
      "source": [
        "30번 문제"
      ],
      "metadata": {
        "id": "AN6-kHnmiQsu"
      },
      "execution_count": null,
      "outputs": []
    },
    {
      "cell_type": "code",
      "source": [
        "# 함수 개념이 많이 들어간 풀이\n",
        "def solution(N):\n",
        "    # 정수 N을 이진수로 변환 후 1을 'A', 0을 'B'로 치환하여 문자열로 반환\n",
        "    binary_str = bin(N)[2:]\n",
        "    result_str = ''.join(['A' if bit == '1' else 'B' for bit in binary_str])\n",
        "    return result_str"
      ],
      "metadata": {
        "id": "OV2-_xeQiTDF"
      },
      "execution_count": null,
      "outputs": []
    },
    {
      "cell_type": "code",
      "source": [
        "def solution(data):\n",
        "    if 0 <= data <= 1000:\n",
        "        digit_data =  bin(data)[2:]\n",
        "\n",
        "        def func(c):\n",
        "            if c == '1':\n",
        "                ret = 'A'\n",
        "            else:\n",
        "                ret = 'B'\n",
        "            return ret\n",
        "\n",
        "        return ''.join(map(func,digit_data))\n",
        "    else:\n",
        "        return 'data를 다시 입력해주세요'"
      ],
      "metadata": {
        "id": "6nCKzLcHiUUF"
      },
      "execution_count": null,
      "outputs": []
    },
    {
      "cell_type": "code",
      "source": [
        "# 간결한 풀이\n",
        "def solution(data):\n",
        "    binary_data = bin(data)[2:]\n",
        "    return binary_data.replace('1','A').replace('0','B')"
      ],
      "metadata": {
        "id": "gxYBMdpRiVPV"
      },
      "execution_count": null,
      "outputs": []
    },
    {
      "cell_type": "code",
      "source": [
        "def solution(data):\n",
        "\n",
        "    answer_str = ''\n",
        "\n",
        "    for i in bin(data)[2:]:\n",
        "        if i == '1':\n",
        "            answer_str += i.replace('1', 'A')\n",
        "        else:\n",
        "            answer_str += i.replace('0', 'B')\n",
        "    return answer_str"
      ],
      "metadata": {
        "id": "LEjPDJkkiYpu"
      },
      "execution_count": null,
      "outputs": []
    },
    {
      "cell_type": "code",
      "source": [
        "# 설명이 잘 들어간 풀이\n",
        "def solution(data):\n",
        "    b = bin(data)[2:]  #bin(): 정수의 이진 표현  #[2:]: Ob제거\n",
        "    r_b = b.replace('1', 'A').replace('0', 'B')\n",
        "\n",
        "    return r_b"
      ],
      "metadata": {
        "id": "RTwRyOOgir6F"
      },
      "execution_count": null,
      "outputs": []
    }
  ]
}