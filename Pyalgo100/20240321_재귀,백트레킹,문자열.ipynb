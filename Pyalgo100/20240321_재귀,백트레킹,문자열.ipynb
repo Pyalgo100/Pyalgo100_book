{
  "nbformat": 4,
  "nbformat_minor": 0,
  "metadata": {
    "colab": {
      "provenance": []
    },
    "kernelspec": {
      "name": "python3",
      "display_name": "Python 3"
    },
    "language_info": {
      "name": "python"
    }
  },
  "cells": [
    {
      "cell_type": "code",
      "execution_count": null,
      "metadata": {
        "id": "-1FQSHWd5E88"
      },
      "outputs": [],
      "source": [
        "## 95번"
      ]
    },
    {
      "cell_type": "code",
      "source": [
        "def solution(data):\n",
        "    if not data:\n",
        "        return \"\"\n",
        "    return data[-1] + solution(data[:-1])"
      ],
      "metadata": {
        "id": "uzuuECM17uuR"
      },
      "execution_count": null,
      "outputs": []
    },
    {
      "cell_type": "code",
      "source": [
        "def solution(data):\n",
        "    return data[-1] + ('' if len(data) == 1 else solution(data[:-1]))"
      ],
      "metadata": {
        "id": "RN3CpuL872zo"
      },
      "execution_count": null,
      "outputs": []
    },
    {
      "cell_type": "code",
      "source": [
        "## 96번"
      ],
      "metadata": {
        "id": "xGIrHuSY7xX6"
      },
      "execution_count": null,
      "outputs": []
    },
    {
      "cell_type": "code",
      "source": [
        "def solution(data):\n",
        "    data = str(data)\n",
        "    if not data[:-3]:\n",
        "        return data\n",
        "    return solution(data[:-3]) + \",\" + data[-3:]"
      ],
      "metadata": {
        "id": "ZOlic24W8De6"
      },
      "execution_count": null,
      "outputs": []
    },
    {
      "cell_type": "code",
      "source": [
        "def solution(data):\n",
        "    if len(str(data)) <= 3:\n",
        "        return str(data)\n",
        "    else:\n",
        "        return solution(str(data)[:-3]) + \",\" + str(data)[-3:]"
      ],
      "metadata": {
        "id": "eBju8wPr8GJH"
      },
      "execution_count": null,
      "outputs": []
    },
    {
      "cell_type": "code",
      "source": [
        "## 97번"
      ],
      "metadata": {
        "id": "XeZeehoL8VIM"
      },
      "execution_count": null,
      "outputs": []
    },
    {
      "cell_type": "code",
      "source": [
        "def solution(data):\n",
        "    if not data//2:\n",
        "        return f\"{data%2}\"\n",
        "    return solution(data // 2) + f\"{data%2}\""
      ],
      "metadata": {
        "id": "oF4nsHIj8WZt"
      },
      "execution_count": null,
      "outputs": []
    },
    {
      "cell_type": "code",
      "source": [
        "def solution(data):\n",
        "    num = data\n",
        "    if num == 0:\n",
        "        return '0'\n",
        "    elif num == 1:\n",
        "        return '1'\n",
        "    else:\n",
        "        return solution(num // 2) + str(num % 2)"
      ],
      "metadata": {
        "id": "9SDMtL8t8WqR"
      },
      "execution_count": null,
      "outputs": []
    },
    {
      "cell_type": "code",
      "source": [
        "## 98번"
      ],
      "metadata": {
        "id": "m-QMNMMw8i_i"
      },
      "execution_count": null,
      "outputs": []
    },
    {
      "cell_type": "code",
      "source": [
        "def solution(data):\n",
        "    def is_safe(row, col):\n",
        "        for i in range(row):\n",
        "            if board[i] == col or \\\n",
        "               board[i] - i == col - row or \\\n",
        "               board[i] + i == col + row:\n",
        "                return False\n",
        "        return True\n",
        "\n",
        "    def solve(row):\n",
        "        if row == data:\n",
        "            return 1\n",
        "        count = 0\n",
        "        for col in range(n):\n",
        "            if is_safe(row, col):\n",
        "                board[row] = col\n",
        "                count += solve(row + 1)\n",
        "                board[row] = -1  # 백트래킹\n",
        "        return count\n",
        "\n",
        "    board = [-1] * data\n",
        "    return solve(0)"
      ],
      "metadata": {
        "id": "WJ-G61dh8kJG"
      },
      "execution_count": null,
      "outputs": []
    },
    {
      "cell_type": "code",
      "source": [
        "## 99번"
      ],
      "metadata": {
        "id": "PmJ1obHs8mqV"
      },
      "execution_count": null,
      "outputs": []
    },
    {
      "cell_type": "code",
      "source": [
        "def solution(data):\n",
        "    def backtrack(nums, target, path, start, result):\n",
        "        if target == 0:\n",
        "            result.append(path[:])\n",
        "            return\n",
        "\n",
        "        for i in range(start, len(nums)):\n",
        "            if i > start and nums[i] == nums[i-1]:\n",
        "                continue\n",
        "            if nums[i] > target:\n",
        "                break\n",
        "            path.append(nums[i])\n",
        "            backtrack(nums, target - nums[i], path, i + 1, result)\n",
        "            path.pop()\n",
        "    nums, target = data\n",
        "    result = []\n",
        "    backtrack(nums, target, [], 0, result)\n",
        "    res = len(result)\n",
        "    return res"
      ],
      "metadata": {
        "id": "39ako3g18pF9"
      },
      "execution_count": null,
      "outputs": []
    },
    {
      "cell_type": "code",
      "source": [
        "def solution(data):\n",
        "    nums, target = data\n",
        "\n",
        "    def backtrack(index, current_sum):\n",
        "        if index == len(nums):\n",
        "            if current_sum == target:\n",
        "                return 1  # 목표 합을 찾은 경우\n",
        "            else:\n",
        "                return 0  # 목표 합을 찾지 못한 경우\n",
        "        # 현재 원소를 선택하는 경우\n",
        "        count = backtrack(index + 1, current_sum + nums[index])\n",
        "        # 현재 원소를 선택하지 않는 경우\n",
        "        count += backtrack(index + 1, current_sum)\n",
        "        return count\n",
        "\n",
        "    # 백트래킹 시작\n",
        "    return backtrack(0, 0)"
      ],
      "metadata": {
        "id": "2oq_No9I8rw1"
      },
      "execution_count": null,
      "outputs": []
    },
    {
      "cell_type": "code",
      "source": [
        "## 100번"
      ],
      "metadata": {
        "id": "m6yg5QHf8ufl"
      },
      "execution_count": null,
      "outputs": []
    },
    {
      "cell_type": "code",
      "source": [
        "def solution(data):\n",
        "    new_str = ''\n",
        "    for idx, chr in enumerate(data):\n",
        "        print(idx, chr)\n",
        "        if chr.isdigit():\n",
        "            plus_str = data[idx-1] * int(chr)\n",
        "            new_str += plus_str\n",
        "        else:\n",
        "            continue\n",
        "    return new_str"
      ],
      "metadata": {
        "id": "OOt1WTIY8vqn"
      },
      "execution_count": null,
      "outputs": []
    },
    {
      "cell_type": "code",
      "source": [
        "def solution(data):\n",
        "    ret = \"\"\n",
        "    for i in range(len(data)):\n",
        "        if data[i].isdigit():\n",
        "            ret += (data[i-1] * int(data[i]))\n",
        "    return ret"
      ],
      "metadata": {
        "id": "9YeqRH288x95"
      },
      "execution_count": null,
      "outputs": []
    }
  ]
}