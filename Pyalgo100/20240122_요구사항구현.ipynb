{
 "cells": [
  {
   "cell_type": "markdown",
   "metadata": {},
   "source": [
    "# 1번 문제"
   ]
  },
  {
   "cell_type": "code",
   "execution_count": null,
   "metadata": {
    "vscode": {
     "languageId": "plaintext"
    }
   },
   "outputs": [],
   "source": [
    "def solution(data):\n",
    "    return sum(i for i in data if i % 2 != 0)"
   ]
  },
  {
   "cell_type": "code",
   "execution_count": null,
   "metadata": {
    "vscode": {
     "languageId": "plaintext"
    }
   },
   "outputs": [],
   "source": [
    "def solution(data):\n",
    "    return sum([i for i in data if i % 2 != 0])"
   ]
  },
  {
   "cell_type": "code",
   "execution_count": null,
   "metadata": {
    "vscode": {
     "languageId": "plaintext"
    }
   },
   "outputs": [],
   "source": [
    "def solution(data):\n",
    "    return sum(filter(lambda x: x%2 != 0, data))"
   ]
  },
  {
   "cell_type": "code",
   "execution_count": null,
   "metadata": {
    "vscode": {
     "languageId": "plaintext"
    }
   },
   "outputs": [],
   "source": [
    "def solution(data):\n",
    "    # odd_list = list(filter(lambda x: x % 2 == 1, data))\n",
    "    # res = sum(odd_list)\n",
    "    res = sum(filter(lambda x: x % 2 == 1, data)) # list 형변환은 메모리 소모커서 생략\n",
    "    return res"
   ]
  },
  {
   "cell_type": "code",
   "execution_count": null,
   "metadata": {
    "vscode": {
     "languageId": "plaintext"
    }
   },
   "outputs": [],
   "source": [
    "def solution(data):\n",
    "    return sum(filter(lambda x: x % 2, data))"
   ]
  },
  {
   "cell_type": "markdown",
   "metadata": {},
   "source": [
    "# 2번 문제"
   ]
  },
  {
   "cell_type": "code",
   "execution_count": null,
   "metadata": {
    "vscode": {
     "languageId": "plaintext"
    }
   },
   "outputs": [],
   "source": [
    "# 방법 1. enumerate를 이용해 index를 활용\n",
    "\n",
    "def solution(data):\n",
    "    num = 0 # 제한사항 4\n",
    "    for i, val in enumerate(data):\n",
    "        if i == 0:\n",
    "            num = val\n",
    "        else:\n",
    "            num *= val\n",
    "    return num\n",
    "\n",
    "# ==============================\n",
    "\n",
    "# 방법 2. index 활용\n",
    "def solution(data):\n",
    "    num = 0\n",
    "    for val in data:\n",
    "        if data.index(val) == 0:\n",
    "            num = val\n",
    "        else:\n",
    "            num *= val\n",
    "    return num\n",
    "\n",
    "# ==============================\n",
    "\n",
    "# 방법 3. len과 enumerate 활용\n",
    "for idx, val in enumerate(data):\n",
    "    if len(data) == 0: # 제한사항 4\n",
    "        num = 0\n",
    "    elif idx == 0:\n",
    "        num = val\n",
    "    else:\n",
    "        num *= val\n",
    "    print(num)\n",
    "\n",
    "# ==============================\n",
    "\n",
    "# 방법 4. reduce (수업에서 다루지 않음)\n",
    "\n",
    "# reduce(함수, 리스트) 이용 -> 누적 곱 활용\n",
    "\n",
    "def solution(data):\n",
    "    from functools import reduce\n",
    "    return reduce(lambda x, y: x*y, data)\n",
    "\n",
    "# ==============================\n",
    "\n",
    "# 방법 5. eval, join\n",
    "def solution(data):\n",
    "    # '*'.join(str(x) for x in data) # 출력 : 1*5*8*9*13\n",
    "    return eval('*'.join(str(x) for x in data)) # eval : 문자열 형태를 평가 -> 반환"
   ]
  },
  {
   "cell_type": "code",
   "execution_count": null,
   "metadata": {
    "vscode": {
     "languageId": "plaintext"
    }
   },
   "outputs": [],
   "source": [
    "data = [3, 5, 7, 1]\n",
    "def solution(data):\n",
    "    count = 1\n",
    "    if data == []:\n",
    "        return 0\n",
    "    else:\n",
    "        for i in data:\n",
    "            count *= i\n",
    "        return count\n",
    "\n",
    "solution(data)"
   ]
  },
  {
   "cell_type": "code",
   "execution_count": null,
   "metadata": {
    "vscode": {
     "languageId": "plaintext"
    }
   },
   "outputs": [],
   "source": [
    "def solution(data):\n",
    "    result = 1\n",
    "    for i in data:\n",
    "        result *= i\n",
    "    return result if len(data) != 0 else 0\n",
    "\n",
    "def solution(data):\n",
    "    return eval(\"*\".join([str(i) for i in data]))"
   ]
  },
  {
   "cell_type": "code",
   "execution_count": null,
   "metadata": {
    "vscode": {
     "languageId": "plaintext"
    }
   },
   "outputs": [],
   "source": [
    "def solution(data):\n",
    "    if not data:\n",
    "        return 0\n",
    "\n",
    "    answer = 1\n",
    "\n",
    "    for i in data:\n",
    "            answer *= i\n",
    "    return answer"
   ]
  },
  {
   "cell_type": "code",
   "execution_count": null,
   "metadata": {
    "vscode": {
     "languageId": "plaintext"
    }
   },
   "outputs": [],
   "source": [
    "def solution(data):\n",
    "    if not data:\n",
    "        return 0\n",
    "    result = 1\n",
    "    for x in data:\n",
    "        if x == 0:\n",
    "            return 0\n",
    "        result *= x\n",
    "    return result"
   ]
  },
  {
   "cell_type": "markdown",
   "metadata": {},
   "source": [
    "# 3번 문제"
   ]
  },
  {
   "cell_type": "code",
   "execution_count": null,
   "metadata": {
    "vscode": {
     "languageId": "plaintext"
    }
   },
   "outputs": [],
   "source": [
    "def solution(data):\n",
    "    return sum(filter(lambda x:x % 3 and x % 5, data))"
   ]
  },
  {
   "cell_type": "code",
   "execution_count": null,
   "metadata": {
    "vscode": {
     "languageId": "plaintext"
    }
   },
   "outputs": [],
   "source": [
    "def solution(data):\n",
    "    if not data:\n",
    "        return 0\n",
    "    return sum(filter(lambda x: x%3 and x%5 !=0, data))"
   ]
  },
  {
   "cell_type": "code",
   "execution_count": null,
   "metadata": {
    "vscode": {
     "languageId": "plaintext"
    }
   },
   "outputs": [],
   "source": [
    "def solution(data):\n",
    "    return sum(i for i in data if i % 3 != 0 and i % 5 != 0)"
   ]
  },
  {
   "cell_type": "code",
   "execution_count": null,
   "metadata": {
    "vscode": {
     "languageId": "plaintext"
    }
   },
   "outputs": [],
   "source": [
    "def solution(data):\n",
    "    num = 0\n",
    "    for i in data:\n",
    "        if i % 3 ==0 or i % 5 ==0:\n",
    "            continue\n",
    "        else:\n",
    "            num += i\n",
    "    return num"
   ]
  },
  {
   "cell_type": "code",
   "execution_count": null,
   "metadata": {
    "vscode": {
     "languageId": "plaintext"
    }
   },
   "outputs": [],
   "source": [
    "def solution(data):\n",
    "    return sum(i for i in data if i % 3 != 0 and i % 5 != 0)"
   ]
  },
  {
   "cell_type": "code",
   "execution_count": null,
   "metadata": {
    "vscode": {
     "languageId": "plaintext"
    }
   },
   "outputs": [],
   "source": [
    "# 문제 3번\n",
    "def solution(data):\n",
    "l = []\n",
    "    for i in data:\n",
    "        if i % 3 != 0 and i % 5 != 0:\n",
    "            l.append(i)\n",
    "    return sum(l)"
   ]
  },
  {
   "cell_type": "markdown",
   "metadata": {},
   "source": [
    "# 4번 문제"
   ]
  },
  {
   "cell_type": "code",
   "execution_count": null,
   "metadata": {
    "vscode": {
     "languageId": "plaintext"
    }
   },
   "outputs": [],
   "source": [
    "def solution(data):\n",
    "    result = 0\n",
    "    for i, s in enumerate(data):\n",
    "        number = int(s.split(\" \")[1].replace('개', ''))\n",
    "        result += number * (i + 1)\n",
    "    return result"
   ]
  },
  {
   "cell_type": "code",
   "execution_count": null,
   "metadata": {
    "vscode": {
     "languageId": "plaintext"
    }
   },
   "outputs": [],
   "source": [
    "def solution(data):\n",
    "    cookies = [i.split()[1][:-1] for i in data] # 갯수만 뽑아냄.\n",
    "    result = 0\n",
    "    for order, cookie in enumerate(cookies, 1):\n",
    "        result += order * int(cookie) # str형이므로 변환해줌.\n",
    "    return result"
   ]
  },
  {
   "cell_type": "code",
   "execution_count": null,
   "metadata": {
    "vscode": {
     "languageId": "plaintext"
    }
   },
   "outputs": [],
   "source": [
    "def solution(data):\n",
    "    result = 0\n",
    "    for idx,i in enumerate(data, 1):\n",
    "        result += int((i.split()[1][0])) * idx\n",
    "    return result"
   ]
  },
  {
   "cell_type": "code",
   "execution_count": null,
   "metadata": {
    "vscode": {
     "languageId": "plaintext"
    }
   },
   "outputs": [],
   "source": [
    "def solution(data):\n",
    "    count = 0\n",
    "    for i in range(1, 4):\n",
    "        # 숫자만 추출하여 합산\n",
    "        num_sum = sum(int(j) for j in data[i-1] if j.isdigit())\n",
    "        # 합계에 i를 곱하여 누적\n",
    "        count += num_sum * i\n",
    "    return count"
   ]
  },
  {
   "cell_type": "markdown",
   "metadata": {},
   "source": [
    "# 5번 문제"
   ]
  },
  {
   "cell_type": "code",
   "execution_count": null,
   "metadata": {
    "vscode": {
     "languageId": "plaintext"
    }
   },
   "outputs": [],
   "source": [
    "def solution(data):\n",
    "    return str(data).count('1')"
   ]
  },
  {
   "cell_type": "code",
   "execution_count": null,
   "metadata": {
    "vscode": {
     "languageId": "plaintext"
    }
   },
   "outputs": [],
   "source": [
    "# 5번\n",
    "def solution(data):\n",
    "    count = 0\n",
    "    for i in data:\n",
    "        count += str(i).count('1')\n",
    "    return count"
   ]
  },
  {
   "cell_type": "code",
   "execution_count": null,
   "metadata": {
    "vscode": {
     "languageId": "plaintext"
    }
   },
   "outputs": [],
   "source": [
    "def solution(data):\n",
    "    answer = 0\n",
    "    for num in data:\n",
    "        str_num = str(num)\n",
    "        answer += str_num.count('1')\n",
    "    return answer"
   ]
  },
  {
   "cell_type": "code",
   "execution_count": null,
   "metadata": {
    "vscode": {
     "languageId": "plaintext"
    }
   },
   "outputs": [],
   "source": [
    "def solution(data):\n",
    "    return ''.join(map(str, data)).count('1')"
   ]
  },
  {
   "cell_type": "code",
   "execution_count": null,
   "metadata": {
    "vscode": {
     "languageId": "plaintext"
    }
   },
   "outputs": [],
   "source": [
    "def solution(data):\n",
    "    if 1 <= len(data) <= 10: # 리스트의 길이 제한\n",
    "        if len(data) == len(list(filter(lambda x: isinstance(x, int) and 1<=x<=10000, data))): # 리스트의 값 정수 제한 및 안의 수 제한\n",
    "            # str_num = list(map(str, data))\n",
    "            # print(str_num)\n",
    "            res = 0\n",
    "            for i in map(str,data):\n",
    "                res += i.count('1')\n",
    "            return res\n",
    "\n",
    "        elif len(data) != len(list(filter(lambda x: isinstance(x, int), data))):\n",
    "            return '리스트 안에 정수가 아닌 데이터가 있습니다.'\n",
    "\n",
    "        else:\n",
    "            return '리스트 안의 수 범위를 벗어났습니다.'\n",
    "    elif len(data) == 0:\n",
    "        return 0\n",
    "    else:\n",
    "        return '리스트 길이 제한에서 벗어났습니다.'"
   ]
  },
  {
   "cell_type": "markdown",
   "metadata": {},
   "source": [
    "# 6번 문제"
   ]
  },
  {
   "cell_type": "code",
   "execution_count": null,
   "metadata": {
    "vscode": {
     "languageId": "plaintext"
    }
   },
   "outputs": [],
   "source": [
    "def solution(data):\n",
    "    return sum(map(int, filter(str.isdigit, data)))"
   ]
  },
  {
   "cell_type": "code",
   "execution_count": null,
   "metadata": {
    "vscode": {
     "languageId": "plaintext"
    }
   },
   "outputs": [],
   "source": [
    "def solution(data):\n",
    "    import re\n",
    "    \n",
    "    digit_list = re.findall(r'[0-9]', data)\n",
    "    return sum(map(int,digit_list))"
   ]
  },
  {
   "cell_type": "code",
   "execution_count": null,
   "metadata": {
    "vscode": {
     "languageId": "plaintext"
    }
   },
   "outputs": [],
   "source": [
    "def solution(data):\n",
    "    count = 0\n",
    "    for i in data:\n",
    "        if i.isdigit():\n",
    "            count += int(i)\n",
    "    return count"
   ]
  },
  {
   "cell_type": "code",
   "execution_count": null,
   "metadata": {
    "vscode": {
     "languageId": "plaintext"
    }
   },
   "outputs": [],
   "source": [
    "def solution(data):\n",
    "    return sum(map(int, [i for i in data if i.isdigit()]))"
   ]
  },
  {
   "cell_type": "code",
   "execution_count": null,
   "metadata": {
    "vscode": {
     "languageId": "plaintext"
    }
   },
   "outputs": [],
   "source": [
    "def solution(data):\n",
    "    return sum(map(int,filter(str.isdigit, data)))"
   ]
  }
 ],
 "metadata": {
  "language_info": {
   "name": "python"
  }
 },
 "nbformat": 4,
 "nbformat_minor": 2
}
