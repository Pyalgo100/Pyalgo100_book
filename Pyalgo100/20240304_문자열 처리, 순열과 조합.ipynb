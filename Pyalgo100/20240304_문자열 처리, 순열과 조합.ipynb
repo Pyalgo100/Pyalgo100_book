{
  "nbformat": 4,
  "nbformat_minor": 0,
  "metadata": {
    "colab": {
      "provenance": []
    },
    "kernelspec": {
      "name": "python3",
      "display_name": "Python 3"
    },
    "language_info": {
      "name": "python"
    }
  },
  "cells": [
    {
      "cell_type": "markdown",
      "source": [
        "# 문제 65번\n",
        "## 문자열 오른쪽 순환 이동"
      ],
      "metadata": {
        "id": "lt7_jxrqGe6W"
      }
    },
    {
      "cell_type": "code",
      "execution_count": null,
      "metadata": {
        "id": "KB8wF4T8FXhM"
      },
      "outputs": [],
      "source": [
        "# 가장 많은 추천수를 받은 코드 - 6\n",
        "# 65번\n",
        "def solution(data):\n",
        "    string, count = data\n",
        "    return string[-count:] + string[:-count]"
      ]
    },
    {
      "cell_type": "code",
      "source": [
        "# 65번\n",
        "def solution(data):\n",
        "    word, n = data\n",
        "    return word[-n:] + word[:len(word)-n] if n != 0 else word"
      ],
      "metadata": {
        "id": "iL-eN_1WGCK8"
      },
      "execution_count": 1,
      "outputs": []
    },
    {
      "cell_type": "code",
      "source": [
        "# 65번\n",
        "from collections import deque\n",
        "\n",
        "def solution(data):\n",
        "    text, N = data\n",
        "    my_text = deque(text)\n",
        "    my_text.rotate(N)\n",
        "    return \"\".join(my_text)"
      ],
      "metadata": {
        "id": "91_3D4sOGERi"
      },
      "execution_count": null,
      "outputs": []
    },
    {
      "cell_type": "code",
      "source": [
        "# 65번\n",
        "def solution(str, n):\n",
        "    l = []\n",
        "    len_str = len(str)\n",
        "\n",
        "    cutted1= str[0:len_str-n]\n",
        "\n",
        "    cutted2 = str[len_str-n : len_str]\n",
        "\n",
        "    return cutted2+cutted1"
      ],
      "metadata": {
        "id": "Rm9ZcAhaGGwW"
      },
      "execution_count": null,
      "outputs": []
    },
    {
      "cell_type": "code",
      "source": [
        "# 65번\n",
        "def solution(data):\n",
        "    a = data[0]\n",
        "    for _ in range(data[1]):\n",
        "        a = a[-1] + a[:-1]\n",
        "    return a"
      ],
      "metadata": {
        "id": "_K9JqXLwGTBl"
      },
      "execution_count": null,
      "outputs": []
    },
    {
      "cell_type": "code",
      "source": [
        "# 65번\n",
        "def solution(data):\n",
        "    text, N = data\n",
        "    for _ in range(N):\n",
        "        text = text[-1] + text[0:-1]\n",
        "    return text"
      ],
      "metadata": {
        "id": "0ufXo5JUGVZz"
      },
      "execution_count": null,
      "outputs": []
    },
    {
      "cell_type": "markdown",
      "source": [
        "# 문제 66번\n",
        "## 문자열 간단한 압축\n",
        "\n"
      ],
      "metadata": {
        "id": "kPSqfAV8GvsN"
      }
    },
    {
      "cell_type": "code",
      "source": [
        "# 가장 많은 추천수를 받은 코드 - 6\n",
        "# 66번\n",
        "def solution(data):\n",
        "    text = data[0]\n",
        "    compressed = []\n",
        "    count = 1\n",
        "\n",
        "    for i in range(1, len(text)):\n",
        "        if text[i] == text[i - 1]:\n",
        "            count += 1\n",
        "        else:\n",
        "            compressed.append(text[i - 1] + str(count))\n",
        "            count = 1\n",
        "    compressed.append(text[-1] + str(count))  # 마지막 문자 처리\n",
        "\n",
        "    return \"\".join(compressed)"
      ],
      "metadata": {
        "id": "QkWW1okHG5DT"
      },
      "execution_count": null,
      "outputs": []
    },
    {
      "cell_type": "code",
      "source": [
        "# 66번\n",
        "def solution(data):\n",
        "    data = data[0]\n",
        "    curr = [data[0]]\n",
        "    ret = \"\"\n",
        "    for s in data[1:]:\n",
        "        if s not in curr:\n",
        "            ret += str(curr[0]) + str(curr.count(curr[0]))\n",
        "            curr = []\n",
        "        curr.append(s)\n",
        "    ret += str(curr[0]) + str(curr.count(curr[0]))\n",
        "    return ret"
      ],
      "metadata": {
        "id": "psbFehGKHC-Y"
      },
      "execution_count": null,
      "outputs": []
    },
    {
      "cell_type": "code",
      "source": [
        "# 66번\n",
        "def solution(data):\n",
        "    data_str = ''\n",
        "    count = 0\n",
        "\n",
        "    for i in range(1, len(data)):\n",
        "        if data[i] == data[i-1]:\n",
        "            count += 1\n",
        "        else:\n",
        "            data_str += data[i-1] + str(count)\n",
        "            count = 1\n",
        "\n",
        "    data_str += data[i-1] + str(count)\n",
        "\n",
        "    return data_str"
      ],
      "metadata": {
        "id": "qxrltSyLHGxY"
      },
      "execution_count": null,
      "outputs": []
    },
    {
      "cell_type": "code",
      "source": [
        "# 66번\n",
        "def solution(data):\n",
        "    data = data[0]\n",
        "    before, cnt = None, 0\n",
        "    result = \"\"\n",
        "    for i in data:\n",
        "        if before:\n",
        "            if before == i:\n",
        "                cnt += 1\n",
        "            else:\n",
        "                result += before + str(cnt)\n",
        "                cnt = 1\n",
        "                before = i\n",
        "        else:\n",
        "            before = i\n",
        "            cnt += 1\n",
        "    result += before + str(cnt)\n",
        "    return result"
      ],
      "metadata": {
        "id": "OmdwJmFiHJYs"
      },
      "execution_count": 2,
      "outputs": []
    },
    {
      "cell_type": "code",
      "source": [
        "# 66번\n",
        "def solution(data):\n",
        "    result = ''\n",
        "    check_ch = data[0]\n",
        "    count = 0\n",
        "    for ch in data:\n",
        "\n",
        "        if ch == check_ch:\n",
        "            count += 1\n",
        "        else:\n",
        "            result += check_ch + str(count)\n",
        "            check_ch = ch\n",
        "            count = 1\n",
        "    result += check_ch + str(count)\n",
        "    return result"
      ],
      "metadata": {
        "id": "UWXxtzHTHKL9"
      },
      "execution_count": null,
      "outputs": []
    },
    {
      "cell_type": "code",
      "source": [
        "# 66번\n",
        "def solution(data):\n",
        "    data = data[0]\n",
        "    count = 0\n",
        "    ret = ''\n",
        "    for i in range(len(data)):\n",
        "        if data[i] != data[i-1] and i-1 != -1:\n",
        "            pre_char = data[i-1] + str(count)\n",
        "            ret += pre_char\n",
        "            count = 0\n",
        "\n",
        "        count +=1\n",
        "\n",
        "        if i == len(data)-1:\n",
        "            cur_char = data[i] + str(count)\n",
        "            ret += cur_char\n",
        "\n",
        "    return ret"
      ],
      "metadata": {
        "id": "f_giQPxzHQBF"
      },
      "execution_count": null,
      "outputs": []
    },
    {
      "cell_type": "markdown",
      "source": [
        "# 문제 67번\n",
        "## 서브스트링 위치 찾기\n"
      ],
      "metadata": {
        "id": "VuE_MOGoHVMh"
      }
    },
    {
      "cell_type": "code",
      "source": [
        "# 가장 많은 추천수를 받은 코드 - 6\n",
        "# 67번\n",
        "def solution(data):\n",
        "    string, sub = data\n",
        "    ret = []\n",
        "    s = string.replace(sub, \"0\"+sub[1:])\n",
        "    for i in range(len(s)):\n",
        "        if s[i] == \"0\":\n",
        "            ret.append(i)\n",
        "    return ret"
      ],
      "metadata": {
        "id": "kT5kELo7HoF5"
      },
      "execution_count": null,
      "outputs": []
    },
    {
      "cell_type": "code",
      "source": [
        "# 67번\n",
        "def solution(data):\n",
        "    text, sub = data\n",
        "    start_idx = 0\n",
        "    result = []\n",
        "    while start_idx != -1:\n",
        "        start_idx = text.find(sub, start_idx)\n",
        "        result.append(start_idx)\n",
        "        start_idx += 1\n",
        "    return result"
      ],
      "metadata": {
        "id": "dvcccM4HH0Jp"
      },
      "execution_count": null,
      "outputs": []
    },
    {
      "cell_type": "code",
      "source": [
        "# 67번\n",
        "def solution(data):\n",
        "    string, target = data\n",
        "    start = 0\n",
        "    result = []\n",
        "    while True:\n",
        "        start = string.find(target, start)\n",
        "\n",
        "        if start == -1:\n",
        "            break\n",
        "\n",
        "        result.append(start)\n",
        "        start += 1\n",
        "    return result"
      ],
      "metadata": {
        "id": "oberHSSmH2sG"
      },
      "execution_count": null,
      "outputs": []
    },
    {
      "cell_type": "code",
      "source": [
        "# 67번\n",
        "def solution(data):\n",
        "    string, substring = data\n",
        "    l = []\n",
        "    start_num = 0\n",
        "\n",
        "    while start_num < len(string):\n",
        "        index_num = string.find(substring, start_num)\n",
        "        if index_num == -1:\n",
        "            break\n",
        "        l.append(index_num)\n",
        "        start_num = index_num + 1\n",
        "\n",
        "    return l"
      ],
      "metadata": {
        "id": "H_XeHaE7H6KW"
      },
      "execution_count": null,
      "outputs": []
    },
    {
      "cell_type": "code",
      "source": [
        "# 67번\n",
        "def solution(data):\n",
        "    s, pattern = data\n",
        "    findall_index = []\n",
        "    start_index = s.find(pattern)\n",
        "    while start_index != -1:\n",
        "        findall_index.append(start_index)\n",
        "        start_index = s.find(pattern, start_index + 1)\n",
        "    return findall_xqindex"
      ],
      "metadata": {
        "id": "iF6a6TxJH9jc"
      },
      "execution_count": null,
      "outputs": []
    },
    {
      "cell_type": "code",
      "source": [
        "# 67번\n",
        "def solution(string, substring):\n",
        "    indices = []\n",
        "    if not string or not substring:\n",
        "        return indices\n",
        "\n",
        "    start_index = 0\n",
        "    while True:\n",
        "        index = string.find(substring, start_index)\n",
        "        if index == -1:\n",
        "            break\n",
        "        indices.append(index)\n",
        "        start_index = index + 1\n",
        "    return indices"
      ],
      "metadata": {
        "id": "CKUzp8WyIDOA"
      },
      "execution_count": null,
      "outputs": []
    },
    {
      "cell_type": "code",
      "source": [
        "# 67번\n",
        "def solution(data):\n",
        "    string, sub_string = data\n",
        "    ret = []\n",
        "    start = 0\n",
        "\n",
        "    while True:\n",
        "        start = string.find(sub_string, start)\n",
        "        if start == -1:\n",
        "            break\n",
        "        ret.append(start)\n",
        "        start +=1\n",
        "    return ret"
      ],
      "metadata": {
        "id": "QakNxT-XIFZT"
      },
      "execution_count": null,
      "outputs": []
    },
    {
      "cell_type": "markdown",
      "source": [
        "# 문제 68번\n",
        "## 조합으로 가장 큰 수\n"
      ],
      "metadata": {
        "id": "-QecpNV7HacN"
      }
    },
    {
      "cell_type": "code",
      "source": [
        "# 가장 많은 추천수를 받은 코드 - 5\n",
        "# 68번\n",
        "def solution(data):\n",
        "    data = list(map(str, data))  # 정수를 문자열로 변환\n",
        "    # 입력한 x에 대해 2번 반복 [33, 3030, 3434, 55, 99]\n",
        "    sorted_data = sorted(data, key=lambda x: x * 2, reverse=True)\n",
        "    # 앞에 오는 0을 제거하기 위함\n",
        "    return str(int(\"\".join(sorted_data)))"
      ],
      "metadata": {
        "id": "njnGRCN3IXSL"
      },
      "execution_count": null,
      "outputs": []
    },
    {
      "cell_type": "code",
      "source": [
        "# 68번\n",
        "def solution(data):\n",
        "    lst = list(map(str, data))\n",
        "    lst.sort(key=lambda x: x*2, reverse=True)\n",
        "    return str(int(''.join(lst)))"
      ],
      "metadata": {
        "id": "aWTvNMAIIM_F"
      },
      "execution_count": 3,
      "outputs": []
    },
    {
      "cell_type": "code",
      "source": [
        "# 68번\n",
        "from itertools import permutations\n",
        "\n",
        "def solution(data):\n",
        "    data_list = permutations(data)\n",
        "    str_list = [''.join(map(str, i)) for i in data_list]\n",
        "    return str(max(map(int, str_list)))"
      ],
      "metadata": {
        "id": "f0dqOsthIdBE"
      },
      "execution_count": null,
      "outputs": []
    },
    {
      "cell_type": "code",
      "source": [
        "# 68번\n",
        "def solution(numbers):\n",
        "    numbers_str = [str(num) for num in numbers]\n",
        "    numbers_str.sort(key=lambda x: x * 3, reverse=True)\n",
        "    return str(int(\"\".join(numbers_str)))"
      ],
      "metadata": {
        "id": "vGO_0iNDIfKH"
      },
      "execution_count": null,
      "outputs": []
    },
    {
      "cell_type": "code",
      "source": [
        "# 68번\n",
        "def solution(data):\n",
        "    from itertools import permutations\n",
        "    max_value = 0\n",
        "\n",
        "    for comb in list(permutations(data)):\n",
        "        comb_str = map(lambda x:str(x), comb)\n",
        "        val_str = ''.join(comb_str)\n",
        "        max_value = max(max_value, int(val_str))\n",
        "        ret = str(max_value)\n",
        "\n",
        "    return ret"
      ],
      "metadata": {
        "id": "DXrw841cIggQ"
      },
      "execution_count": null,
      "outputs": []
    },
    {
      "cell_type": "code",
      "source": [
        "# 68번\n",
        "def solution(data):\n",
        "    result = sorted(data, key=lambda x: str(x)*3, reverse=True)\n",
        "    return str(int(''.join(map(str, result))))"
      ],
      "metadata": {
        "id": "P_Vw82ugIiJR"
      },
      "execution_count": null,
      "outputs": []
    },
    {
      "cell_type": "markdown",
      "source": [
        "# 문제 69번\n",
        "## 특정 숫자 조합 찾기\n"
      ],
      "metadata": {
        "id": "6sUvE5HdHej8"
      }
    },
    {
      "cell_type": "code",
      "source": [
        "# 가장 많은 추천수를 받은 코드 - 7\n",
        "# 69번\n",
        "def solution(data):\n",
        "    from itertools import combinations\n",
        "    data_list, target_num = data\n",
        "    comb_list = combinations(data_list, 2)\n",
        "\n",
        "    l = []\n",
        "    for i in comb_list:\n",
        "        if sum(i) == target_num:\n",
        "            l.append(i)\n",
        "\n",
        "    return list(set(l))"
      ],
      "metadata": {
        "id": "6MCywpqYIzc7"
      },
      "execution_count": null,
      "outputs": []
    },
    {
      "cell_type": "code",
      "source": [
        "# 69번\n",
        "def solution(data):\n",
        "    my_list, target = data\n",
        "    my_list.sort()\n",
        "    result = []\n",
        "    left, right = 0, len(my_list) - 1\n",
        "    while left < right:\n",
        "        current_sum = my_list[left] + my_list[right]\n",
        "        if current_sum == target:\n",
        "            pair = (my_list[left], my_list[right])\n",
        "            if pair not in result:\n",
        "                result.append(pair)\n",
        "            left += 1\n",
        "            right -= 1\n",
        "        elif current_sum < target:\n",
        "            left += 1\n",
        "        else:\n",
        "            right -= 1\n",
        "    return result"
      ],
      "metadata": {
        "id": "_ozjfOq1I1ev"
      },
      "execution_count": null,
      "outputs": []
    },
    {
      "cell_type": "code",
      "source": [
        "# 69번\n",
        "def solution(data):\n",
        "    d_list, target = data\n",
        "\n",
        "    ret = []\n",
        "\n",
        "    for i, a in enumerate(d_list):\n",
        "        for b in d_list[i+1:]:\n",
        "            total = a+b\n",
        "            if total == target:\n",
        "                if (a, b) in ret:\n",
        "                    continue\n",
        "                ret.append((a, b))\n",
        "    return ret"
      ],
      "metadata": {
        "id": "cC3zHTPVI3oa"
      },
      "execution_count": null,
      "outputs": []
    },
    {
      "cell_type": "code",
      "source": [
        "# 69번\n",
        "def solution(data):\n",
        "    numbers, target = data\n",
        "    combinations = []\n",
        "    found_pairs = set()\n",
        "\n",
        "    for i in range(len(numbers)):\n",
        "        for j in range(i + 1, len(numbers)):\n",
        "            if (\n",
        "                numbers[i] + numbers[j] == target\n",
        "                and (numbers[i], numbers[j]) not in found_pairs\n",
        "                and (numbers[j], numbers[i]) not in found_pairs\n",
        "            ):\n",
        "                combinations.append((numbers[i], numbers[j]))\n",
        "                found_pairs.add((numbers[i], numbers[j]))\n",
        "\n",
        "    combinations.sort()\n",
        "    return combinations"
      ],
      "metadata": {
        "id": "AY8F9hHOI4-C"
      },
      "execution_count": null,
      "outputs": []
    },
    {
      "cell_type": "code",
      "source": [
        "# 69번\n",
        "def solution(data):\n",
        "    arr, target = data\n",
        "    arr = sorted(set(filter(lambda x: x < target, arr)))\n",
        "    ret = []\n",
        "    for n in arr:\n",
        "        if (target-n) in arr:\n",
        "            ret.append((n, target-n))\n",
        "    return ret[:len(ret)//2]"
      ],
      "metadata": {
        "id": "XWpM-ADxI6c7"
      },
      "execution_count": null,
      "outputs": []
    },
    {
      "cell_type": "code",
      "source": [
        "# 69번\n",
        "def solution(nums, target):\n",
        "    result = []\n",
        "    seen = set()\n",
        "\n",
        "    nums.sort()\n",
        "    left, right = 0, len(nums) - 1\n",
        "\n",
        "    while left < right:\n",
        "        current_sum = nums[left] + nums[right]\n",
        "        if current_sum == target:\n",
        "            pair = (nums[left], nums[right])\n",
        "            if pair not in seen:\n",
        "                result.append(pair)\n",
        "                seen.add(pair)\n",
        "            left += 1\n",
        "            right -= 1\n",
        "        elif current_sum < target:\n",
        "            left += 1\n",
        "        else:\n",
        "            right -= 1\n",
        "\n",
        "    return result"
      ],
      "metadata": {
        "id": "8ImSALs3I7vH"
      },
      "execution_count": null,
      "outputs": []
    },
    {
      "cell_type": "markdown",
      "source": [
        "# 문제 70번\n",
        "## 특정 범위 조합 찾기\n"
      ],
      "metadata": {
        "id": "E7FjR8swHiXX"
      }
    },
    {
      "cell_type": "code",
      "source": [
        "# 가장 많은 추천수를 받은 코드 - 6\n",
        "# 70번\n",
        "from itertools import combinations\n",
        "def solution(data):\n",
        "    arr, a, b = data\n",
        "    cases = []\n",
        "    for i in range(1, len(arr)+1):\n",
        "        cases.extend(list(combinations(arr, i)))\n",
        "    ret = list(filter(lambda x: a <= sum(x) <= b, cases))\n",
        "    return len(ret)"
      ],
      "metadata": {
        "id": "rCdl0rJBJIDf"
      },
      "execution_count": null,
      "outputs": []
    },
    {
      "cell_type": "code",
      "source": [
        "# 가장 많은 추천수를 받은 코드 - 6\n",
        "# 70번\n",
        "import itertools\n",
        "def solution(data):\n",
        "    my_list, _min, _max = data\n",
        "    cnt = 0\n",
        "    for i in range(len(my_list)):\n",
        "        nCr = itertools.combinations(my_list, i + 1)\n",
        "        for j in nCr:\n",
        "            if _min <= sum(j) <= _max:\n",
        "                cnt += 1\n",
        "    return cnt"
      ],
      "metadata": {
        "id": "JzUP1JZzJK2j"
      },
      "execution_count": null,
      "outputs": []
    },
    {
      "cell_type": "code",
      "source": [
        "# 70번\n",
        "def solution(data):\n",
        "    from itertools import combinations\n",
        "    arr, A, B = data\n",
        "    stack = []\n",
        "\n",
        "    for i in range(len(arr)):\n",
        "        i += 1\n",
        "        combs = list(combinations(arr, i))\n",
        "        for comb in combs:\n",
        "            if A <= sum(comb) <= B:\n",
        "                stack.append(comb)\n",
        "    return len(stack)"
      ],
      "metadata": {
        "id": "GQInDnZJJPXE"
      },
      "execution_count": null,
      "outputs": []
    },
    {
      "cell_type": "code",
      "source": [
        "# 70번\n",
        "def solution(data):\n",
        "    from itertools import combinations\n",
        "    data_list, A, B = data\n",
        "\n",
        "    l = []\n",
        "    for i in range(len(data_list)+1):\n",
        "        comb_list = combinations(data_list, i)\n",
        "\n",
        "        for j in comb_list:\n",
        "            if A <= sum(j) and sum(j) <= B:\n",
        "                l.append(j)\n",
        "\n",
        "    return len(l)"
      ],
      "metadata": {
        "id": "4KVY_AVCJQYp"
      },
      "execution_count": null,
      "outputs": []
    },
    {
      "cell_type": "code",
      "source": [
        "# 70번\n",
        "def find_combinations(data):\n",
        "    nums, A, B =data\n",
        "    result = []\n",
        "\n",
        "    def find_combinations_helper(current_sum, start_index, combination):\n",
        "        if A <= current_sum <= B:\n",
        "            result.append(combination)\n",
        "\n",
        "        if current_sum > B:\n",
        "            return\n",
        "\n",
        "        for i in range(start_index, len(nums)):\n",
        "            find_combinations_helper(current_sum + nums[i], i + 1, combination + [nums[i]])\n",
        "\n",
        "    find_combinations_helper(0, 0, [])\n",
        "    return result"
      ],
      "metadata": {
        "id": "9qxk9OkJJRoE"
      },
      "execution_count": null,
      "outputs": []
    }
  ]
}