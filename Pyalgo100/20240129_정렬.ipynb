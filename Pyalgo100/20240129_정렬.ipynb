{
 "cells": [
  {
   "cell_type": "markdown",
   "metadata": {},
   "source": [
    "# 13번 문제"
   ]
  },
  {
   "cell_type": "code",
   "execution_count": null,
   "metadata": {
    "vscode": {
     "languageId": "plaintext"
    }
   },
   "outputs": [],
   "source": [
    "# 예외처리를 생각한 좋은 풀이\n",
    "def solution(data):\n",
    "    if len(set(data[0])) == len(data[0]):\n",
    "        a, b = data\n",
    "        return sorted(a, key=lambda x: b.get(x))\n",
    "    else:\n",
    "        return '데이터에 중복된 책이 있습니다. 데이터를 다시 입력해주세요'"
   ]
  },
  {
   "cell_type": "code",
   "execution_count": null,
   "metadata": {
    "tags": [],
    "vscode": {
     "languageId": "plaintext"
    }
   },
   "outputs": [],
   "source": [
    "# 언패킹을 활용한 좋은 풀이\n",
    "def solution(data):\n",
    "    title, sub_year = data\n",
    "    return sorted(title, key = lambda title: (sub_year[title], title))"
   ]
  },
  {
   "cell_type": "code",
   "execution_count": null,
   "metadata": {
    "vscode": {
     "languageId": "plaintext"
    }
   },
   "outputs": [],
   "source": [
    "def solution(data):\n",
    "    book_titles = data[0]\n",
    "    book_years = data[1]\n",
    "\n",
    "    books = [(title, book_years[title]) for title in book_titles]\n",
    "\n",
    "    books.sort(key=lambda x: (x[1], x[0]))\n",
    "\n",
    "    sorted_titles = [book[0] for book in books]\n",
    "\n",
    "    return sorted_titles"
   ]
  },
  {
   "cell_type": "code",
   "execution_count": null,
   "metadata": {
    "vscode": {
     "languageId": "plaintext"
    }
   },
   "outputs": [],
   "source": [
    "# 딕셔너리의 get메서드를 활용한 좋은 풀이\n",
    "def solution(data):\n",
    "    return sorted(data[0], key = lambda x: data[1].get(x))"
   ]
  },
  {
   "cell_type": "code",
   "execution_count": null,
   "metadata": {
    "vscode": {
     "languageId": "plaintext"
    }
   },
   "outputs": [],
   "source": [
    "def solution(data):\n",
    "    title, year = data\n",
    "    return sorted(title, key=lambda x: (year[x], title))"
   ]
  },
  {
   "cell_type": "code",
   "execution_count": null,
   "metadata": {
    "vscode": {
     "languageId": "plaintext"
    }
   },
   "outputs": [],
   "source": [
    "def solution(data):\n",
    "    data1, data2 = data\n",
    "\n",
    "    sorted_data2 = sorted(data2, key=lambda x: data2[x])    # 키를 값에 따라 오름차순으로 정렬\n",
    "    sorted_data1 = sorted(data1, key=lambda x: sorted_data2.index(x))\n",
    "    return sorted_data1"
   ]
  },
  {
   "cell_type": "markdown",
   "metadata": {},
   "source": [
    "# 14번 문제"
   ]
  },
  {
   "cell_type": "code",
   "execution_count": null,
   "metadata": {
    "vscode": {
     "languageId": "plaintext"
    }
   },
   "outputs": [],
   "source": [
    "def solution(data):\n",
    "    reversed_data = {v:k for k,v in data.items()}\n",
    "    # {'Moby Dick': 'AX21', '1984': 'BX32', 'To Kill a Mockingbird': 'CX14'}\n",
    "    title = list(data.values())\n",
    "    return sorted(title, key = lambda x: reversed_data[x])"
   ]
  },
  {
   "cell_type": "code",
   "execution_count": null,
   "metadata": {
    "vscode": {
     "languageId": "plaintext"
    }
   },
   "outputs": [],
   "source": [
    "# 람다를 활용한 좋은 풀이\n",
    "def solution(data):\n",
    "    sorted_data = sorted(data.items(), key = lambda x: x[0])\n",
    "    return [i[1] for i in sorted_data]"
   ]
  },
  {
   "cell_type": "code",
   "execution_count": null,
   "metadata": {
    "vscode": {
     "languageId": "plaintext"
    }
   },
   "outputs": [],
   "source": [
    "def solution(data):\n",
    "    sorted_data = sorted(data.items(), key=lambda x : x[0]) # 키를 기준으로 정렬\n",
    "    return list(v for _, v in sorted_data) # value만 뽑아서 리스트로 변환"
   ]
  },
  {
   "cell_type": "code",
   "execution_count": null,
   "metadata": {
    "vscode": {
     "languageId": "plaintext"
    }
   },
   "outputs": [],
   "source": [
    "def solution(data):\n",
    "    sorted_data = sorted(data.keys())\n",
    "    return [data[i] for i in sorted_data]"
   ]
  },
  {
   "cell_type": "code",
   "execution_count": null,
   "metadata": {
    "vscode": {
     "languageId": "plaintext"
    }
   },
   "outputs": [],
   "source": [
    "def solution(data):\n",
    "    sorted_data = sorted(data.keys())\n",
    "    return [data[i] for i in sorted_data]"
   ]
  },
  {
   "cell_type": "code",
   "execution_count": null,
   "metadata": {
    "vscode": {
     "languageId": "plaintext"
    }
   },
   "outputs": [],
   "source": [
    "# 언패킹이 직관적인 좋은 풀이\n",
    "Books = {'AX21': 'Moby Dick', 'BX32': '1984', 'CX14': 'To Kill a Mockingbird'}\n",
    "code = Books.keys()\n",
    "title = Books.values()\n",
    "\n",
    "def solution(data):\n",
    "    return sorted(title, key = lambda x: code)\n",
    "\n",
    "solution(Books)"
   ]
  },
  {
   "cell_type": "code",
   "execution_count": null,
   "metadata": {
    "vscode": {
     "languageId": "plaintext"
    }
   },
   "outputs": [],
   "source": [
    "# 변수명을 직관적으로 사용한 좋은 풀이\n",
    "def solution(data):\n",
    "    # 키를 알파벳 순으로 정렬\n",
    "    sorted_key = sorted(data)\n",
    "\n",
    "    # 정렬된 키에 해당하는 값을 순서대로 추출\n",
    "    sorted_values = [data[key] for key in sorted_key]\n",
    "\n",
    "    return sorted_values"
   ]
  },
  {
   "cell_type": "markdown",
   "metadata": {},
   "source": [
    "# 15번 문제"
   ]
  },
  {
   "cell_type": "code",
   "execution_count": null,
   "metadata": {
    "vscode": {
     "languageId": "plaintext"
    }
   },
   "outputs": [],
   "source": [
    "# 한번쯤 생각해 볼만한 좋은 풀이\n",
    "def solution(data):\n",
    "    tmp_data = sorted(data, key=lambda x:x.split(' ')[1])\n",
    "\n",
    "    # 24시간 기준으로 변환된 리스트 생성\n",
    "    l = list() # 정렬 기준 리스트 생성\n",
    "    for i in tmp_data:\n",
    "        # print(i.split(' ')[0])\n",
    "        # print(i.split(' ')[1])\n",
    "        time = i.split(' ')[0]\n",
    "        aop = i.split(' ')[1]\n",
    "        if time[:2] == '12' and aop == 'AM':\n",
    "            tmp_d = '00' + time[2:5]\n",
    "            l.append(tmp_d)\n",
    "        elif (time[:2] != '12' and aop == 'AM') or (time[:2] == '12' and aop == 'PM'):\n",
    "            l.append(time)\n",
    "        else:\n",
    "            tmp_d = str(int(time[:2]) + 12) + time[2:5]\n",
    "            l.append(tmp_d)\n",
    "\n",
    "    # 정렬 대상(12시간제)과 정렬 기준(24시간제)를 딕셔너리로 묶음\n",
    "    dic = {k:v for k, v in zip(tmp_data, l)}\n",
    "\n",
    "    # 24시간제(12시간제의 값)를 기준으로 12시간제를 정렬\n",
    "    return sorted(tmp_data, key=lambda x: dic.get(x))"
   ]
  },
  {
   "cell_type": "code",
   "execution_count": null,
   "metadata": {
    "vscode": {
     "languageId": "plaintext"
    }
   },
   "outputs": [],
   "source": [
    "def solution(data):\n",
    "    converted = []\n",
    "    for times in data:\n",
    "        if times[-2:] == \"PM\" and times[:2] != \"12\":\n",
    "            converted.append(str(int(times[:2])+12)+times[2:5])\n",
    "        elif times[-2:] == \"AM\" and times[:2] == \"12\":\n",
    "            converted.append(\"00\"+times[2:5])\n",
    "        else:\n",
    "            converted.append(times[:5])\n",
    "    data_dic = {data[i]:converted[i] for i in range(len(data))}\n",
    "    return sorted(data, key = lambda x: data_dic[x])"
   ]
  },
  {
   "cell_type": "code",
   "execution_count": null,
   "metadata": {
    "vscode": {
     "languageId": "plaintext"
    }
   },
   "outputs": [],
   "source": [
    "def solution(data):\n",
    "    def convert_time(time):\n",
    "        hh, mm_ampm = time.split(\":\")\n",
    "        mm, ampm = mm_ampm.split(\" \")[0], mm_ampm.split(\" \")[1]\n",
    "\n",
    "        if ampm == \"PM\" and hh != \"12\":\n",
    "            hh = str(int(hh) + 12)\n",
    "        elif ampm == \"AM\" and hh == \"12\":\n",
    "            hh = \"00\"\n",
    "\n",
    "        return f'{hh}:{mm} {ampm}'\n",
    "\n",
    "    return sorted(data, key=convert_time)"
   ]
  },
  {
   "cell_type": "code",
   "execution_count": null,
   "metadata": {
    "vscode": {
     "languageId": "plaintext"
    }
   },
   "outputs": [],
   "source": [
    "# 변수명이 직관적인 좋은 풀이\n",
    "# 시간을 24시간제로 변환한 뒤 오름차순으로 정렬하는 문제\n",
    "\n",
    "def solution(data):\n",
    "    result = []\n",
    "    for time in data:\n",
    "        # 변수 선언\n",
    "        hour = time[:2]\n",
    "        minute = time[3:5]\n",
    "        AMPM = time[-2:]\n",
    "\n",
    "        # PM 이면서 시간이 12가 아니면 12를 더해줌\n",
    "        # AM 이면서 시간이 12면 00으로 반환\n",
    "        if AMPM == 'PM' and hour != '12':\n",
    "            hour = str(int(hour) + 12)\n",
    "        elif AMPM == 'AM' and hour == '12':\n",
    "            hour = '00'\n",
    "\n",
    "        convert_time = f'{hour}:{minute} {AMPM}'\n",
    "        result. append(convert_time)\n",
    "\n",
    "    # 변환된 시간들을 기준으로 데이터를 정렬\n",
    "    return sorted(data, key = lambda x: result[data.index(x)])"
   ]
  },
  {
   "cell_type": "code",
   "execution_count": null,
   "metadata": {
    "vscode": {
     "languageId": "plaintext"
    }
   },
   "outputs": [],
   "source": [
    "# 모듈을 활용한 좋은 풀이\n",
    "from datetime import datetime\n",
    "\n",
    "def solution(data):\n",
    "    converted_times = [(datetime.strptime(time, '%I:%M %p').strftime('%H:%M'), time) for time in data]\n",
    "    sorted_times = sorted(converted_times)\n",
    "    result = [time[1] for time in sorted_times]\n",
    "    return result"
   ]
  },
  {
   "cell_type": "code",
   "execution_count": null,
   "metadata": {
    "vscode": {
     "languageId": "plaintext"
    }
   },
   "outputs": [],
   "source": [
    "time = ['01:00 PM', '11:30 AM', '12:45 PM', '09:00 AM', '12:00 AM']\n",
    "\n",
    "def solution(data):\n",
    "    def convert_time(time):\n",
    "        hh, mm, ampm = time.split(' ')[0].split(':') + time.split(' ')[1:]\n",
    "\n",
    "        if ampm == 'PM' and hh ! == '12'\n",
    "\n",
    "    return sorted(data, key = convert_time)"
   ]
  },
  {
   "cell_type": "markdown",
   "metadata": {},
   "source": [
    "# 16번 문제"
   ]
  },
  {
   "cell_type": "code",
   "execution_count": null,
   "metadata": {
    "vscode": {
     "languageId": "plaintext"
    }
   },
   "outputs": [],
   "source": [
    "# 여러개념을 활용한 좋은 풀이\n",
    "def solution(data):\n",
    "\n",
    "    def convert_date(date):\n",
    "        if '-' in date:\n",
    "            day, month, year = date.split('-')\n",
    "        elif '/' in date:\n",
    "            month, day, year = date.split('/')\n",
    "        else:\n",
    "            year, month, day = date.split('.')\n",
    "        return year, month, day  #언패킹\n",
    "\n",
    "    converted_dates = [convert_date(date) for date in data] #언패킹 적용\n",
    "    sorted_dates = sorted(converted_dates)  #언패킹한 리스트 정렬\n",
    "\n",
    "    return ['/'.join(date) for date in sorted_dates]  #.join()  #정렬한 리스트, '/'로 합치기"
   ]
  },
  {
   "cell_type": "code",
   "execution_count": null,
   "metadata": {
    "vscode": {
     "languageId": "plaintext"
    }
   },
   "outputs": [],
   "source": [
    "def solution(data):\n",
    "    def convert_data(dates):\n",
    "        if \".\" in dates:\n",
    "            year, month, day = dates.split(\".\")\n",
    "        elif \"/\" in dates:\n",
    "            month, day, year = dates.split(\"/\")\n",
    "        else:\n",
    "            day, month, year = dates.split(\"-\")\n",
    "        return f\"{year}/{month}/{day}\"\n",
    "    return sorted(convert_data(i) for i in data)"
   ]
  },
  {
   "cell_type": "code",
   "execution_count": null,
   "metadata": {
    "vscode": {
     "languageId": "plaintext"
    }
   },
   "outputs": [],
   "source": [
    "def solution(data):\n",
    "    for idx, x in enumerate(data):\n",
    "        if x[2] == '-':\n",
    "            # 일-월-연 -> 연/월/일 포맷 변경\n",
    "            data[idx] = x[6:] + '/' + x[3:5] + '/' + x[0:2]\n",
    "        elif x[2] == '/':\n",
    "            # 월/일/연 -> 연/월/일 포맷 변경\n",
    "            data[idx] = x[6:] + '/' + x[0:2] + '/' + x[3:5]\n",
    "        elif x[4] == '.':\n",
    "            # 연.월.일 -> 연/월/일 포맷 변경\n",
    "            data[idx] = '/'.join(x.split('.'))\n",
    "\n",
    "    # 정렬\n",
    "    return sorted(data)"
   ]
  },
  {
   "cell_type": "code",
   "execution_count": null,
   "metadata": {
    "vscode": {
     "languageId": "plaintext"
    }
   },
   "outputs": [],
   "source": [
    "# 직관적인 좋은 풀이\n",
    "def solution(data):\n",
    "    result = []\n",
    "    # 연월일을 구분하는 기호가 들어있는지를 조건으로 사용\n",
    "    for date in data:\n",
    "        if '-' in date:\n",
    "            day, month, year = date.split('-')\n",
    "        elif '/' in date:\n",
    "            month, day, year = date.split('/')\n",
    "        elif '.' in date:\n",
    "            year, month, day = date.split('.')\n",
    "\n",
    "        fixed_date = f'{year}/{month}/{day}'\n",
    "        result.append(fixed_date)\n",
    "\n",
    "    return sorted(result)"
   ]
  },
  {
   "cell_type": "code",
   "execution_count": null,
   "metadata": {
    "vscode": {
     "languageId": "plaintext"
    }
   },
   "outputs": [],
   "source": [
    "# 모듈을 활용한 좋은 풀이\n",
    "def solution(data):\n",
    "    from datetime import datetime\n",
    "    result = []\n",
    "\n",
    "    for i in data:\n",
    "        if '-' in i:\n",
    "            date_format = '%d-%m-%Y'\n",
    "        elif '/' in i:\n",
    "            date_format = '%m/%d/%Y'\n",
    "        else:\n",
    "            date_format = '%Y.%m.%d'\n",
    "        \n",
    "        date = datetime.strptime(i, date_format)\n",
    "        result.append(date)\n",
    "    \n",
    "    result.sort()\n",
    "\n",
    "    return [i.strftime('%Y/%m/%d') for i in result]"
   ]
  },
  {
   "cell_type": "code",
   "execution_count": null,
   "metadata": {
    "vscode": {
     "languageId": "plaintext"
    }
   },
   "outputs": [],
   "source": [
    "def solution(data):\n",
    "    flat_data = []\n",
    "    for i in data:\n",
    "        if len(i.split('-')[0]) == 2:\n",
    "            flat_data.append(i.split('-')[2] + '/' + i.split('-')[1] + '/' + i.split('-')[0])\n",
    "        elif len(i.split('/')[0]) == 2:\n",
    "            flat_data.append(i.split('/')[2] + '/' + i.split('/')[0] + '/' + i.split('/')[1])\n",
    "        else:\n",
    "            flat_data.append(i.split('.')[0] + '/' + i.split('.')[1] + '/' + i.split('.')[2])\n",
    "    sorted_data = sorted(flat_data)\n",
    "    return sorted_data"
   ]
  },
  {
   "cell_type": "code",
   "execution_count": null,
   "metadata": {
    "vscode": {
     "languageId": "plaintext"
    }
   },
   "outputs": [],
   "source": [
    "def solution(data):\n",
    "    def convert_date(date):\n",
    "        if '-' in date:\n",
    "            day, month, year = date.split('-')\n",
    "        elif '/' in date:\n",
    "            month, day, year = date.split('/')\n",
    "        else:\n",
    "            year, month, day = date.split('.')\n",
    "\n",
    "        return year, month, day\n",
    "\n",
    "    converted_dates = [convert_date(date) for date in data]\n",
    "    sorted_dates = sorted(converted_dates)\n",
    "\n",
    "    return [\"/\".join(date) for date in sorted_dates]"
   ]
  },
  {
   "cell_type": "markdown",
   "metadata": {},
   "source": [
    "# 17번 문제"
   ]
  },
  {
   "cell_type": "code",
   "execution_count": null,
   "metadata": {
    "vscode": {
     "languageId": "plaintext"
    }
   },
   "outputs": [],
   "source": [
    "def solution(data):\n",
    "    l =[]\n",
    "    # i에 요일, j에 날짜를 넣고 반복 후 k에 리스트로 되어있는 날짜를 언패킹\n",
    "    for i, j in data.items():\n",
    "        for k in j:\n",
    "            date = k[2:]\n",
    "            l.append(f'{date} {i}')\n",
    "\n",
    "    sorted_date = sorted(l, reverse = True)\n",
    "    return sorted_date[0:3]"
   ]
  },
  {
   "cell_type": "code",
   "execution_count": null,
   "metadata": {
    "vscode": {
     "languageId": "plaintext"
    }
   },
   "outputs": [],
   "source": [
    "# 리스트 컴프리헨션을 활용한 좋은 풀이\n",
    "def solution(data):\n",
    "    result = [f\"{date[2:]} {day}\" for day, dates in data.items() for date in dates]\n",
    "    return sorted(result, reverse=True)[:3]"
   ]
  },
  {
   "cell_type": "code",
   "execution_count": null,
   "metadata": {
    "vscode": {
     "languageId": "plaintext"
    }
   },
   "outputs": [],
   "source": [
    "def solution(data):\n",
    "\n",
    "    new_dic = dict()\n",
    "\n",
    "    # 각 날짜를 키로 해당하는 요일을 값으로 변경\n",
    "    for k,v_l in data.items():\n",
    "        for v in v_l:\n",
    "            new_dic[v] = k\n",
    "\n",
    "    # 키(날짜)를 기준으로 내림차순 정렬\n",
    "    sorted_data = sorted(new_dic.items(), key= lambda x:x[0], reverse=True)\n",
    "\n",
    "    # 최근 3개 일정으로 슬라이싱\n",
    "    tmp_res = sorted_data[:3]\n",
    "\n",
    "    # 포맷 변경\n",
    "    # ('2024-01-26', '금') -> 24-01-26 금\n",
    "    res = list(map(lambda x: x[0][2:]+' '+ x[1], tmp_res))\n",
    "    return res"
   ]
  },
  {
   "cell_type": "code",
   "execution_count": null,
   "metadata": {
    "vscode": {
     "languageId": "plaintext"
    }
   },
   "outputs": [],
   "source": [
    "# 직관적인 좋은 풀이\n",
    "def solution(data):\n",
    "    flat_data = []\n",
    "\n",
    "    # 딕셔너리 data 를 key 값과 value 로 구분\n",
    "    for key, value in data.items():\n",
    "        for i in value:\n",
    "            # value 에서 값을 하나씩 꺼내서 앞에 2글자 자르고, 키값 합쳐서 flat_data에 넣는다.\n",
    "            flat_data.append(i[2:] + \" \" + key)\n",
    "    # flat_data 앞에 3개만 출력\n",
    "    return sorted(flat_data, reverse=True)[:3]"
   ]
  },
  {
   "cell_type": "code",
   "execution_count": null,
   "metadata": {
    "vscode": {
     "languageId": "plaintext"
    }
   },
   "outputs": [],
   "source": [
    "def solution(data):\n",
    "    from datetime import datetime\n",
    "    # 모든 일정을 담을 리스트\n",
    "    all_schedules = []\n",
    "\n",
    "    for day, dates in data.items():\n",
    "        for date in dates:\n",
    "            # 일정의 날짜를 datetime 객체로 변환\n",
    "            date_object = datetime.strptime(date, '%Y-%m-%d')\n",
    "            # 일정의 날짜와 요일을 튜플로 묶어서 리스트에 추가\n",
    "            all_schedules.append((date_object, day))\n",
    "\n",
    "    # 일정을 날짜에 따라 내림차순으로 정렬\n",
    "    all_schedules.sort(reverse=True)\n",
    "\n",
    "    # 최근 3개의 일정을 선택\n",
    "    recent_schedules = all_schedules[:3]\n",
    "\n",
    "    # 선택된 일정을 'YY-MM-DD 요일' 형식의 문자열로 변환\n",
    "    recent_schedules_str = [datetime.strftime(date, '%y-%m-%d') + ' ' + day for date, day in recent_schedules]\n",
    "    return recent_schedules_str"
   ]
  },
  {
   "cell_type": "code",
   "execution_count": null,
   "metadata": {
    "vscode": {
     "languageId": "plaintext"
    }
   },
   "outputs": [],
   "source": [
    "def solution(data):\n",
    "    all_schedules = []\n",
    "    \n",
    "    for day, dates in data.items():\n",
    "        for date in dates:\n",
    "            converted_date = f'{date[2:]} {day}'\n",
    "            all_schedules.append(converted_date)\n",
    "    all_schedules.sort(reverse=True)\n",
    "    return all_schedules[:3]"
   ]
  },
  {
   "cell_type": "code",
   "execution_count": null,
   "metadata": {
    "vscode": {
     "languageId": "plaintext"
    }
   },
   "outputs": [],
   "source": [
    "# 변수명이 직관적인 좋은 풀이\n",
    "def solution(data):\n",
    "    all_schedules = []\n",
    "\n",
    "    for day, dates in data.items():  #반복문 items 언패킹 #dict\n",
    "        for date in dates:  #이중 반복문\n",
    "            converted_date = f'{date[2:]} {day}'\n",
    "            all_schedules.append(converted_date)\n",
    "    all_schedules.sort(reverse = True) #sort 함수: 원본 변경\n",
    "    return all_schedules[:3]\n",
    "\n",
    "solution(dates)"
   ]
  },
  {
   "cell_type": "markdown",
   "metadata": {},
   "source": [
    "# 18번 문제"
   ]
  },
  {
   "cell_type": "code",
   "execution_count": null,
   "metadata": {
    "vscode": {
     "languageId": "plaintext"
    }
   },
   "outputs": [],
   "source": [
    "def solution(data):\n",
    "    result = []\n",
    "    for date, temperature in data.items():\n",
    "        result.append(f'{date[2:]}: {temperature}')\n",
    "\n",
    "    sorted_list = sorted(result, key = lambda x: x[-2:], reverse = True)\n",
    "\n",
    "    return sorted_list[:3]"
   ]
  },
  {
   "cell_type": "code",
   "execution_count": null,
   "metadata": {
    "vscode": {
     "languageId": "plaintext"
    }
   },
   "outputs": [],
   "source": [
    "# 리스트 컴프리헨션을 활용한 좋은 코드\n",
    "def solution(data):\n",
    "    temp_list = [(temp, date) for date, temp in data.items()]\n",
    "    temp_list.sort(key=lambda x: (-x[0], x[1]))\n",
    "    top_three = temp_list[:3]\n",
    "    return [f\"{date[2:]}: {temp}\" for temp, date in top_three]"
   ]
  },
  {
   "cell_type": "code",
   "execution_count": null,
   "metadata": {
    "vscode": {
     "languageId": "plaintext"
    }
   },
   "outputs": [],
   "source": [
    "temper_data = {'2024-01-01': 15, '2024-01-02': 17, '2024-01-03': 16, '2024-01-04': 20, '2024-01-05': 19, '2024-01-06': 21, '2024-01-07': 18}\n",
    "\n",
    "def solution(data):\n",
    "    l = [i for i in data.items()]\n",
    "    sorted_data = sorted(l, key = lambda x: x[1], reverse = True)\n",
    "    top_3 = sorted_data[:3]\n",
    "\n",
    "    return [f'{i[0]}: {i[1]}' for i in top_3]\n",
    "\n",
    "solution(temper_data)"
   ]
  },
  {
   "cell_type": "code",
   "execution_count": null,
   "metadata": {
    "vscode": {
     "languageId": "plaintext"
    }
   },
   "outputs": [],
   "source": [
    "# 제한사항을 잘 적용한 좋은 풀이\n",
    "def solution(data):\n",
    "    if 7 <= len(data) <= 30: # 기상 데이터의 수 제한\n",
    "        sorted_tmp = sorted(data.items(), key = lambda x:x[1], reverse=True) # 온도 높은 순 정렬 ; value 기준으로 내림차순 정렬\n",
    "        top3_list = [f'{day}: {tmp}' for day, tmp in sorted_tmp][:3] # 값의 형태 변경 : (날짜, 온도) -> '날짜: 온도' -> 상위 3일 기온으로 슬라이싱\n",
    "\n",
    "        # 문자열 형태 변경 : '2024-01-06: 21' -> '24-01-06: 21'\n",
    "        changed_str = []\n",
    "        for x in top3_list:\n",
    "            x = x[2:]\n",
    "            changed_str.append(x)\n",
    "        return changed_str\n",
    "    else:\n",
    "        msg ='잘못 입력하셨습니다. 기온 데이터를 최소 7개에서 최대 30개까지 입력해주세요.'\n",
    "        return msg"
   ]
  },
  {
   "cell_type": "code",
   "execution_count": null,
   "metadata": {
    "vscode": {
     "languageId": "plaintext"
    }
   },
   "outputs": [],
   "source": [
    "def solution(data):\n",
    "    sorted_data = sorted(data.items(), key=lambda item: (-item[1], item[0]))[:3]\n",
    "    return [f\"{key[2:]}: {value}\" for key, value in sorted_data]\n",
    "solution(data)"
   ]
  },
  {
   "cell_type": "code",
   "execution_count": null,
   "metadata": {
    "vscode": {
     "languageId": "plaintext"
    }
   },
   "outputs": [],
   "source": [
    "# 생각해볼만한 좋은 코드\n",
    "def solution(data):\n",
    "    import heapq\n",
    "    heap = []\n",
    "    for date, temp in data.items():\n",
    "        # 힙에 (온도, 날짜) 튜플을 추가\n",
    "        heapq.heappush(heap, (-temp, date))\n",
    "\n",
    "    result = []\n",
    "    for _ in range(3):\n",
    "        temp, date = heapq.heappop(heap)\n",
    "        result.append(date[2:] + ': ' + str(-temp))\n",
    "        \n",
    "    return result"
   ]
  },
  {
   "cell_type": "code",
   "execution_count": null,
   "metadata": {
    "vscode": {
     "languageId": "plaintext"
    }
   },
   "outputs": [],
   "source": [
    "def solution(data):\n",
    "\n",
    "    # 값 기준으로 정렬\n",
    "    sorted_data = sorted(data, key=lambda x: data[x], reverse=True)\n",
    "    select_data = []\n",
    "\n",
    "    for i in sorted_data:\n",
    "        for key, value in data.items():\n",
    "            if i == key:\n",
    "                select_data.append(i[2:] + \": \" + str(value))\n",
    "    return select_data[:3]"
   ]
  }
 ],
 "metadata": {
  "language_info": {
   "name": "python"
  }
 },
 "nbformat": 4,
 "nbformat_minor": 2
}
