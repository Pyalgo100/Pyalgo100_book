{
  "nbformat": 4,
  "nbformat_minor": 0,
  "metadata": {
    "colab": {
      "provenance": []
    },
    "kernelspec": {
      "name": "python3",
      "display_name": "Python 3"
    },
    "language_info": {
      "name": "python"
    }
  },
  "cells": [
    {
      "cell_type": "markdown",
      "source": [
        "# 문제 53번\n",
        "## 최대 분산 투자 (그리디)"
      ],
      "metadata": {
        "id": "1E_zL9iecBVv"
      }
    },
    {
      "cell_type": "code",
      "source": [
        "def solution(data):\n",
        "    opportunity, target = data\n",
        "    opportunity = sorted(opportunity)\n",
        "    result = []\n",
        "    for cost, company in opportunity:\n",
        "        if cost > target:\n",
        "            continue\n",
        "        result.append(company)\n",
        "        target -= cost\n",
        "        if target == 0:\n",
        "            break\n",
        "    return result"
      ],
      "metadata": {
        "id": "xfkCI9QmcY6R"
      },
      "execution_count": null,
      "outputs": []
    },
    {
      "cell_type": "code",
      "source": [
        "# 문제 53번\n",
        "def solution(data):\n",
        "    company_list, my_money = data\n",
        "    l = []\n",
        "    for company_money, company_name in company_list:\n",
        "        if my_money >= company_money:\n",
        "            l.append(company_name)\n",
        "            my_money -= company_money\n",
        "\n",
        "    return l"
      ],
      "metadata": {
        "id": "-hiK5PfacZq2"
      },
      "execution_count": null,
      "outputs": []
    },
    {
      "cell_type": "code",
      "source": [
        "def solution(data):\n",
        "    # 입력 데이터 분해: 투자 기회 목록과 사용 가능한 자본\n",
        "    investments, capital = data\n",
        "\n",
        "    # 투자 금액 기준으로 정렬하여 가장 적은 금액부터 투자할 수 있도록 함\n",
        "    investments.sort(key=lambda x: x[0])\n",
        "\n",
        "    selected_companies = []  # 선택된 기업들을 저장할 리스트\n",
        "    for cost, company in investments:\n",
        "        # 남은 자본으로 현재 투자를 진행할 수 있는지 확인\n",
        "        if capital >= cost:\n",
        "            selected_companies.append(company)  # 투자 가능한 기업 추가\n",
        "            capital -= cost  # 사용된 자본 감소\n",
        "\n",
        "    return selected_companies"
      ],
      "metadata": {
        "id": "YxegxtQsceNA"
      },
      "execution_count": null,
      "outputs": []
    },
    {
      "cell_type": "code",
      "source": [
        "# 53번\n",
        "def solution(data):\n",
        "    company, target = data\n",
        "    company = sorted(company, key=lambda x: x[0])\n",
        "    result = []\n",
        "\n",
        "    for money, name in company:\n",
        "        if target - money >= 0:\n",
        "            target -= money\n",
        "            result.append(name)\n",
        "\n",
        "        if target == 0:\n",
        "            break\n",
        "\n",
        "    return result"
      ],
      "metadata": {
        "id": "t4EnQHihchsu"
      },
      "execution_count": null,
      "outputs": []
    },
    {
      "cell_type": "code",
      "source": [
        "# 좋아요 6개\n",
        "\n",
        "def solution(data):\n",
        "    asset = data[1]\n",
        "    lst = sorted(filter(lambda x: x[0] <= asset, data[0]))\n",
        "    ret = []\n",
        "    for money, company in lst:\n",
        "        if asset < money:\n",
        "            break\n",
        "        asset -= money\n",
        "        ret.append(company)\n",
        "    return ret"
      ],
      "metadata": {
        "id": "B9FVWE5kcjt1"
      },
      "execution_count": null,
      "outputs": []
    },
    {
      "cell_type": "code",
      "source": [
        "def solution(data):\n",
        "    invest_op, seed = data\n",
        "    price_list = [x[0] for x in invest_op]\n",
        "    company_list = [x[1] for x in invest_op]\n",
        "\n",
        "    combination = []\n",
        "    for idx, price in enumerate(price_list):\n",
        "        if seed >= price:\n",
        "            seed -= price\n",
        "            company_name = company_list[idx]\n",
        "            combination.append(company_name)\n",
        "    return combination"
      ],
      "metadata": {
        "id": "kyOnqUUyyulm"
      },
      "execution_count": null,
      "outputs": []
    },
    {
      "cell_type": "markdown",
      "source": [
        "# 문제 54번\n",
        "## 로봇 청소기의 경로 계산 (행렬)\n",
        "Lv1"
      ],
      "metadata": {
        "id": "ws-IDIMMcmg8"
      }
    },
    {
      "cell_type": "code",
      "source": [
        "# 좋아요 7개\n",
        "\n",
        "def solution(data):\n",
        "    road, path = data[0], data[1]\n",
        "    row, col = 0, 0\n",
        "    ret = road[row][col]\n",
        "\n",
        "    for i in path:\n",
        "        if i == \"R\":\n",
        "            col += 1\n",
        "        elif i == \"D\":\n",
        "            row += 1\n",
        "        elif i == \"U\":\n",
        "            row -= 1\n",
        "        else:\n",
        "            col -= 1\n",
        "        if road[row][col] == 1:\n",
        "            ret += 1\n",
        "            road[row][col] = 0\n",
        "    return ret"
      ],
      "metadata": {
        "id": "aRhkze6BdJpu"
      },
      "execution_count": null,
      "outputs": []
    },
    {
      "cell_type": "code",
      "source": [
        "# 54번\n",
        "def solution(data):\n",
        "    matrix, joystick = data\n",
        "    robot = [0, 0]\n",
        "    count = 0\n",
        "\n",
        "    # 시작 위치가 1이면 1을 0으로 바꾸고 카운트 증가\n",
        "    if matrix[0][0] == 1:\n",
        "        count += 1\n",
        "        matrix[0][0] = 0\n",
        "\n",
        "    for i in joystick:\n",
        "        if i == 'R' and robot[1] >= 0 and robot[1] <= 3:\n",
        "            robot[1] += 1\n",
        "            count += matrix[robot[0]][robot[1]]\n",
        "            matrix[robot[0]][robot[1]] = 0\n",
        "        elif i == 'L' and robot[1] >= 0 and robot[1] <= 3:\n",
        "            robot[1] += -1\n",
        "            count += matrix[robot[0]][robot[1]]\n",
        "            matrix[robot[0]][robot[1]] = 0\n",
        "        elif i == 'U' and robot[0] >= 0 and robot[0] <= 2:\n",
        "            robot[0] += -1\n",
        "            count += matrix[robot[0]][robot[1]]\n",
        "            matrix[robot[0]][robot[1]] = 0\n",
        "        elif i == 'D' and robot[0] >= 0 and robot[0] <= 2:\n",
        "            robot[0] += 1\n",
        "            count += matrix[robot[0]][robot[1]]\n",
        "            matrix[robot[0]][robot[1]] = 0\n",
        "    return count"
      ],
      "metadata": {
        "id": "VwqZhAM7dYt1"
      },
      "execution_count": null,
      "outputs": []
    },
    {
      "cell_type": "code",
      "source": [
        "def solution(data):\n",
        "    room, path = data\n",
        "    rows, cols = len(room), len(room[0])\n",
        "    directions = {\"U\": (-1, 0), \"D\": (1, 0), \"L\": (0, -1), \"R\": (0, 1)}\n",
        "    cleaned_count = 0\n",
        "    x, y = 0, 0\n",
        "\n",
        "    if room[0][0] == 1:\n",
        "        cleaned_count += 1\n",
        "        room[0][0] = 0\n",
        "\n",
        "    for step in path:\n",
        "        dx, dy = directions[step]\n",
        "        nx, ny = x + dx, y + dy\n",
        "\n",
        "        # 경로가 방 안에 있고, 아직 청소되지 않은 칸이라면 청소\n",
        "        if 0 <= nx < rows and 0 <= ny < cols and room[nx][ny] == 1:\n",
        "            cleaned_count += 1\n",
        "            room[nx][ny] = 0  # 청소된 상태로 표시\n",
        "\n",
        "        # 로봇 위치 업데이트\n",
        "        if 0 <= nx < rows and 0 <= ny < cols:\n",
        "            x, y = nx, ny\n",
        "\n",
        "    return cleaned_count"
      ],
      "metadata": {
        "id": "64GCm8zXdd7P"
      },
      "execution_count": null,
      "outputs": []
    },
    {
      "cell_type": "code",
      "source": [
        "def solution(M, N, path):\n",
        "    room = [[1] * N for _ in range(M)]\n",
        "    cleaned = 0\n",
        "    x, y = 0, 0\n",
        "\n",
        "\n",
        "    directions = {'U': (-1, 0), 'D': (1, 0), 'L': (0, -1), 'R': (0, 1)}\n",
        "\n",
        "    for direction in path:\n",
        "        dx, dy = directions[direction]\n",
        "        nx, ny = x + dx, y + dy\n",
        "\n",
        "\n",
        "        if 0 <= nx < M and 0 <= ny < N and room[nx][ny] == 1:\n",
        "            x, y = nx, ny\n",
        "            cleaned += 1\n",
        "\n",
        "    return cleaned"
      ],
      "metadata": {
        "id": "92G3ssZIeQog"
      },
      "execution_count": null,
      "outputs": []
    },
    {
      "cell_type": "code",
      "source": [
        "def solution(data):\n",
        "    room, path = data\n",
        "    rows, cols = len(room), len(room[0])\n",
        "    directions = {\"U\": (-1, 0), \"D\": (1, 0), \"L\": (0, -1), \"R\": (0, 1)}\n",
        "    cleaned_count = 0\n",
        "    x, y = 0, 0\n",
        "\n",
        "    if room[0][0] == 1:\n",
        "        cleaned_count += 1\n",
        "        room[0][0] = 0\n",
        "\n",
        "    for step in path:\n",
        "        dx, dy = directions[step]\n",
        "        nx, ny = x + dx, y + dy\n",
        "\n",
        "        # 경로가 방 안에 있고, 아직 청소되지 않은 칸이라면 청소\n",
        "        if 0 <= nx < rows and 0 <= ny < cols and room[nx][ny] == 1:\n",
        "            cleaned_count += 1\n",
        "            room[nx][ny] = 0  # 청소된 상태로 표시\n",
        "\n",
        "        # 로봇 위치 업데이트\n",
        "        if 0 <= nx < rows and 0 <= ny < cols:\n",
        "            x, y = nx, ny\n",
        "\n",
        "    return cleaned_count"
      ],
      "metadata": {
        "id": "4lD4IbsNeSAS"
      },
      "execution_count": null,
      "outputs": []
    },
    {
      "cell_type": "code",
      "source": [
        "def solution(data):\n",
        "    room, path = data\n",
        "    # 로봇의 초기 위치\n",
        "    x, y = 0, 0\n",
        "\n",
        "    # 청소한 칸의 수 초기화\n",
        "    cleaned = 0\n",
        "\n",
        "    # 방향에 따른 움직임을 나타내는 딕셔너리\n",
        "    direction = {'U': (-1, 0), 'D': (1, 0), 'L': (0, -1), 'R': (0, 1)}\n",
        "\n",
        "    # 청소 시작\n",
        "    if room[x][y] == 1:\n",
        "        cleaned += 1\n",
        "        room[x][y] = 0\n",
        "\n",
        "    for move in path:\n",
        "        dx, dy = direction[move]\n",
        "        nx, ny = x + dx, y + dy\n",
        "\n",
        "        # 범위를 벗어나지 않는지 확인\n",
        "        if 0 <= nx < len(room) and 0 <= ny < len(room[0]):\n",
        "            x, y = nx, ny\n",
        "            # 청소가 필요한 칸인지 확인\n",
        "            if room[x][y] == 1:\n",
        "                cleaned += 1\n",
        "                room[x][y] = 0\n",
        "    return cleaned"
      ],
      "metadata": {
        "id": "2hIfQ2hLeS_Z"
      },
      "execution_count": null,
      "outputs": []
    },
    {
      "cell_type": "code",
      "source": [
        "def solution(data):\n",
        "\n",
        "    room = data[0] # 방 상태 행렬\n",
        "    path = data[1] # 경로\n",
        "\n",
        "    move_set = {'U', 'D', 'L', 'R'} # 움직일 수 있는 경우의 수\n",
        "\n",
        "    x = 0 # 초기 행\n",
        "    y = 0 # 초기 열\n",
        "\n",
        "    # 청소기 출발지점 정의\n",
        "    count = 0 # 청소기 출발지점이 청소된 칸(0)이라면\n",
        "    if room[x][y] == 1: # 청소기 출발지점이 청소되지 않은 칸(1)이라면,\n",
        "        count += 1\n",
        "        room[x][y] = 0 # 출발점에서 바로 청소하니 청소된 칸으로 변경\n",
        "\n",
        "    # 경로 이동\n",
        "    for move in path:\n",
        "\n",
        "        if move == 'U':\n",
        "            x -= 1\n",
        "\n",
        "        elif move == 'D':\n",
        "            x += 1\n",
        "\n",
        "        elif move == 'L':\n",
        "            y -= 1\n",
        "\n",
        "        elif move == 'R':\n",
        "            y +=1\n",
        "\n",
        "        # 방문한 칸 : room[행][열]\n",
        "        if room[x][y] == 1: # 방문한 칸이 1이면\n",
        "            count += 1\n",
        "            room[x][y] = 0 # 방문한 칸의 상태를 청소한 칸으로 변경\n",
        "\n",
        "    return count"
      ],
      "metadata": {
        "id": "RntW-BIdywxF"
      },
      "execution_count": null,
      "outputs": []
    },
    {
      "cell_type": "markdown",
      "source": [
        "# 문제 55번\n",
        "## 행렬 속 지뢰 찾기 (행렬)"
      ],
      "metadata": {
        "id": "81oZ0odneUIm"
      }
    },
    {
      "cell_type": "code",
      "source": [
        "# 좋아요 6개\n",
        "\n",
        "def solution(data):\n",
        "    result = sum(data,[])\n",
        "    return sum(result)"
      ],
      "metadata": {
        "id": "XyhL7gGpefoM"
      },
      "execution_count": null,
      "outputs": []
    },
    {
      "cell_type": "code",
      "source": [
        "# 55번\n",
        "def solution(data):\n",
        "    return sum(sum(i) for i in data)"
      ],
      "metadata": {
        "id": "kTofsL_yehG6"
      },
      "execution_count": null,
      "outputs": []
    },
    {
      "cell_type": "code",
      "source": [
        "def solution(data):\n",
        "    # 주어진 데이터를 행렬(matrix) 변수에 할당합니다.\n",
        "    matrix = data\n",
        "\n",
        "    # 1인 요소들의 개수를 세어 지뢰의 개수를 구합니다.\n",
        "    mine_count = sum(row.count(1) for row in matrix)\n",
        "\n",
        "    # 지뢰의 개수를 반환합니다.\n",
        "    return mine_count"
      ],
      "metadata": {
        "id": "ue_v7We9eh9z"
      },
      "execution_count": null,
      "outputs": []
    },
    {
      "cell_type": "code",
      "source": [
        "# 문제 55번\n",
        "\n",
        "def solution(data):\n",
        "    l = []\n",
        "    for i in data:\n",
        "        num = i.count(1)\n",
        "        l.append(num)\n",
        "\n",
        "    return sum(l)"
      ],
      "metadata": {
        "id": "cD8fPxoYei6x"
      },
      "execution_count": null,
      "outputs": []
    },
    {
      "cell_type": "code",
      "source": [
        "# 좋아요 6개\n",
        "\n",
        "def solution(data):\n",
        "    return sum(data, []).count(1)"
      ],
      "metadata": {
        "id": "-KMmDWnZej5y"
      },
      "execution_count": null,
      "outputs": []
    },
    {
      "cell_type": "code",
      "source": [
        "def solution(matrix):\n",
        "    mine_count = sum(row.count(1) for row in matrix)\n",
        "    return mine_count"
      ],
      "metadata": {
        "id": "aDqgFkEHelxF"
      },
      "execution_count": null,
      "outputs": []
    },
    {
      "cell_type": "code",
      "source": [
        "def solution(data):\n",
        "    count = 0\n",
        "    for row in data:\n",
        "        count += row.count(1)\n",
        "    return count"
      ],
      "metadata": {
        "id": "MgP_SXsHy4T8"
      },
      "execution_count": null,
      "outputs": []
    },
    {
      "cell_type": "markdown",
      "source": [
        "# 문제 56번\n",
        "## 행렬 속 지뢰 위치 찾기 (행렬)"
      ],
      "metadata": {
        "id": "u4dVOdomemmK"
      }
    },
    {
      "cell_type": "code",
      "source": [
        "# 좋아요 5개\n",
        "\n",
        "# 문제 56번\n",
        "\n",
        "def solution(data):\n",
        "    l = []\n",
        "    for i in range(len(data)):\n",
        "        for j in range(len(data[i])):\n",
        "            if data[i][j] == 1:\n",
        "                l.append((i,j))\n",
        "    return l"
      ],
      "metadata": {
        "id": "02UCVE2yeoLl"
      },
      "execution_count": null,
      "outputs": []
    },
    {
      "cell_type": "code",
      "source": [
        "# 좋아요 5개\n",
        "\n",
        "def solution(data):\n",
        "    mines = []\n",
        "    for i in range(len(data)):\n",
        "        for j in range(len(data[i])):\n",
        "            if data[i][j] == 1:\n",
        "                mines.append((i, j))\n",
        "    return mines"
      ],
      "metadata": {
        "id": "3jzy4kY7eu2q"
      },
      "execution_count": null,
      "outputs": []
    },
    {
      "cell_type": "code",
      "source": [
        "# 56번\n",
        "def solution(data):\n",
        "    answer_list = []\n",
        "\n",
        "    for row_num, row in enumerate(data, 0):\n",
        "        for col_num, col in enumerate(row, 0):\n",
        "            if col == 1:\n",
        "                answer_list.append((row_num, col_num))\n",
        "    return answer_list"
      ],
      "metadata": {
        "id": "ZVb04qAAeweN"
      },
      "execution_count": null,
      "outputs": []
    },
    {
      "cell_type": "code",
      "source": [
        "def solution(data):\n",
        "    ret = []\n",
        "    for row, col in enumerate(data):\n",
        "        for i in range(len(col)):\n",
        "            if col[i] == 1:\n",
        "                ret.append((row, i))\n",
        "    return ret"
      ],
      "metadata": {
        "id": "pzcfFHW9exu6"
      },
      "execution_count": null,
      "outputs": []
    },
    {
      "cell_type": "code",
      "source": [
        "def solution(matrix):\n",
        "    mine_locations = []\n",
        "    for i in range(len(matrix)):\n",
        "        for j in range(len(matrix[0])):\n",
        "            if matrix[i][j] == 1:\n",
        "                mine_locations.append((i, j))\n",
        "    return mine_locations"
      ],
      "metadata": {
        "id": "ctECg-24ezBe"
      },
      "execution_count": null,
      "outputs": []
    },
    {
      "cell_type": "code",
      "source": [
        "# 좋아요 6개\n",
        "\n",
        "def solution(matrix):\n",
        "    mine_locations = [(row, col) for row, row_data in enumerate(matrix) for col, value in enumerate(row_data) if value == 1]\n",
        "    return mine_locations"
      ],
      "metadata": {
        "id": "3aZzVKBSe0Fc"
      },
      "execution_count": null,
      "outputs": []
    },
    {
      "cell_type": "code",
      "source": [
        "def solution(data):\n",
        "    stack = []\n",
        "    for row_idx, row_data in enumerate(data):\n",
        "        for col_idx, col_data in enumerate(row_data):\n",
        "            if data[row_idx][col_idx] == 1:\n",
        "                point = (row_idx, col_idx)\n",
        "                stack.append(point)\n",
        "    return stack"
      ],
      "metadata": {
        "id": "rdcl_tisy6Jc"
      },
      "execution_count": null,
      "outputs": []
    },
    {
      "cell_type": "markdown",
      "source": [
        "# 문제 57번\n",
        "## 행렬 조건 검사 (행렬, 조건 검사)"
      ],
      "metadata": {
        "id": "KZDumqcVe1JO"
      }
    },
    {
      "cell_type": "code",
      "source": [
        "def solution(data):\n",
        "    matrix, condition = data\n",
        "    matrix  = sum(matrix, [])\n",
        "    for i in matrix:\n",
        "        if i % condition != 0:\n",
        "            return False\n",
        "    return True"
      ],
      "metadata": {
        "id": "7y9Me0MefMKU"
      },
      "execution_count": null,
      "outputs": []
    },
    {
      "cell_type": "code",
      "source": [
        "# 문제 57번\n",
        "\n",
        "def solution(data):\n",
        "    l = []\n",
        "    data_list, num = data\n",
        "    for i in data_list:\n",
        "        for j in range(len(i)):\n",
        "            if i[j] % num == 0:\n",
        "                l.append(True)\n",
        "            else:\n",
        "                l.append(False)\n",
        "\n",
        "    if False in l:\n",
        "        return False\n",
        "    else:\n",
        "        return True"
      ],
      "metadata": {
        "id": "2kDgr9Y5fMbJ"
      },
      "execution_count": null,
      "outputs": []
    },
    {
      "cell_type": "code",
      "source": [
        "def solution(data):\n",
        "    mat, num = data[0], data[1]\n",
        "    mat = sum(mat, [])\n",
        "    return all([True if i % num == 0 else False for i in mat])"
      ],
      "metadata": {
        "id": "rVZcrTPffOBs"
      },
      "execution_count": null,
      "outputs": []
    },
    {
      "cell_type": "code",
      "source": [
        "def solution(data):\n",
        "    matrix, div = data\n",
        "    for row in matrix:\n",
        "        if any(value % div != 0 for value in row):\n",
        "            return False\n",
        "    return True"
      ],
      "metadata": {
        "id": "PB1P1kvmfPDE"
      },
      "execution_count": null,
      "outputs": []
    },
    {
      "cell_type": "code",
      "source": [
        "# 좋아요 7개\n",
        "\n",
        "# 57번\n",
        "def solution(data):\n",
        "    return all(sum(row) % data[1] == 0 for row in data[0])"
      ],
      "metadata": {
        "id": "aa028G8CfQkT"
      },
      "execution_count": null,
      "outputs": []
    },
    {
      "cell_type": "code",
      "source": [
        "def solution(matrix, condition):\n",
        "    # 행렬의 각 요소를 순회합니다.\n",
        "    for i in range(len(matrix)):\n",
        "        for j in range(len(matrix[0])):\n",
        "            # 만약 요소가 주어진 조건의 배수가 아니라면 False를 반환합니다.\n",
        "            if matrix[i][j] % condition != 0:\n",
        "                return False\n",
        "    # 모든 요소가 주어진 조건의 배수인 경우 True를 반환합니다.\n",
        "    return True"
      ],
      "metadata": {
        "id": "LB4_2hjIfSL2"
      },
      "execution_count": null,
      "outputs": []
    },
    {
      "cell_type": "code",
      "source": [
        "def solution(data):\n",
        "    matrix = data[0]\n",
        "    condition = data[1]\n",
        "\n",
        "    for row in matrix:\n",
        "        false_count = list(map(lambda x:x%condition == 0, row)).count(False)\n",
        "        if false_count > 0:\n",
        "            return False\n",
        "    else:\n",
        "        return True"
      ],
      "metadata": {
        "id": "tN7FoUg3y9LB"
      },
      "execution_count": null,
      "outputs": []
    },
    {
      "cell_type": "markdown",
      "source": [
        "# 문제 58번\n",
        "## 행렬 90도 회전하기 (행렬)\n",
        "Lv1"
      ],
      "metadata": {
        "id": "-KINZk3wfTZB"
      }
    },
    {
      "cell_type": "code",
      "source": [
        "def solution(matrix):\n",
        "    if not matrix or len(matrix) != len(matrix[0]):\n",
        "        return \"Error\"\n",
        "    return [list(reversed(row)) for row in zip(*matrix)]"
      ],
      "metadata": {
        "id": "QoXLNpjTfe0m"
      },
      "execution_count": null,
      "outputs": []
    },
    {
      "cell_type": "code",
      "source": [
        "def solution(data):\n",
        "    if len(data) != len(data[0]): # 행의 갯수와 열의 갯수가 다르다면\n",
        "        return 'Error'\n",
        "\n",
        "    import copy\n",
        "\n",
        "    arr = copy.deepcopy(data)\n",
        "\n",
        "    length = len(data)\n",
        "    for r_idx in range(length):\n",
        "        for c_idx in range(length):\n",
        "            # 90도 회전 규칙 : (x, y) -> (y, len(data)-x-1)\n",
        "            arr[c_idx][length-r_idx-1] = data[r_idx][c_idx]\n",
        "    return arr"
      ],
      "metadata": {
        "id": "qUi9fttgy_9m"
      },
      "execution_count": null,
      "outputs": []
    }
  ]
}