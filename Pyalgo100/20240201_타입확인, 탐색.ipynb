{
 "cells": [
  {
   "cell_type": "code",
   "execution_count": null,
   "id": "8f9be000-2478-454c-9875-62752796a60c",
   "metadata": {},
   "outputs": [],
   "source": [
    "19번 문제"
   ]
  },
  {
   "cell_type": "code",
   "execution_count": null,
   "id": "e1048d82-7c66-47d8-8e6d-a66c2127ab6e",
   "metadata": {},
   "outputs": [],
   "source": [
    "def solution(data):\n",
    "    l = []\n",
    "    for i in data:\n",
    "        l.append(str(type(i))[8:-2])\n",
    "    return l"
   ]
  },
  {
   "cell_type": "code",
   "execution_count": null,
   "id": "a552f9b2-7b56-4b6b-b926-9f0e016fa9bc",
   "metadata": {},
   "outputs": [],
   "source": [
    "def solution(data):\n",
    "    return [str(type(idx)).split(\"'\")[1] for idx in data]"
   ]
  },
  {
   "cell_type": "code",
   "execution_count": null,
   "id": "c902679d-bc17-4e6e-a7ab-a538b4bd1872",
   "metadata": {},
   "outputs": [],
   "source": [
    "def solution(data):\n",
    "    import re\n",
    "    for idx, x in enumerate(data):\n",
    "        pattern = re.compile('[a-zA-Z]+')\n",
    "        # t = pattern.findall(str(type(i))) # ['class', 'int']\n",
    "        t = pattern.findall(str(type(x)))[1]\n",
    "        data[idx] = t\n",
    "    return data"
   ]
  },
  {
   "cell_type": "code",
   "execution_count": null,
   "id": "fe01fa0b-79dd-4144-86f8-2af85141f18a",
   "metadata": {},
   "outputs": [],
   "source": [
    "data = [123, 4.56, 'hello', [1, 2, 3], (4, 5), {'a': 1, 'b': 2}]\n",
    "\n",
    "['int', 'float', 'str', 'list', 'tuple', 'dict']\n",
    "\n",
    "def solution(data):\n",
    "    return [type(i).name for i in data]\n",
    "\n",
    "solution(data)\n",
    "a = 123\n",
    "type(a)   ##int\n",
    "str(type(a))    ##<class 'int'>\n",
    "type(a).name    ##'int'    ##name 매직 메서드"
   ]
  },
  {
   "cell_type": "code",
   "execution_count": null,
   "id": "7ee7ab53-b0ef-491a-992f-95977fb89a80",
   "metadata": {},
   "outputs": [],
   "source": [
    "def solution(data):\n",
    "    types = [type(x).__name__ for x in data]\n",
    "    return types"
   ]
  },
  {
   "cell_type": "code",
   "execution_count": null,
   "id": "844d0457-99d1-43c6-be6e-501a8dd343a5",
   "metadata": {},
   "outputs": [],
   "source": [
    "def solution(data):\n",
    "    answer = []\n",
    "    for i in data:\n",
    "        answer.append(str(type(i))[8:-2])\n",
    "    return answerdef solution(data):\n",
    "    type_name = []\n",
    "\n",
    "    for item in data:\n",
    "        item_type = type(item).__name__\n",
    "        type_name.append(item_type)\n",
    "    return type_name\n",
    "# 예제 입력 데이터\n",
    "data = [123, 4.56, 'hello', [1, 2, 3], (4, 5), {'a': 1, 'b': 2}]\n",
    "\n",
    "# 데이터 타입 이름 리스트 반환\n",
    "result = solution(data)\n",
    "print(result)"
   ]
  },
  {
   "cell_type": "code",
   "execution_count": null,
   "id": "903f5eaf-6f51-4139-8dc4-12891e3ff1cd",
   "metadata": {},
   "outputs": [],
   "source": [
    "def solution(data):\n",
    "    type_names = []\n",
    "\n",
    "    for data in data:\n",
    "        data_type = type(data).__name__\n",
    "        type_names.append(data_type)\n",
    "    return type_names"
   ]
  },
  {
   "cell_type": "code",
   "execution_count": null,
   "id": "1d9ff3a1-c1bf-4272-a747-b56f8097bc30",
   "metadata": {},
   "outputs": [],
   "source": [
    "20번 문제"
   ]
  },
  {
   "cell_type": "code",
   "execution_count": null,
   "id": "0ff5e611-4b19-409a-8226-738d18efa15d",
   "metadata": {},
   "outputs": [],
   "source": [
    "def solution(data):\n",
    "    for class_name, instance in data:\n",
    "        if type(instance).__name__ != class_name:\n",
    "            return False\n",
    "    return True"
   ]
  },
  {
   "cell_type": "code",
   "execution_count": null,
   "id": "f9020eb1-b13d-4e5f-a14c-1bb731ea0987",
   "metadata": {},
   "outputs": [],
   "source": [
    "def solution(data):\n",
    "    result = True\n",
    "\n",
    "    for class_name, instance in data:\n",
    "        instance_type = type(instance).__name__\n",
    "        if class_name != instance_type:\n",
    "            result = False\n",
    "            break # 모든 튜플을 돌지않고 첫번째 false가 반환되면 멈추게하기 위해서\n",
    "    return result"
   ]
  },
  {
   "cell_type": "code",
   "execution_count": null,
   "id": "475972ab-1a36-4abf-9dfa-103da82f49b0",
   "metadata": {},
   "outputs": [],
   "source": [
    "def solution(data):\n",
    "    result = list(filter(lambda x: x[0] in str(type(x[1])), data))\n",
    "    return True if len(data) == len(result) else False"
   ]
  },
  {
   "cell_type": "code",
   "execution_count": null,
   "id": "37fe1eeb-d5e2-4362-a9e1-e96c52d10639",
   "metadata": {},
   "outputs": [],
   "source": [
    "def solution(data):\n",
    "    l =[]\n",
    "    for i in data:\n",
    "        # 튜플의 0번째 요소에서 '' 을 제거\n",
    "        # 튜플의 1번째 요소에서 타입을 확인 후 타입의 이름만 인덱싱\n",
    "        data_str = i[0].replace(\"'\", \"\")\n",
    "        data_type = str(type(i[1]))[8:-2]\n",
    "\n",
    "        # 위의 두 요소가 일치하면 True, 아니면 False를 리스트 l에 반환\n",
    "        if data_type == data_str:\n",
    "            l.append(True)\n",
    "        else:\n",
    "            l.append(False)\n",
    "\n",
    "    # 리스트 l에 False가 있다면 결과로 False를 반환, 아니면 True를 반환\n",
    "    if False in l:\n",
    "        return False\n",
    "    else:\n",
    "        return True"
   ]
  },
  {
   "cell_type": "code",
   "execution_count": null,
   "id": "e6c4efc5-c06d-4ffa-93db-9202144bf50c",
   "metadata": {},
   "outputs": [],
   "source": [
    "def solution(data):\n",
    "    for i, (cl, ins) in enumerate(data):\n",
    "        # print(i) # 0\n",
    "        # print(cl) # 'list'\n",
    "        # print(ins) # [1, 2, 3]\n",
    "        t = str(type(ins)).split(' ')[1][1:-2] # type 부분만 str로 추출\n",
    "        if cl == t: # 클래스가 인스턴스의 타입과 같다면\n",
    "            continue\n",
    "        else:\n",
    "            return bool(cl == t)\n",
    "    else: # for 문이 중간에 반환 없이 다 도는 경우\n",
    "        return True\n",
    "\n",
    "# 반환되는 값이 str이 아니라 boolean 연산이어야하는 것!"
   ]
  },
  {
   "cell_type": "code",
   "execution_count": null,
   "id": "5358faa1-5b0c-4ec5-934d-256a4f2ea1d8",
   "metadata": {},
   "outputs": [],
   "source": [
    "def solution(data):\n",
    "    for i in data:\n",
    "        if i[0] != str(type(i[1]))[8:-2]:\n",
    "            return False\n",
    "    return True"
   ]
  },
  {
   "cell_type": "code",
   "execution_count": null,
   "id": "50da481e-b62d-472d-9f9e-030a5da62e03",
   "metadata": {},
   "outputs": [],
   "source": [
    "data = ['1', '2', 3, 'hello']\n",
    "data2 = ['1', '2', '3', 'hello']\n",
    "\n",
    "def solution(data):\n",
    "    return all([type(i).name == 'str' for i in data])  ##[True, True, False, True]\n",
    "\n",
    "solution(data)"
   ]
  },
  {
   "cell_type": "code",
   "execution_count": null,
   "id": "4d7a59a3-0227-41fa-8fc6-c25bd577a8a2",
   "metadata": {},
   "outputs": [],
   "source": [
    "21번 문제"
   ]
  },
  {
   "cell_type": "code",
   "execution_count": null,
   "id": "ed6349cd-4934-47a0-9ce4-f9a7c48373c7",
   "metadata": {},
   "outputs": [],
   "source": [
    "def solution(data):\n",
    "    # 데이터 값 언패킹\n",
    "    data_list, target_num = data\n",
    "\n",
    "    if target_num in data_list:\n",
    "        return(data_list.index(target_num))\n",
    "    else:\n",
    "        return(False)"
   ]
  },
  {
   "cell_type": "code",
   "execution_count": null,
   "id": "012ca4b4-bdc1-4401-8580-29c320da0a0c",
   "metadata": {},
   "outputs": [],
   "source": [
    "def solution(data):\n",
    "    s, target = data\n",
    "    return s.index(target) if target in s else False"
   ]
  },
  {
   "cell_type": "code",
   "execution_count": null,
   "id": "50aabc5f-e772-43ef-a353-2b89d5ba43ca",
   "metadata": {},
   "outputs": [],
   "source": [
    "def solution(data):\n",
    "    return data[0].index(data[-1]) if data[-1] in data[0] else False"
   ]
  },
  {
   "cell_type": "code",
   "execution_count": null,
   "id": "9fcdedf9-c464-4d59-86fe-5b850a797cf3",
   "metadata": {},
   "outputs": [],
   "source": [
    "def solution(data):\n",
    "    array, num = data\n",
    "    return array.index(num) if num in array else False"
   ]
  },
  {
   "cell_type": "code",
   "execution_count": null,
   "id": "4a0a255b-312b-4052-99da-bf069d8c239d",
   "metadata": {},
   "outputs": [],
   "source": [
    "def solution(data):\n",
    "    arr, target = data\n",
    "    try:\n",
    "        res = arr.index(target)\n",
    "    except:\n",
    "        res = bool(target in arr)\n",
    "    return res"
   ]
  },
  {
   "cell_type": "code",
   "execution_count": null,
   "id": "dc726fed-2158-4d6e-a3fc-24cdecc6916d",
   "metadata": {},
   "outputs": [],
   "source": [
    "def solution(data):\n",
    "    my_list, target = data\n",
    "    if target in my_list:\n",
    "        return my_list.index(target)\n",
    "    return False"
   ]
  },
  {
   "cell_type": "code",
   "execution_count": null,
   "id": "c0d69bf1-69de-4fd2-acdc-b2e2ecdc3673",
   "metadata": {},
   "outputs": [],
   "source": [
    "def solution(data):\n",
    "    data1, data2 = data\n",
    "    for num, value in enumerate(data1, 0):\n",
    "        if value == data2:\n",
    "            return num\n",
    "    return False"
   ]
  },
  {
   "cell_type": "code",
   "execution_count": null,
   "id": "cf471d59-81b9-4e62-b9cc-425aec0fa5aa",
   "metadata": {},
   "outputs": [],
   "source": [
    "22번 문제"
   ]
  },
  {
   "cell_type": "code",
   "execution_count": null,
   "id": "2a750c4e-f766-49e3-a2af-027495987299",
   "metadata": {},
   "outputs": [],
   "source": [
    "# 문제 22번\n",
    "# 위 문제에서 문자열로만 바뀐 형태\n",
    "\n",
    "def solution(data):\n",
    "    data_list, target_str = data\n",
    "    if target_str in data_list:\n",
    "        return(data_list.index(target_str))\n",
    "    else:\n",
    "        return(False)"
   ]
  },
  {
   "cell_type": "code",
   "execution_count": null,
   "id": "95a0df3b-fcb2-46bb-a00f-4d774761efa4",
   "metadata": {},
   "outputs": [],
   "source": [
    "def solution(data):\n",
    "    a, b = data\n",
    "    return a.index(b) if b in a else False"
   ]
  },
  {
   "cell_type": "code",
   "execution_count": null,
   "id": "d64b9f4c-92a2-4a7a-873d-e3303854fd6b",
   "metadata": {},
   "outputs": [],
   "source": [
    "def solution(data):\n",
    "    return data[0].index(data[-1]) if data[-1] in data[0] else False "
   ]
  },
  {
   "cell_type": "code",
   "execution_count": null,
   "id": "593d56fa-fa83-42d1-b334-942cf618b4d1",
   "metadata": {},
   "outputs": [],
   "source": [
    "def solution(data):\n",
    "    for i, c in enumerate(data[0]): # i: index, c:i번째 문자\n",
    "        t = data[1] # 타겟 문자\n",
    "        crit = c == t # i번째 문자 c가 타겟문자와 같은지 boolean 연산 정의\n",
    "        # print(crit)\n",
    "\n",
    "        if crit == True:\n",
    "            return i # 해당 인덱스 출력\n",
    "        else:\n",
    "            # print(crit)\n",
    "            continue\n",
    "    else: # 타겟문자가 문자열에 존재하지 않아 for문을 다 돈 경우\n",
    "        return crit"
   ]
  },
  {
   "cell_type": "code",
   "execution_count": null,
   "id": "c711bf86-9017-4ee6-8a32-59fc8431fc45",
   "metadata": {},
   "outputs": [],
   "source": [
    "data = ('hello', 'e')\n",
    "data2 = ('world', 'a')\n",
    "\n",
    "def solution(data):\n",
    "    a, b = data\n",
    "    return  a.index(b) if b in a else False\n",
    "\n",
    "solution(data)"
   ]
  },
  {
   "cell_type": "code",
   "execution_count": null,
   "id": "2f7ba1a8-5bfd-422b-af67-4f169c7583b7",
   "metadata": {},
   "outputs": [],
   "source": [
    "def solution(data):\n",
    "    word, idx = data\n",
    "    return word.index(idx) if idx in word else Fals"
   ]
  },
  {
   "cell_type": "code",
   "execution_count": null,
   "id": "e2ccae31-5876-423c-9a5b-aa3cfdf8d978",
   "metadata": {},
   "outputs": [],
   "source": [
    "def solution(data):\n",
    "    data1, data2 = data\n",
    "    try:\n",
    "        return data1.index(data2)\n",
    "    except ValueError:\n",
    "        return False"
   ]
  },
  {
   "cell_type": "code",
   "execution_count": null,
   "id": "b2ff86af-995c-4552-9303-1eb584ae68de",
   "metadata": {},
   "outputs": [],
   "source": [
    "23번 문제"
   ]
  },
  {
   "cell_type": "code",
   "execution_count": null,
   "id": "62b406f8-6f63-4f37-aa68-95569e22c3ae",
   "metadata": {},
   "outputs": [],
   "source": [
    "def solution(data):\n",
    "    my_list, target = data\n",
    "    my_list = sum(my_list, [])\n",
    "    if target in my_list:\n",
    "        return True\n",
    "    return False"
   ]
  },
  {
   "cell_type": "code",
   "execution_count": null,
   "id": "6404d1fa-2ae8-4c7e-8ea6-62e3563d9023",
   "metadata": {},
   "outputs": [],
   "source": [
    "def solution(data):\n",
    "    # 데이터 패킹\n",
    "    data_list1, target_num = data\n",
    "    l = []\n",
    "\n",
    "    # target_num이 data_list2에 존재한다면 True를 리스트에 반환, 아니면 False를 반환\n",
    "    for data_list2 in data_list1:\n",
    "        if target_num in data_list2:\n",
    "            l.append(True)\n",
    "        else:\n",
    "            l.append(False)\n",
    "    # 리스트 안의 True의 개수가 1개 이상이라면 True 반환, 아니면 False 반환\n",
    "    if l.count(True) >= 1:\n",
    "        return True\n",
    "    else:\n",
    "        return False"
   ]
  },
  {
   "cell_type": "code",
   "execution_count": null,
   "id": "7cf6bd68-979d-48d1-913b-56b79eb14963",
   "metadata": {},
   "outputs": [],
   "source": [
    "def solution(data):\n",
    "    matrix, target = data\n",
    "    return any([target in row for row in matrix])"
   ]
  },
  {
   "cell_type": "code",
   "execution_count": null,
   "id": "1b146411-4c2a-4f1c-86c2-0dee57633176",
   "metadata": {},
   "outputs": [],
   "source": [
    "def solution(data):\n",
    "    array, num = data\n",
    "    array = sum(array, [])\n",
    "    return True if num in array else False"
   ]
  },
  {
   "cell_type": "code",
   "execution_count": null,
   "id": "7bec674a-d609-4d85-8ec8-513b73df4667",
   "metadata": {},
   "outputs": [],
   "source": [
    "data = ([[1, 3, 5], [7, 9, 11], [13, 15, 17]], 7)\n",
    "data2 = ([[2, 4, 6], [8, 10, 12], [14, 16, 18]], 13)\n",
    "\n",
    "def solution(data):\n",
    "    a, b = data\n",
    "    for i in a:\n",
    "        if b in i:\n",
    "            return True\n",
    "    return False        #False return문의 위치\n",
    "\n",
    "\n",
    "solution(data)"
   ]
  },
  {
   "cell_type": "code",
   "execution_count": null,
   "id": "6bcea184-0a81-4282-a539-424b38f8e8f9",
   "metadata": {},
   "outputs": [],
   "source": [
    "data = ([[1, 3, 5], [7, 9, 11], [13, 15, 17]], 7)\n",
    "data2 = ([[2, 4, 6], [8, 10, 12], [14, 16, 18]], 13)\n",
    "\n",
    "def solution(data):\n",
    "    a, b = data\n",
    "    for i in a:\n",
    "        if b in i:\n",
    "            return True\n",
    "    return False        #False return문의 위치\n",
    "\n",
    "\n",
    "solution(data)"
   ]
  },
  {
   "cell_type": "code",
   "execution_count": null,
   "id": "95fd300b-7820-4e6e-b99d-2531a76c510d",
   "metadata": {},
   "outputs": [],
   "source": [
    "def solution(data):\n",
    "    arr2d = data[0]\n",
    "    target = data[1]\n",
    "    arr = sum(arr2d, []) # 평탄화\n",
    "    crit = target in arr # bool 연산\n",
    "    if crit:\n",
    "        res = True\n",
    "    else:\n",
    "        res = False\n",
    "    return res"
   ]
  },
  {
   "cell_type": "code",
   "execution_count": null,
   "id": "1bdc7e76-cb3b-4899-bb23-7116e6f45eb3",
   "metadata": {},
   "outputs": [],
   "source": [
    "def solution(data):\n",
    "    target = data[-1]  # 주어진 데이터 리스트의 마지막 요소를 타겟 숫자로 설정\n",
    "    matrix = data[0]  # 2차원 배열 - [[1, 3, 5], [7, 9, 11], [13, 15, 17]]\n",
    "    new_list = []\n",
    "    \n",
    "    for list in matrix:\n",
    "        for number in list:\n",
    "            new_list.append(number)\n",
    "    \n",
    "    return new_list.count(target) > 0"
   ]
  },
  {
   "cell_type": "code",
   "execution_count": null,
   "id": "ad975b5f-8f9d-42e4-adde-1fd3d9bc404d",
   "metadata": {},
   "outputs": [],
   "source": [
    "# 첫번째\n",
    "def solution(data):\n",
    "    data1, data2 = data\n",
    "    for value_list in data1:\n",
    "        for i in value_list:\n",
    "            if i == data2:\n",
    "                return True\n",
    "\n",
    "# 두번째\n",
    "def solution(data):\n",
    "    data1, data2 = data\n",
    "    data1 = sum(data1, [])\n",
    "    return True if data2 in data1 else False"
   ]
  },
  {
   "cell_type": "code",
   "execution_count": null,
   "id": "8c0e6ad6-4af6-4529-8f6b-7a5d8fd9e677",
   "metadata": {},
   "outputs": [],
   "source": [
    "24번 문제"
   ]
  },
  {
   "cell_type": "code",
   "execution_count": null,
   "id": "fab2de96-3769-4db7-b424-ee6cd5f74558",
   "metadata": {},
   "outputs": [],
   "source": [
    "def solution(data):\n",
    "    l = []\n",
    "    '''\n",
    "    i, j 값을 리스트의 길이만큼 반복시켜 데이터의 인덱싱 값으로 사용\n",
    "    j가 i 값보다 크다는 조건을 넣어 값이 없는 리스트를 생성하지 않도록 함\n",
    "    '''\n",
    "    for i in range(len(data)):\n",
    "        for j in range(len(data)):\n",
    "            if j > i:\n",
    "                l.append(data[i:j])\n",
    "\n",
    "    max_value = float('-inf')\n",
    "\n",
    "    for num in l:\n",
    "        if sum(num) > max_value:\n",
    "            max_value = sum(num)\n",
    "\n",
    "\n",
    "    return max_value"
   ]
  },
  {
   "cell_type": "code",
   "execution_count": null,
   "id": "a5f5755b-c15d-404c-8ea0-d3f02b7fd9f8",
   "metadata": {},
   "outputs": [],
   "source": [
    "def solution(data):\n",
    "    max_sum = curr_sum = data[0]\n",
    "    for num in data[1:]:\n",
    "        curr_sum = max(num, curr_sum + num)\n",
    "        max_sum = max(max_sum, curr_sum)\n",
    "    return max_sum"
   ]
  },
  {
   "cell_type": "code",
   "execution_count": null,
   "id": "605aad6f-0082-4679-82c7-85bba083784a",
   "metadata": {},
   "outputs": [],
   "source": [
    "max_sum = current_sum = data[0]  ##처음부터 순서대로 더한다.\n",
    "\n",
    "def solution(data):\n",
    "    if not data:\n",
    "        return 0\n",
    "\n",
    "    for i in data[1:]:\n",
    "        current_sum = max(i, current_sum + i)  ##max(): 최대값\n",
    "        max_sum = max(max_sum, current_sum)\n",
    "\n",
    "    return max_sum"
   ]
  },
  {
   "cell_type": "code",
   "execution_count": null,
   "id": "73c143da-bc06-4bb3-9216-685f8580c168",
   "metadata": {},
   "outputs": [],
   "source": [
    "def solution(data):\n",
    "    max_so_far = data[0]\n",
    "    max_ending_here = data[0]\n",
    "    \n",
    "    for i in range(1, len(data)):\n",
    "        max_ending_here = max(data[i], max_ending_here + data[i])\n",
    "        max_so_far = max(max_so_far, max_ending_here)\n",
    "            \n",
    "    return max_so_far"
   ]
  },
  {
   "cell_type": "code",
   "execution_count": null,
   "id": "b1e8d296-b612-4584-91b4-dea078e5dbdb",
   "metadata": {},
   "outputs": [],
   "source": [
    "def solution(data):\n",
    "    # 배열의 첫번째 값으로 현재값과 가장 큰 값을 설정\n",
    "    currentValue = maxValue = data[0]\n",
    "\n",
    "    # 첫번째는 빼고, 순회\n",
    "    for num in data[1:]:\n",
    "        currentValue = max(num, currentValue + num)\n",
    "        maxValue = max(maxValue, currentValue)\n",
    "\n",
    "    return maxValue"
   ]
  }
 ],
 "metadata": {
  "kernelspec": {
   "display_name": "Python 3 (ipykernel)",
   "language": "python",
   "name": "python3"
  },
  "language_info": {
   "codemirror_mode": {
    "name": "ipython",
    "version": 3
   },
   "file_extension": ".py",
   "mimetype": "text/x-python",
   "name": "python",
   "nbconvert_exporter": "python",
   "pygments_lexer": "ipython3",
   "version": "3.12.1"
  }
 },
 "nbformat": 4,
 "nbformat_minor": 5
}
