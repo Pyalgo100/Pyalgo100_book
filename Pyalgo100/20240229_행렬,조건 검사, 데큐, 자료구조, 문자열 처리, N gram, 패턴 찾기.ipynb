{
  "nbformat": 4,
  "nbformat_minor": 0,
  "metadata": {
    "colab": {
      "provenance": []
    },
    "kernelspec": {
      "name": "python3",
      "display_name": "Python 3"
    },
    "language_info": {
      "name": "python"
    }
  },
  "cells": [
    {
      "cell_type": "markdown",
      "source": [
        "# 문제 59번\n",
        "## 행렬 요소의 개수와 합"
      ],
      "metadata": {
        "id": "Dw2P4eWUYXvx"
      }
    },
    {
      "cell_type": "code",
      "source": [
        "def solution(data):\n",
        "    data_list, num = data\n",
        "    l = []\n",
        "    for i in data_list:\n",
        "        for j in i:\n",
        "            if j >= num:\n",
        "                l.append(j)\n",
        "    return (len(l), sum(l))\n",
        "\n",
        "def solution(data):\n",
        "    mat, target = sum(data[0], []), data[1]\n",
        "    ret = list(filter(lambda x: x >= target, mat))\n",
        "    return len(ret), sum(ret)"
      ],
      "metadata": {
        "id": "lpsuDm0ZYqFr"
      },
      "execution_count": null,
      "outputs": []
    },
    {
      "cell_type": "markdown",
      "source": [
        "# 문제 60번\n",
        "## 행렬 최댓값과 최솟값"
      ],
      "metadata": {
        "id": "Qy5D5ADXYz4I"
      }
    },
    {
      "cell_type": "code",
      "source": [
        "def solution(data):\n",
        "    mat, target = sum(data[0], []), data[1]\n",
        "    ret = list(filter(lambda x: target[0] <= x <= target[1], mat))\n",
        "    return max(ret), min(ret)\n",
        "\n",
        "def solution(data):\n",
        "    data_list, target_list = data\n",
        "    answer_list = [i for row in data_list for i in row if min(target_list) <= i and max(target_list) >= i]\n",
        "    return (max(answer_list), min(answer_list))"
      ],
      "metadata": {
        "id": "fJQ8-sLvY2bh"
      },
      "execution_count": null,
      "outputs": []
    },
    {
      "cell_type": "markdown",
      "source": [
        "# 문제 61번\n",
        "## 데큐"
      ],
      "metadata": {
        "id": "58Dp61k7ZVBI"
      }
    },
    {
      "cell_type": "code",
      "source": [
        "def solution(data):\n",
        "    from collections import deque\n",
        "    mat, path = deque(data[0]), data[1]\n",
        "    for d, n in path:\n",
        "        if d == \"왼쪽\":\n",
        "            for _ in range(n):\n",
        "                mat.popleft()\n",
        "        else:\n",
        "            for _ in range(n):\n",
        "                mat.pop()\n",
        "    return list(mat)\n",
        "\n",
        "def solution(data):\n",
        "    deque_data, commands = data\n",
        "    dq = list(deque_data)\n",
        "    for command in commands:\n",
        "        direction, count = command\n",
        "        if direction == \"왼쪽\":\n",
        "            dq = dq[count:]\n",
        "        elif direction == \"오른쪽\":\n",
        "            dq = dq[:-count]\n",
        "    return dq"
      ],
      "metadata": {
        "id": "l0hankklZjiA"
      },
      "execution_count": null,
      "outputs": []
    },
    {
      "cell_type": "markdown",
      "source": [
        "# 문제 62번\n",
        "## 데이터 저장 전략"
      ],
      "metadata": {
        "id": "cNysx_pGZn3p"
      }
    },
    {
      "cell_type": "code",
      "source": [
        "def solution(data):\n",
        "    from collections import deque\n",
        "    max_size, data_list = data\n",
        "    result = []\n",
        "    dq = deque(maxlen = max_size)\n",
        "\n",
        "    for i in data_list:\n",
        "        dq.append(i)\n",
        "        result.append(list(dq))\n",
        "\n",
        "    return result\n",
        "\n",
        "def solution(data):\n",
        "    from collections import deque\n",
        "    maximum, lst = data[0], data[1]\n",
        "    curr = deque()\n",
        "    ret = []\n",
        "    for i in lst:\n",
        "        if len(curr) >= maximum:\n",
        "            curr.popleft()\n",
        "        curr.append(i)\n",
        "        ret.append(list(curr))\n",
        "    return ret"
      ],
      "metadata": {
        "id": "HfC7D1HrZxco"
      },
      "execution_count": null,
      "outputs": []
    },
    {
      "cell_type": "markdown",
      "source": [
        "# 문제 63번\n",
        "## 문자열 N-gram 생성"
      ],
      "metadata": {
        "id": "awaKaakaZ9-f"
      }
    },
    {
      "cell_type": "code",
      "source": [
        "def solution(data):\n",
        "    word, n = data[0], data[1]\n",
        "    return [word[i:i+n] for i in range(len(word)-n+1)]\n",
        "\n",
        "def solution(data):\n",
        "    text, N = data\n",
        "    result = []\n",
        "    for i in range(len(text) - N + 1):\n",
        "        result.append(text[i:i+N])\n",
        "    return result"
      ],
      "metadata": {
        "id": "dQOWybLVaChW"
      },
      "execution_count": null,
      "outputs": []
    },
    {
      "cell_type": "markdown",
      "source": [
        "# 문제 64번\n",
        "## 문자열 패턴 찾기"
      ],
      "metadata": {
        "id": "E0QijPQbaVFX"
      }
    },
    {
      "cell_type": "code",
      "source": [
        "def solution(data):\n",
        "    data_list, target_list = data\n",
        "    count = 0\n",
        "    start = 0\n",
        "\n",
        "    while True:\n",
        "        start = data_list.find(target_list, start)\n",
        "        if start == -1:\n",
        "            break\n",
        "        count += 1\n",
        "        start += 1\n",
        "\n",
        "    return count\n",
        "\n",
        "def solution(data):\n",
        "    text, pattern = data\n",
        "    count = start = 0\n",
        "    while start < len(text):\n",
        "        # 패턴이 존재하면 그 인덱스 반환\n",
        "        pos = text.find(pattern, start)\n",
        "        # 해당 패턴이 존재하면\n",
        "        if pos != -1:\n",
        "            start = pos + 1\n",
        "            count += 1\n",
        "        else:\n",
        "            break\n",
        "    return count"
      ],
      "metadata": {
        "id": "3m1sowcjaaoA"
      },
      "execution_count": null,
      "outputs": []
    }
  ]
}