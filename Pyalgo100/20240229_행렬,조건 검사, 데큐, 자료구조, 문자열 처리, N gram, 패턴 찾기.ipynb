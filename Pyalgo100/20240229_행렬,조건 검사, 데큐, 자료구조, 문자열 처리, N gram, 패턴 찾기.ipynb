{
  "cells": [
    {
      "cell_type": "markdown",
      "metadata": {
        "id": "Dw2P4eWUYXvx"
      },
      "source": [
        "# 문제 59번\n",
        "## 행렬 요소의 개수와 합"
      ]
    },
    {
      "cell_type": "code",
      "execution_count": null,
      "metadata": {
        "id": "lpsuDm0ZYqFr"
      },
      "outputs": [],
      "source": [
        "def solution(data):\n",
        "    data_list, num = data\n",
        "    l = []\n",
        "    for i in data_list:\n",
        "        for j in i:\n",
        "            if j >= num:\n",
        "                l.append(j)\n",
        "    return (len(l), sum(l))\n",
        "\n",
        "def solution(data):\n",
        "    mat, target = sum(data[0], []), data[1]\n",
        "    ret = list(filter(lambda x: x >= target, mat))\n",
        "    return len(ret), sum(ret)"
      ]
    },
    {
      "cell_type": "markdown",
      "metadata": {
        "id": "Qy5D5ADXYz4I"
      },
      "source": [
        "# 문제 60번\n",
        "## 행렬 최댓값과 최솟값"
      ]
    },
    {
      "cell_type": "code",
      "execution_count": null,
      "metadata": {
        "id": "fJQ8-sLvY2bh"
      },
      "outputs": [],
      "source": [
        "def solution(data):\n",
        "    mat, target = sum(data[0], []), data[1]\n",
        "    ret = list(filter(lambda x: target[0] <= x <= target[1], mat))\n",
        "    return max(ret), min(ret)\n",
        "\n",
        "def solution(data):\n",
        "    data_list, target_list = data\n",
        "    answer_list = [i for row in data_list for i in row if min(target_list) <= i and max(target_list) >= i]\n",
        "    return (max(answer_list), min(answer_list))"
      ]
    },
    {
      "cell_type": "markdown",
      "metadata": {
        "id": "58Dp61k7ZVBI"
      },
      "source": [
        "# 문제 61번\n",
        "## 데큐"
      ]
    },
    {
      "cell_type": "code",
      "execution_count": null,
      "metadata": {
        "id": "l0hankklZjiA"
      },
      "outputs": [],
      "source": [
        "def solution(data):\n",
        "    from collections import deque\n",
        "    mat, path = deque(data[0]), data[1]\n",
        "    for d, n in path:\n",
        "        if d == \"왼쪽\":\n",
        "            for _ in range(n):\n",
        "                mat.popleft()\n",
        "        else:\n",
        "            for _ in range(n):\n",
        "                mat.pop()\n",
        "    return list(mat)\n",
        "\n",
        "def solution(data):\n",
        "    deque_data, commands = data\n",
        "    dq = list(deque_data)\n",
        "    for command in commands:\n",
        "        direction, count = command\n",
        "        if direction == \"왼쪽\":\n",
        "            dq = dq[count:]\n",
        "        elif direction == \"오른쪽\":\n",
        "            dq = dq[:-count]\n",
        "    return dq"
      ]
    },
    {
      "cell_type": "markdown",
      "metadata": {
        "id": "cNysx_pGZn3p"
      },
      "source": [
        "# 문제 62번\n",
        "## 데이터 저장 전략"
      ]
    },
    {
      "cell_type": "code",
      "execution_count": null,
      "metadata": {
        "id": "HfC7D1HrZxco"
      },
      "outputs": [],
      "source": [
        "def solution(data):\n",
        "    from collections import deque\n",
        "    max_size, data_list = data\n",
        "    result = []\n",
        "    dq = deque(maxlen = max_size)\n",
        "\n",
        "    for i in data_list:\n",
        "        dq.append(i)\n",
        "        result.append(list(dq))\n",
        "\n",
        "    return result\n",
        "\n",
        "def solution(data):\n",
        "    from collections import deque\n",
        "    maximum, lst = data[0], data[1]\n",
        "    curr = deque()\n",
        "    ret = []\n",
        "    for i in lst:\n",
        "        if len(curr) >= maximum:\n",
        "            curr.popleft()\n",
        "        curr.append(i)\n",
        "        ret.append(list(curr))\n",
        "    return ret"
      ]
    },
    {
      "cell_type": "markdown",
      "metadata": {
        "id": "awaKaakaZ9-f"
      },
      "source": [
        "# 문제 63번\n",
        "## 문자열 N-gram 생성"
      ]
    },
    {
      "cell_type": "code",
      "execution_count": null,
      "metadata": {
        "id": "dQOWybLVaChW"
      },
      "outputs": [],
      "source": [
        "def solution(data):\n",
        "    word, n = data[0], data[1]\n",
        "    return [word[i:i+n] for i in range(len(word)-n+1)]\n",
        "\n",
        "def solution(data):\n",
        "    text, N = data\n",
        "    result = []\n",
        "    for i in range(len(text) - N + 1):\n",
        "        result.append(text[i:i+N])\n",
        "    return result"
      ]
    },
    {
      "cell_type": "markdown",
      "metadata": {
        "id": "E0QijPQbaVFX"
      },
      "source": [
        "# 문제 64번\n",
        "## 문자열 패턴 찾기"
      ]
    },
    {
      "cell_type": "code",
      "execution_count": null,
      "metadata": {
        "id": "3m1sowcjaaoA"
      },
      "outputs": [],
      "source": [
        "def solution(data):\n",
        "    data_list, target_list = data\n",
        "    count = 0\n",
        "    start = 0\n",
        "\n",
        "    while True:\n",
        "        start = data_list.find(target_list, start)\n",
        "        if start == -1:\n",
        "            break\n",
        "        count += 1\n",
        "        start += 1\n",
        "\n",
        "    return count\n",
        "\n",
        "def solution(data):\n",
        "    word, pattern = data[0], data[1]\n",
        "    ret = 0\n",
        "    for i in range(len(word)-len(pattern) + 1):\n",
        "        if word[i:i+len(pattern)] == pattern:\n",
        "            ret += 1\n",
        "    return ret"
      ]
    }
  ],
  "metadata": {
    "colab": {
      "provenance": []
    },
    "kernelspec": {
      "display_name": "Python 3",
      "name": "python3"
    },
    "language_info": {
      "name": "python"
    }
  },
  "nbformat": 4,
  "nbformat_minor": 0
}
