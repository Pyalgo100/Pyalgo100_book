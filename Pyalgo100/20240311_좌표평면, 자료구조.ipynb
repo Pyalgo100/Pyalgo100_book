{
 "cells": [
  {
   "cell_type": "markdown",
   "metadata": {},
   "source": [
    "# 문제 77번"
   ]
  },
  {
   "cell_type": "markdown",
   "metadata": {},
   "source": [
    "## 좌표평면"
   ]
  },
  {
   "cell_type": "code",
   "execution_count": null,
   "metadata": {
    "vscode": {
     "languageId": "plaintext"
    }
   },
   "outputs": [],
   "source": [
    "def solution(data):\n",
    "    (start, end), target = data\n",
    "    isOnline = target in range(start, end+1)\n",
    "    return isOnline"
   ]
  },
  {
   "cell_type": "code",
   "execution_count": null,
   "metadata": {
    "vscode": {
     "languageId": "plaintext"
    }
   },
   "outputs": [],
   "source": [
    "def solution(data):\n",
    "    my_list, target = data\n",
    "    return target in range(my_list[0],my_list[1]+1)"
   ]
  },
  {
   "cell_type": "code",
   "execution_count": null,
   "metadata": {
    "vscode": {
     "languageId": "plaintext"
    }
   },
   "outputs": [],
   "source": [
    "def solution(data):\n",
    "    data_range, target = data\n",
    "    if target in range(data_range[0], data_range[1] + 1):\n",
    "        return True\n",
    "    else:\n",
    "        return False"
   ]
  },
  {
   "cell_type": "code",
   "execution_count": null,
   "metadata": {
    "vscode": {
     "languageId": "plaintext"
    }
   },
   "outputs": [],
   "source": [
    "def solution(data):\n",
    "    line, dot = data\n",
    "    lines = [i for i in range(line[0], line[1]+1)]\n",
    "    return bool(dot in lines)"
   ]
  },
  {
   "cell_type": "code",
   "execution_count": null,
   "metadata": {
    "vscode": {
     "languageId": "plaintext"
    }
   },
   "outputs": [],
   "source": [
    "def solution(data):\n",
    "    line, target = data\n",
    "\n",
    "    # 점이 선분 위에 있는지 확인\n",
    "    for i in range(line[0], line[1]+1):\n",
    "        if i == target:\n",
    "            return True\n",
    "    return False"
   ]
  },
  {
   "cell_type": "code",
   "execution_count": null,
   "metadata": {
    "vscode": {
     "languageId": "plaintext"
    }
   },
   "outputs": [],
   "source": [
    "def solution(data):\n",
    "    line, spot = data\n",
    "    i, j = line\n",
    "    \n",
    "    if i <= spot <= j:\n",
    "        return True\n",
    "    else:\n",
    "        return False"
   ]
  },
  {
   "cell_type": "markdown",
   "metadata": {},
   "source": [
    "# 78번"
   ]
  },
  {
   "cell_type": "code",
   "execution_count": null,
   "metadata": {
    "vscode": {
     "languageId": "plaintext"
    }
   },
   "outputs": [],
   "source": [
    "def solution(data):\n",
    "    # 선분 배열을 만들기 위해 101개의 원소가 있는 리스트를 생성하고 0으로 초기화\n",
    "    line_array = [0] * 101\n",
    "\n",
    "    # 각 선분이 지나가는 구간을 True로 표시\n",
    "    for line in data:\n",
    "        for i in range(line[0], line[1]):\n",
    "            line_array[i] += 1\n",
    "\n",
    "    # 겹치는 선분의 길이 계산\n",
    "    overlapping_length = 0\n",
    "    for i in line_array:\n",
    "        if i >= 2:\n",
    "            overlapping_length += 1\n",
    "\n",
    "    return overlapping_length"
   ]
  },
  {
   "cell_type": "code",
   "execution_count": null,
   "metadata": {
    "vscode": {
     "languageId": "plaintext"
    }
   },
   "outputs": [],
   "source": [
    "def solution(data):\n",
    "    duplicate_list = []\n",
    "    for i in range(len(data)):\n",
    "        if i == len(data)-1:\n",
    "            break\n",
    "    \n",
    "        for x in range(data[i][0], data[i][1]):\n",
    "            for j in range(len(data)-i):\n",
    "                if j == 0:\n",
    "                    continue\n",
    "                if x in range(data[i+j][0], data[i+j][1]): \n",
    "                    duplicate_list.append(x) \n",
    "                \n",
    "    return len(set(duplicate_list))"
   ]
  },
  {
   "cell_type": "code",
   "execution_count": null,
   "metadata": {
    "vscode": {
     "languageId": "plaintext"
    }
   },
   "outputs": [],
   "source": [
    "def solution(data):\n",
    "    sets = [set([line for line in range(lines[0], lines[1]+1)]) for lines in data]\n",
    "    ret = len(sets[0] & sets[1] & sets[2])\n",
    "    return (ret-1) if ret else 0"
   ]
  },
  {
   "cell_type": "code",
   "execution_count": null,
   "metadata": {
    "vscode": {
     "languageId": "plaintext"
    }
   },
   "outputs": [],
   "source": [
    "def solution(data):\n",
    "    target = data[-1]\n",
    "    min = data[0][0]\n",
    "    max = data[0][1]\n",
    "    \n",
    "    flag = True if target in range(min, max+1) else False\n",
    "        \n",
    "    return flag"
   ]
  },
  {
   "cell_type": "code",
   "execution_count": null,
   "metadata": {
    "vscode": {
     "languageId": "plaintext"
    }
   },
   "outputs": [],
   "source": [
    "def solution(data):\n",
    "    from collections import Counter\n",
    "    result = Counter()\n",
    "    for i in data:\n",
    "        # 주어진 범위의 모든 숫자를 생성하고 개수를 센 후\n",
    "        # result에 넘겨준다.\n",
    "        result.update(range(i[0], i[1]))\n",
    "    return len([item for item in result.items() if item[1] >= 2])"
   ]
  },
  {
   "cell_type": "code",
   "execution_count": null,
   "metadata": {
    "vscode": {
     "languageId": "plaintext"
    }
   },
   "outputs": [],
   "source": [
    "def solution(data):\n",
    "    line1, line2, line3 = data\n",
    "    common = list(set(list(range(line1[0], line1[1]+1))) & set(list(range(line2[0], line2[1]+1))) & set(list(range(line3[0], line3[1]+1))))\n",
    "\n",
    "    if common == []:\n",
    "        return 0\n",
    "    else:\n",
    "        return common[-1] - common[0]\n",
    "\n",
    "solution(data)"
   ]
  },
  {
   "cell_type": "code",
   "execution_count": null,
   "metadata": {
    "vscode": {
     "languageId": "plaintext"
    }
   },
   "outputs": [],
   "source": [
    "def solution(data):\n",
    "    start = max(i[0] for i in data)\n",
    "    end = min(i[1] for i in data)\n",
    "    \n",
    "    overlap = end - start\n",
    "    \n",
    "    return overlap if overlap > 0 else 0"
   ]
  },
  {
   "cell_type": "markdown",
   "metadata": {},
   "source": [
    "# 79번"
   ]
  },
  {
   "cell_type": "markdown",
   "metadata": {},
   "source": [
    "def solution(data):\n",
    "    x_list = [coordinate[0] for coordinate in data]\n",
    "    y_list = [coordinate[1] for coordinate in data]\n",
    "\n",
    "    usuable_x = set(list(filter(lambda x: x_list.count(\n",
    "    x)>=2, x_list)))\n",
    "    usuable_y = set(list(filter(lambda y: y_list.count(\n",
    "    y)>=2, y_list)))\n",
    "\n",
    "\n",
    "    try:\n",
    "        min_x, max_x = min(usuable_x), max(usuable_x)\n",
    "        min_y, max_y = min(usuable_y), max(usuable_y)\n",
    "    except: # min_x, max_x, min_y, max_y 중 하나라도 값을 갖지 못하는 경우\n",
    "        return 0\n",
    "\n",
    "    return (max_x - min_x) * (max_y - min_y)"
   ]
  },
  {
   "cell_type": "code",
   "execution_count": null,
   "metadata": {
    "vscode": {
     "languageId": "plaintext"
    }
   },
   "outputs": [],
   "source": [
    "def solution(data):\n",
    "    x, y = list(zip(*data))\n",
    "    cnt_x = [i for i in x if x.count(i) == 2]\n",
    "    cnt_y = [i for i in y if y.count(i) == 2]\n",
    "    if len(cnt_x) != 4 or len(cnt_y) != 4:\n",
    "        return 0\n",
    "\n",
    "    x1, x2 = min(cnt_x), max(cnt_x)\n",
    "    y1, y2 = min(cnt_y), max(cnt_y)\n",
    "\n",
    "    return abs(x2-x1) * abs(y2-y1)"
   ]
  },
  {
   "cell_type": "code",
   "execution_count": null,
   "metadata": {
    "vscode": {
     "languageId": "plaintext"
    }
   },
   "outputs": [],
   "source": [
    "def solution(data):\n",
    "    result = 0\n",
    "    for idx_i, i in enumerate(data):\n",
    "        if idx_i == len(data)-1:\n",
    "            break\n",
    "        for idx_j, j in enumerate(data,idx_i+1):\n",
    "            area = abs(i[0] - j[0]) * abs(i[1] - j[1])\n",
    "            if result:\n",
    "                if result < area:\n",
    "                    result = area\n",
    "            else:\n",
    "                result = area\n",
    "    return result"
   ]
  },
  {
   "cell_type": "markdown",
   "metadata": {},
   "source": [
    "# 80번"
   ]
  },
  {
   "cell_type": "markdown",
   "metadata": {},
   "source": [
    "def solution(data):\n",
    "    mx, mn = max(data), min(data)\n",
    "    x1, y1 = mx\n",
    "    x2, y2 = mn\n",
    "    ret = ((x2 - x1) ** 2 + (y2 - y1) ** 2) ** 0.5\n",
    "    return int(ret)"
   ]
  },
  {
   "cell_type": "code",
   "execution_count": null,
   "metadata": {
    "vscode": {
     "languageId": "plaintext"
    }
   },
   "outputs": [],
   "source": [
    "def solution(data):\n",
    "    from math import dist\n",
    "    dist_list = []\n",
    "    for i in range(len(data)):\n",
    "        if i == len(data) -1:\n",
    "            break\n",
    "\n",
    "        for j in range(len(data) - i):\n",
    "            if j == 0:\n",
    "                continue\n",
    "            distance = dist(data[i], data[i+j])\n",
    "            dist_list.append(distance)\n",
    "    return int(max(dist_list))"
   ]
  },
  {
   "cell_type": "code",
   "execution_count": null,
   "metadata": {
    "vscode": {
     "languageId": "plaintext"
    }
   },
   "outputs": [],
   "source": [
    "def solution(data):\n",
    "    max_distance = 0\n",
    "    n = len(data)\n",
    "    \n",
    "    for i in range(n):\n",
    "        for j in range(i+1, n):\n",
    "            x1, y1 = data[i]\n",
    "            x2, y2 = data[j]\n",
    "            distance = ((x2 - x1) ** 2 + (y2 - y1) ** 2) ** 0.5\n",
    "            max_distance = max(max_distance, distance)\n",
    "    \n",
    "    return int(max_distance)"
   ]
  },
  {
   "cell_type": "code",
   "execution_count": null,
   "metadata": {
    "vscode": {
     "languageId": "plaintext"
    }
   },
   "outputs": [],
   "source": [
    "def solution(data):\n",
    "    from math import sqrt\n",
    "\n",
    "    def euclide(point1, point2):\n",
    "        # 유클리드 거리 계산\n",
    "        return sqrt((point1[0] - point2[0])**2 + (point1[1] - point2[1])**2)\n",
    "\n",
    "    max_distance = 0\n",
    "    # 모든 점 쌍에 대해 거리 계산\n",
    "    for i in range(len(data)):\n",
    "        for j in range(i + 1, len(data)):\n",
    "            distance = euclide(data[i], data[j])\n",
    "            # 최대 거리 업데이트\n",
    "            if distance > max_distance:\n",
    "                max_distance = distance\n",
    "\n",
    "    # 거리를 정수로 반환\n",
    "    return int(max_distance)"
   ]
  },
  {
   "cell_type": "code",
   "execution_count": null,
   "metadata": {
    "vscode": {
     "languageId": "plaintext"
    }
   },
   "outputs": [],
   "source": [
    "def solution(points):\n",
    "    max_distance = 0  # 최대 거리를 저장할 변수를 초기화합니다.\n",
    "\n",
    "    # 모든 점 쌍에 대해 거리를 계산합니다.\n",
    "    for i in range(len(points)):\n",
    "        for j in range(i + 1, len(points)):\n",
    "            x1, y1 = points[i]  # 첫 번째 점의 좌표를 가져옵니다.\n",
    "            x2, y2 = points[j]  # 두 번째 점의 좌표를 가져옵니다.\n",
    "            distance = ((x2 - x1) ** 2 + (y2 - y1) ** 2) ** 0.5  # 두 점 사이의 거리를 계산합니다.\n",
    "            max_distance = max(max_distance, distance)  # 최대 거리를 갱신합니다.\n",
    "\n",
    "    return int(max_distance)  # 최대 거리를 정수형으로 반환합니다."
   ]
  },
  {
   "cell_type": "code",
   "execution_count": null,
   "metadata": {
    "vscode": {
     "languageId": "plaintext"
    }
   },
   "outputs": [],
   "source": [
    "def solution(data):\n",
    "    from math import sqrt, floor\n",
    "    \n",
    "    max_distance = 0\n",
    "    for i in range(len(data)):\n",
    "        for j in range(i + 1, len(data)):\n",
    "            point_a = data[i]\n",
    "            point_b = data[j]\n",
    "            distance = sqrt((point_a[0] - point_b[0]) ** 2 + (point_a[1] - point_b[1]) ** 2)\n",
    "            max_distance = max(max_distance, distance)\n",
    "    return floor(max_distance)"
   ]
  },
  {
   "cell_type": "markdown",
   "metadata": {},
   "source": [
    "# 81번"
   ]
  },
  {
   "cell_type": "markdown",
   "metadata": {},
   "source": [
    "## 자료구조"
   ]
  },
  {
   "cell_type": "code",
   "execution_count": null,
   "metadata": {
    "vscode": {
     "languageId": "plaintext"
    }
   },
   "outputs": [],
   "source": [
    "def solution(nums):\n",
    "    # 리스트의 중간 인덱스 계산\n",
    "    mid_index = len(nums) // 2\n",
    "    # 중간에 위치한 원소 반환\n",
    "    return nums[mid_index]"
   ]
  },
  {
   "cell_type": "code",
   "execution_count": null,
   "metadata": {
    "vscode": {
     "languageId": "plaintext"
    }
   },
   "outputs": [],
   "source": [
    "def solution(data):\n",
    "    return data[int(len(data)/2)]"
   ]
  },
  {
   "cell_type": "code",
   "execution_count": null,
   "metadata": {
    "vscode": {
     "languageId": "plaintext"
    }
   },
   "outputs": [],
   "source": [
    "def solution(data):\n",
    "    return data[len(data) // 2]"
   ]
  },
  {
   "cell_type": "code",
   "execution_count": null,
   "metadata": {
    "vscode": {
     "languageId": "plaintext"
    }
   },
   "outputs": [],
   "source": [
    "def solution(data):\n",
    "    if len(data) % 2 == 0:\n",
    "        return data[int(len(data)/2) - 1]\n",
    "    else:\n",
    "        return data[int(len(data)/2)]"
   ]
  },
  {
   "cell_type": "code",
   "execution_count": null,
   "metadata": {
    "vscode": {
     "languageId": "plaintext"
    }
   },
   "outputs": [],
   "source": [
    "def solution(data):\n",
    "    for idx, i in enumerate(data):\n",
    "        if idx == len(data) // 2:\n",
    "            return i\n",
    "    return data"
   ]
  },
  {
   "cell_type": "code",
   "execution_count": null,
   "metadata": {
    "vscode": {
     "languageId": "plaintext"
    }
   },
   "outputs": [],
   "source": [
    "def solution(data):\n",
    "    data = sorted(data)\n",
    "    ret = len(data) // 2\n",
    "    return data[ret]"
   ]
  },
  {
   "cell_type": "markdown",
   "metadata": {},
   "source": [
    "# 82번"
   ]
  },
  {
   "cell_type": "code",
   "execution_count": null,
   "metadata": {
    "vscode": {
     "languageId": "plaintext"
    }
   },
   "outputs": [],
   "source": [
    "def solution(data):\n",
    "\n",
    "    class Node:\n",
    "        def __init__(self, data, next=None):\n",
    "            self.data = data\n",
    "            self.next = next\n",
    "    \n",
    "    nums = data.split(' ')\n",
    "\n",
    "    if len(nums) == 1:\n",
    "        return nums[0]\n",
    "    \n",
    "    linked_list = []\n",
    "    for i in range(len(nums)):\n",
    "        if i == len(nums) - 1:\n",
    "            break\n",
    "\n",
    "        Node_tmp = Node(nums[i], nums[i+1])\n",
    "        if nums[i] not in linked_list:    \n",
    "            linked_list.insert(0, Node_tmp.data)\n",
    "        linked_list.insert(0, ' ')\n",
    "        linked_list.insert(0, Node_tmp.next)\n",
    "    linked_list\n",
    "\n",
    "    new_string = \"\"\n",
    "    for x in linked_list:\n",
    "        new_string += x\n",
    "    return new_string"
   ]
  },
  {
   "cell_type": "code",
   "execution_count": null,
   "metadata": {
    "vscode": {
     "languageId": "plaintext"
    }
   },
   "outputs": [],
   "source": [
    "def solution(data):\n",
    "    data_list = [int(num) for num in data.split()]\n",
    "    return ' '.join(str(num) for num in reversed(data_list))"
   ]
  },
  {
   "cell_type": "code",
   "execution_count": null,
   "metadata": {
    "vscode": {
     "languageId": "plaintext"
    }
   },
   "outputs": [],
   "source": [
    "class Node:\n",
    "    def __init__(self, value=0, next=None):\n",
    "        self.value = value\n",
    "        self.next = next\n",
    "\n",
    "def solution(data):\n",
    "    # 문자열을 공백을 기준으로 분리하여 숫자 리스트로 변환\n",
    "    numbers = data.split()\n",
    "\n",
    "    # 링크드 리스트의 첫 번째 노드를 None으로 초기화\n",
    "    head = None\n",
    "\n",
    "    # 주어진 숫자들로 링크드 리스트 구성\n",
    "    for number in numbers:\n",
    "        # 현재 숫자를 노드로 생성하고, 이전 노드들을 현재 노드의 다음으로 연결\n",
    "        node = Node(value=int(number), next=head)\n",
    "        head = node\n",
    "\n",
    "    # 역순으로 구성된 링크드 리스트를 문자열로 변환하여 반환\n",
    "    result = []\n",
    "    current = head\n",
    "    while current:\n",
    "        result.append(str(current.value))\n",
    "        current = current.next\n",
    "\n",
    "    return ' '.join(result)"
   ]
  },
  {
   "cell_type": "code",
   "execution_count": null,
   "metadata": {
    "vscode": {
     "languageId": "plaintext"
    }
   },
   "outputs": [],
   "source": [
    "def solution(data):\n",
    "    my_data = data.split()\n",
    "    result = my_data[::-1]\n",
    "    return ' '.join(result)"
   ]
  }
 ],
 "metadata": {
  "language_info": {
   "name": "python"
  }
 },
 "nbformat": 4,
 "nbformat_minor": 2
}
