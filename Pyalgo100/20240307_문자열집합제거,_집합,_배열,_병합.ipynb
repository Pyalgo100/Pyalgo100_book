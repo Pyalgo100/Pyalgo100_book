{
  "nbformat": 4,
  "nbformat_minor": 0,
  "metadata": {
    "colab": {
      "provenance": []
    },
    "kernelspec": {
      "name": "python3",
      "display_name": "Python 3"
    },
    "language_info": {
      "name": "python"
    }
  },
  "cells": [
    {
      "cell_type": "markdown",
      "source": [
        "# 문제 71번"
      ],
      "metadata": {
        "id": "jiWrdAR_AA2t"
      }
    },
    {
      "cell_type": "markdown",
      "source": [
        "## 중복 문자 제거\n"
      ],
      "metadata": {
        "id": "RFoA4GYiAJMT"
      }
    },
    {
      "cell_type": "code",
      "execution_count": 2,
      "metadata": {
        "id": "keawva-MkjY8"
      },
      "outputs": [],
      "source": [
        "def solution(data):\n",
        "    input_string = data\n",
        "    # 중복을 제거하고 남은 문자들을 유지하기 위해 set을 이용\n",
        "    unique_chars = set()\n",
        "    result = \"\"\n",
        "\n",
        "    # 문자열을 순회하면서 중복을 제거한 문자열을 생성\n",
        "    for char in input_string:\n",
        "        if char not in unique_chars:\n",
        "            result += char\n",
        "            unique_chars.add(char)\n",
        "\n",
        "    return result\n"
      ]
    },
    {
      "cell_type": "code",
      "source": [
        "def solution(data):\n",
        "    ret = \"\"\n",
        "    for i in data:\n",
        "        if i not in ret:\n",
        "            ret += i\n",
        "    return ret"
      ],
      "metadata": {
        "id": "diPAEeFIAOBv"
      },
      "execution_count": 3,
      "outputs": []
    },
    {
      "cell_type": "code",
      "source": [
        "def solution(data):\n",
        "    new_list = list(dict.fromkeys(data))\n",
        "    return \"\".join(new_list)"
      ],
      "metadata": {
        "id": "OiMHypkZApI5"
      },
      "execution_count": 4,
      "outputs": []
    },
    {
      "cell_type": "code",
      "source": [
        "def solution(data):\n",
        "    seen = set();\n",
        "    result = ''\n",
        "    for char in data:\n",
        "        if char not in seen:\n",
        "            seen.add(char)\n",
        "            result += char\n",
        "    return result"
      ],
      "metadata": {
        "id": "wjJXeYPQArIv"
      },
      "execution_count": 5,
      "outputs": []
    },
    {
      "cell_type": "code",
      "source": [
        "def solution(data):\n",
        "    return ''.join(dict.fromkeys(data))\n",
        "\n",
        "solution(data)"
      ],
      "metadata": {
        "id": "hh1_bUglAuFa"
      },
      "execution_count": null,
      "outputs": []
    },
    {
      "cell_type": "code",
      "source": [
        "def solution(data):\n",
        "    char_list = list(map(lambda x:x, data))\n",
        "\n",
        "    l = []\n",
        "    for char in char_list:\n",
        "        if l.count(char) == 1:\n",
        "            continue\n",
        "        l.append(char)\n",
        "    ret = ''.join(l)\n",
        "\n",
        "    return ret"
      ],
      "metadata": {
        "id": "X-Gnm-yEENV_"
      },
      "execution_count": null,
      "outputs": []
    },
    {
      "cell_type": "markdown",
      "source": [
        "# 72번\n",
        "\n",
        "\n"
      ],
      "metadata": {
        "id": "Uf-t4U-QA1rd"
      }
    },
    {
      "cell_type": "markdown",
      "source": [
        "## 공통 문자 찾기\n"
      ],
      "metadata": {
        "id": "qLo8lXtvD-Zc"
      }
    },
    {
      "cell_type": "code",
      "source": [
        "def solution(data):\n",
        "    string1, string2 = data\n",
        "    common_chars = set()\n",
        "\n",
        "    for char in string1:\n",
        "        if char in string2:\n",
        "            common_chars.add(char)\n",
        "    return sorted(list(common_chars))\n"
      ],
      "metadata": {
        "id": "iPMx1DJ-nbmp"
      },
      "execution_count": 1,
      "outputs": []
    },
    {
      "cell_type": "code",
      "source": [
        "def solution(data):\n",
        "    s1, s2 = data\n",
        "    ret = set(s1) & set(s2)\n",
        "    return sorted(ret)"
      ],
      "metadata": {
        "id": "phRWAgsBBGRp"
      },
      "execution_count": 6,
      "outputs": []
    },
    {
      "cell_type": "code",
      "source": [
        "def solution(data):\n",
        "    # data 튜플에서 두 문자열을 추출\n",
        "    str1, str2 = data\n",
        "\n",
        "    # 두 문자열의 공통 문자를 찾기 위해 set을 사용\n",
        "    common_chars_set = set(str1) & set(str2)\n",
        "\n",
        "    # 공통 문자를 알파벳 순으로 정렬하여 리스트로 변환 후 반환\n",
        "    sorted_common_chars = sorted(list(common_chars_set))\n",
        "\n",
        "    return sorted_common_chars"
      ],
      "metadata": {
        "id": "LBmgKOfcBHUJ"
      },
      "execution_count": 7,
      "outputs": []
    },
    {
      "cell_type": "code",
      "source": [
        "def solution(data):\n",
        "    str1, str2 = data\n",
        "\n",
        "    result_ch = set(str1) & set(str2)\n",
        "    return sorted(list(result_ch))"
      ],
      "metadata": {
        "id": "hSUV8PcOBJJT"
      },
      "execution_count": 8,
      "outputs": []
    },
    {
      "cell_type": "code",
      "source": [
        "def solution(data):\n",
        "    string, target = data\n",
        "    common = list(filter(lambda x:x in target, string))\n",
        "    return sorted(set(common))"
      ],
      "metadata": {
        "id": "TwaoSbAaEK2p"
      },
      "execution_count": null,
      "outputs": []
    },
    {
      "cell_type": "markdown",
      "source": [
        "# 73번\n"
      ],
      "metadata": {
        "id": "rla6e8CgBPsQ"
      }
    },
    {
      "cell_type": "markdown",
      "source": [
        "## 특정 문자 제거\n"
      ],
      "metadata": {
        "id": "_UUQE9mLD4PC"
      }
    },
    {
      "cell_type": "code",
      "source": [
        "def solution(data):\n",
        "    str1, str2 = data\n",
        "\n",
        "    result_ch = set(str1) - set(str2)\n",
        "    return sorted(list(result_ch))"
      ],
      "metadata": {
        "id": "3lItiT13BSEW"
      },
      "execution_count": null,
      "outputs": []
    },
    {
      "cell_type": "code",
      "source": [
        "def solution(data):\n",
        "    str1, str2 = data\n",
        "    str1 = set(str1)\n",
        "    str2 = set(str2)\n",
        "    return sorted(list(str1-str2))"
      ],
      "metadata": {
        "id": "Wls4lQXcBNFu"
      },
      "execution_count": null,
      "outputs": []
    },
    {
      "cell_type": "code",
      "source": [
        "def solution(data):\n",
        "    string1, string2 = data\n",
        "\n",
        "    # 두 번째 문자열에 포함된 문자를 제외한 문자들을 저장할 집합(set) 생성\n",
        "    remaining_chars = set(string1) - set(string2)\n",
        "\n",
        "    # 알파벳 순으로 정렬하여 반환\n",
        "    return sorted(list(remaining_chars))"
      ],
      "metadata": {
        "id": "1hgpYoBfnhgX"
      },
      "execution_count": 9,
      "outputs": []
    },
    {
      "cell_type": "code",
      "source": [
        "def solution(data):\n",
        "    s1, s2 = data\n",
        "    ret = set(s1) - set(s2)\n",
        "    return sorted(ret)"
      ],
      "metadata": {
        "id": "8KewhKAjBbHL"
      },
      "execution_count": 10,
      "outputs": []
    },
    {
      "cell_type": "code",
      "source": [
        "def solution(data):\n",
        "    str1, str2 = data\n",
        "    first_set, remove_char = set(str1), set(str2)\n",
        "    result = [char for char in first_set if char not in remove_char]\n",
        "\n",
        "    return sorted(result)"
      ],
      "metadata": {
        "id": "UyfRLsfPBhQF"
      },
      "execution_count": null,
      "outputs": []
    },
    {
      "cell_type": "code",
      "source": [
        "def solution(data):\n",
        "    string, target = data\n",
        "    remain = list(filter(lambda x: x not in target, string))\n",
        "    return sorted(set(remain))"
      ],
      "metadata": {
        "id": "r1UydHzYEIZ2"
      },
      "execution_count": null,
      "outputs": []
    },
    {
      "cell_type": "markdown",
      "source": [
        "# 74번\n"
      ],
      "metadata": {
        "id": "amvGN9npBkBl"
      }
    },
    {
      "cell_type": "markdown",
      "source": [
        "## 고유 요소 찾기"
      ],
      "metadata": {
        "id": "B6MBjGDqDxW3"
      }
    },
    {
      "cell_type": "code",
      "source": [
        "def solution(data):\n",
        "    str1, str2 = data\n",
        "    set1 = set(str1)\n",
        "    set2 = set(str2)\n",
        "    unique_elements = sorted((set1 - set2) | (set2 - set1))\n",
        "    return unique_elements"
      ],
      "metadata": {
        "id": "CwWSGdnunj5i"
      },
      "execution_count": 4,
      "outputs": []
    },
    {
      "cell_type": "code",
      "source": [
        "def solution(data):\n",
        "    str1, str2 = data\n",
        "    str1, str2 = set(str1), set(str2)\n",
        "    return sorted(list((str1-str2) | (str2-str1)))"
      ],
      "metadata": {
        "id": "rXeUeeuCBlm8"
      },
      "execution_count": 11,
      "outputs": []
    },
    {
      "cell_type": "code",
      "source": [
        "def solution(data):\n",
        "    s1, s2 = data\n",
        "    ret = (set(s1) | set(s2)) - (set(s1) & set(s2))\n",
        "    return sorted(ret)"
      ],
      "metadata": {
        "id": "wGswNhFHBpww"
      },
      "execution_count": 12,
      "outputs": []
    },
    {
      "cell_type": "code",
      "source": [
        "def solution(data):\n",
        "    str1, str2 = data\n",
        "    # 각 문자열을 집합으로 변환\n",
        "    set1 = set(str1)\n",
        "    set2 = set(str2)\n",
        "\n",
        "    # 한 집합에만 존재하는 고유한 요소를 찾아 리스트에 저장\n",
        "    unique_elements = sorted(list((set1 - set2) | (set2 - set1)))\n",
        "\n",
        "    return unique_elements"
      ],
      "metadata": {
        "id": "30Mjr-CJBrNw"
      },
      "execution_count": 13,
      "outputs": []
    },
    {
      "cell_type": "code",
      "source": [
        "# 74번\n",
        "def solution(data):\n",
        "    str1, str2 = data\n",
        "\n",
        "    result_ch = set(str1) ^ set(str2)\n",
        "    return sorted(list(result_ch))"
      ],
      "metadata": {
        "id": "kvM3w_oIBtaQ"
      },
      "execution_count": null,
      "outputs": []
    },
    {
      "cell_type": "code",
      "source": [
        "def solution(data):\n",
        "    string1, string2 = data\n",
        "\n",
        "    str1_char = list(map(lambda x:x, string1))\n",
        "    set1 = sorted(set(str1_char))\n",
        "\n",
        "    str2_char = list(map(lambda x:x, string2))\n",
        "    set2 = sorted(set(str2_char))\n",
        "\n",
        "    total = (set1 + set2)\n",
        "    duplicate_set = set(filter(lambda x:total.count(x) >= 2, total))\n",
        "    unique_set = sorted(set(filter(lambda x:x not in duplicate_set, total)))\n",
        "    return unique_set"
      ],
      "metadata": {
        "id": "Q1gGmnaqEFrE"
      },
      "execution_count": null,
      "outputs": []
    },
    {
      "cell_type": "markdown",
      "source": [
        "# 75번\n"
      ],
      "metadata": {
        "id": "4ntBdpEhDIRN"
      }
    },
    {
      "cell_type": "markdown",
      "source": [
        "## 빠진 숫자 찾기\n"
      ],
      "metadata": {
        "id": "lgMVt4iODL4J"
      }
    },
    {
      "cell_type": "code",
      "source": [
        "def solution(data):\n",
        "    my_set, n, m = set(data[0]), data[1], data[2]\n",
        "    result = [i for i in range(n, m+1) if i not in my_set]\n",
        "    return result"
      ],
      "metadata": {
        "id": "Q4zdp2NnDPU4"
      },
      "execution_count": null,
      "outputs": []
    },
    {
      "cell_type": "code",
      "source": [
        "def solution(data):\n",
        "    n, m = data[-2:]\n",
        "    array = data[0]\n",
        "    num_list = [i for i in range(n, m+1) if i not in array]\n",
        "    return num_list"
      ],
      "metadata": {
        "id": "d-WD5P8ZDKj6"
      },
      "execution_count": 14,
      "outputs": []
    },
    {
      "cell_type": "code",
      "source": [
        "def solution(data):\n",
        "    nums, n, m = data\n",
        "    full_set = set(range(n, m + 1))\n",
        "    nums_set = set(nums)\n",
        "    missing_numbers = sorted(full_set - nums_set)\n",
        "    return missing_numbers"
      ],
      "metadata": {
        "id": "F0-MVRNoDWnm"
      },
      "execution_count": null,
      "outputs": []
    },
    {
      "cell_type": "code",
      "source": [
        "def solution(data):\n",
        "    data_list, n, m = data\n",
        "    result = []\n",
        "\n",
        "    for i in range(n, m+1):\n",
        "        if i not in data_list:\n",
        "            result.append(i)\n",
        "    return result"
      ],
      "metadata": {
        "id": "UWT5FGfsnl0R"
      },
      "execution_count": 15,
      "outputs": []
    },
    {
      "cell_type": "code",
      "source": [
        "def solution(data):\n",
        "    arr, n, m = data\n",
        "    nm = [i for i in range(n, m+1)]\n",
        "    ret = set(nm) - set(arr)\n",
        "    return sorted(ret)"
      ],
      "metadata": {
        "id": "r3d6ndRkDaum"
      },
      "execution_count": 19,
      "outputs": []
    },
    {
      "cell_type": "code",
      "source": [
        "def solution(data):\n",
        "    target, n, m = data\n",
        "    data_range = range(n, m+1)\n",
        "    return list(filter(lambda x:x not in target, data_range))"
      ],
      "metadata": {
        "id": "wjHcy1otED6V"
      },
      "execution_count": null,
      "outputs": []
    },
    {
      "cell_type": "markdown",
      "source": [
        "# 76번\n"
      ],
      "metadata": {
        "id": "BxtofrDLDnPx"
      }
    },
    {
      "cell_type": "markdown",
      "source": [
        "## 배열의 병합(요소 비교)\n"
      ],
      "metadata": {
        "id": "T7j6CQU0Dqp9"
      }
    },
    {
      "cell_type": "code",
      "source": [
        "def solution(data):\n",
        "    arr1, arr2 = data\n",
        "    merged = []\n",
        "    i, j = 0, 0\n",
        "\n",
        "    # 두 배열의 요소를 비교하며 병합\n",
        "    while i < len(arr1) and j < len(arr2):\n",
        "        if arr1[i] < arr2[j]:\n",
        "            merged.append(arr1[i])\n",
        "            i += 1\n",
        "        else:\n",
        "            merged.append(arr2[j])\n",
        "            j += 1\n",
        "\n",
        "    # 남은 요소들 추가\n",
        "    while i < len(arr1):\n",
        "        merged.append(arr1[i])\n",
        "        i += 1\n",
        "    while j < len(arr2):\n",
        "        merged.append(arr2[j])\n",
        "        j += 1\n",
        "\n",
        "    return merged"
      ],
      "metadata": {
        "id": "6XE-sakjnqmj"
      },
      "execution_count": 16,
      "outputs": []
    },
    {
      "cell_type": "code",
      "source": [
        "def solution(data):\n",
        "    arr1, arr2 = data\n",
        "    ret = []\n",
        "    while arr1 and arr2:\n",
        "        if arr1[0] < arr2[0]:\n",
        "            ret.append(arr1.pop(0))\n",
        "        else:\n",
        "            ret.append(arr2.pop(0))\n",
        "    ret.extend(arr1 or arr2)\n",
        "    return ret"
      ],
      "metadata": {
        "id": "YRJwlBlFDd0d"
      },
      "execution_count": 17,
      "outputs": []
    },
    {
      "cell_type": "code",
      "source": [
        "def solution(data):\n",
        "    A, B = data\n",
        "    result = []\n",
        "    i = j = 0\n",
        "\n",
        "    while i < len(A) and j < len(B):\n",
        "        if A[i] < B[j]:\n",
        "            result.append(A[i])\n",
        "            i += 1\n",
        "        else:\n",
        "            result.append(B[j])\n",
        "            j += 1\n",
        "\n",
        "    while i < len(A):\n",
        "        result.append(A[i])\n",
        "        i += 1\n",
        "\n",
        "    while j < len(B):\n",
        "        result.append(B[j])\n",
        "        j += 1\n",
        "\n",
        "    return result"
      ],
      "metadata": {
        "id": "zt9uFd0uDfuK"
      },
      "execution_count": 18,
      "outputs": []
    },
    {
      "cell_type": "code",
      "source": [
        "def solution(data):\n",
        "    arr1, arr2 = data\n",
        "    for num1 in arr1:\n",
        "        for i, num2 in enumerate(arr2):\n",
        "            if num1 <= num2:\n",
        "                idx = arr2.index(num2)\n",
        "                arr2.insert(idx, num1)\n",
        "                break\n",
        "            elif i == (len(arr2) -1):\n",
        "                arr2.append(num1)\n",
        "                break\n",
        "\n",
        "    return arr2"
      ],
      "metadata": {
        "id": "wbPD9nxZDhw7"
      },
      "execution_count": null,
      "outputs": []
    }
  ]
}