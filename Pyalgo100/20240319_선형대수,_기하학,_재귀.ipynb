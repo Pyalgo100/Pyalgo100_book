{
  "nbformat": 4,
  "nbformat_minor": 0,
  "metadata": {
    "colab": {
      "provenance": []
    },
    "kernelspec": {
      "name": "python3",
      "display_name": "Python 3"
    },
    "language_info": {
      "name": "python"
    }
  },
  "cells": [
    {
      "cell_type": "markdown",
      "source": [
        "##89번"
      ],
      "metadata": {
        "id": "JSd3dmOeIgmf"
      }
    },
    {
      "cell_type": "code",
      "source": [
        "def solution(data):\n",
        "    line1, line2 = data\n",
        "    (x1, y1), (x2, y2) = line1\n",
        "    (x3, y3), (x4, y4) = line2\n",
        "\n",
        "    if (x2-x1)*(y4-y3) == (x4-x3)*(y2-y1):\n",
        "        return None\n",
        "\n",
        "    px = ((x1*y2 - y1*x2)*(x3-x4) - (x1-x2)*(x3*y4 - y3*x4)) / ((x1-x2)*(y3-y4) - (y1-y2)*(x3-x4))\n",
        "    py = ((x1*y2 - y1*x2)*(y3-y4) - (y1-y2)*(x3*y4 - y3*x4)) / ((x1-x2)*(y3-y4) - (y1-y2)*(x3-x4))\n",
        "\n",
        "    return (px, py)\n"
      ],
      "metadata": {
        "id": "Qx03THq0JLw4"
      },
      "execution_count": null,
      "outputs": []
    },
    {
      "cell_type": "code",
      "source": [
        "def solution(data):\n",
        "    line1, line2 = data\n",
        "    (x1, y1), (x2, y2) = line1\n",
        "    (x3, y3), (x4, y4) = line2\n",
        "# 기울기 계산\n",
        "    m1 = (y2 - y1) / (x2 - x1) if x1 != x2 else float('inf')\n",
        "    m2 = (y4 - y3) / (x4 - x3) if x3 != x4 else float('inf')\n",
        "\n",
        "    # 기울기가 다르면 교차점 계산\n",
        "    if m1 != m2:\n",
        "        if x1 == x2:  # 선분1이 수직선인 경우\n",
        "            x = x1\n",
        "            y = m2 * (x - x3) + y3\n",
        "        elif x3 == x4:  # 선분2가 수직선인 경우\n",
        "            x = x3\n",
        "            y = m1 * (x - x1) + y1\n",
        "        else:  # 일반적인 경우\n",
        "            x = (y3 - y1 + m1 * x1 - m2 * x3) / (m1 - m2)\n",
        "            y = m1 * (x - x1) + y1\n",
        "\n",
        "        # 교차점이 두 선분 위에 있는지 확인\n",
        "        if min(x1, x2) <= x <= max(x1, x2) and min(x3, x4) <= x <= max(x3, x4) and \\\n",
        "           min(y1, y2) <= y <= max(y1, y2) and min(y3, y4) <= y <= max(y3, y4):\n",
        "            return (int(x), int(y))\n",
        "\n",
        "    # 기울기가 같으면 평행 선분 확인\n",
        "    else:\n",
        "        # 두 직선의 y절편 계산\n",
        "        c1 = y1 - m1 * x1\n",
        "        c2 = y3 - m2 * x3\n",
        "\n",
        "        # 두 직선이 일치하는지 확인\n",
        "        if c1 == c2:\n",
        "            # 겹치는 구간 확인\n",
        "            x_start = max(min(x1, x2), min(x3, x4))\n",
        "            x_end = min(max(x1, x2), max(x3, x4))\n",
        "            y_start = max(min(y1, y2), min(y3, y4))\n",
        "            y_end = min(max(y1, y2), max(y3, y4))\n",
        "\n",
        "            # 겹치는 구간이 있다면 시작점 반환\n",
        "            if x_start <= x_end and y_start <= y_end:\n",
        "                return (x_start, y_start)\n",
        "\n",
        "    # 교차점이 없으면 (0, 0) 반환\n",
        "    return (0, 0)\n"
      ],
      "metadata": {
        "id": "2Tfh3t3hJMUa"
      },
      "execution_count": null,
      "outputs": []
    },
    {
      "cell_type": "code",
      "source": [
        "def solution(data):\n",
        "    # 두 선분의 좌표를 추출합니다.\n",
        "    (x1, y1), (x2, y2) = data[0]\n",
        "    (x3, y3), (x4, y4) = data[1]\n",
        "\n",
        "    # 두 선분이 수직인 경우\n",
        "    if x1 == x2 and x3 == x4:\n",
        "        if x1 != x3:  # 수직인데 x 좌표가 다르면 겹치는 점이 없음\n",
        "            return (0, 0)\n",
        "        # 수직이면서 x 좌표가 같으면 겹치는 y 좌표를 구함\n",
        "        return (x1, max(min(y1, y2), min(y3, y4)))\n",
        "    # 두 선분이 평행한 경우\n",
        "    if (y2 - y1) * (x4 - x3) == (y4 - y3) * (x2 - x1):\n",
        "        return (0, 0)  # 겹치는 점이 없음\n",
        "\n",
        "    # 두 선분의 기울기가 다른 경우\n",
        "    intersect_x = ((x1 * y2 - y1 * x2) * (x3 - x4) - (x1 - x2) * (x3 * y4 - y3 * x4)) / ((x1 - x2) * (y3 - y4) - (y1 - y2) * (x3 - x4))\n",
        "    intersect_y = ((x1 * y2 - y1 * x2) * (y3 - y4) - (y1 - y2) * (x3 * y4 - y3 * x4)) / ((x1 - x2) * (y3 - y4) - (y1 - y2) * (x3 - x4))\n",
        "\n",
        "    # 겹치는 점이 두 선분 사이에 있는지 확인\n",
        "    if (min(x1, x2) <= intersect_x <= max(x1, x2)) and (min(x3, x4) <= intersect_x <= max(x3, x4)) \\\n",
        "        and (min(y1, y2) <= intersect_y <= max(y1, y2)) and (min(y3, y4) <= intersect_y <= max(y3, y4)):\n",
        "        return (intersect_x, intersect_y)\n",
        "\n",
        "    return (0, 0)  # 겹치는 점이 없음\n"
      ],
      "metadata": {
        "id": "JMxGF5HmJMad"
      },
      "execution_count": null,
      "outputs": []
    },
    {
      "cell_type": "code",
      "source": [
        "def solution(data):\n",
        "    total_points = []\n",
        "\n",
        "    for line in data:\n",
        "        x1, y1 = line[0]\n",
        "        x2, y2 = line[1]\n",
        "        points = []\n",
        "\n",
        "        try:\n",
        "            a = (y2 - y1) / (x2 - x1)\n",
        "        except:\n",
        "            a = 0\n",
        "        b = y1 - a*x1\n",
        "\n",
        "\n",
        "        if a == 0:\n",
        "            if x2 - x1 == 0:\n",
        "                start_y = min(y1, y2)\n",
        "                end_y = max(y1, y2)\n",
        "                for y in range(start_y, end_y + 1):\n",
        "                    points.append((x1, y))\n",
        "\n",
        "            elif y2 - y1 == 0:\n",
        "                start_x = min(x1, x2)\n",
        "                end_x = max(x1, x2)\n",
        "                for x in range(start_x, end_x + 1):\n",
        "                    points.append((x, y1))\n",
        "        else:\n",
        "            start_x = min(x1, x2)\n",
        "            end_x = max(x1, x2)\n",
        "            for x in range(start_x, end_x + 1):\n",
        "                y = int(a*x + b)\n",
        "                points.append((x, y))\n",
        "\n",
        "        total_points.append(points)\n",
        "\n",
        "    try:\n",
        "        res = list(filter(lambda x:x in total_points[1], total_points[0]))[0]\n",
        "    except:\n",
        "        res = (0, 0)\n",
        "    return res\n"
      ],
      "metadata": {
        "id": "fMV04BhIJMgt"
      },
      "execution_count": null,
      "outputs": []
    },
    {
      "cell_type": "markdown",
      "source": [
        "##90번"
      ],
      "metadata": {
        "id": "B6WxWL3IJC-M"
      }
    },
    {
      "cell_type": "code",
      "source": [
        "def solution(data):\n",
        "    a, b, c = [i**2 for i in data]\n",
        "    return bool(a + b == c)"
      ],
      "metadata": {
        "id": "brhsRquNJXWc"
      },
      "execution_count": null,
      "outputs": []
    },
    {
      "cell_type": "code",
      "source": [
        "def solution(data):\n",
        "    return data[0]**2 + data[1]**2 == data[2]**2"
      ],
      "metadata": {
        "id": "IbgeoIB3JXcT"
      },
      "execution_count": null,
      "outputs": []
    },
    {
      "cell_type": "code",
      "source": [
        "def solution(data):\n",
        "    total_num = 0\n",
        "    for i, num in enumerate(data):\n",
        "        if i == 2:\n",
        "            return num ** 2 == total_num\n",
        "        total_num += num ** 2"
      ],
      "metadata": {
        "id": "xLqx-z6iJXjV"
      },
      "execution_count": null,
      "outputs": []
    },
    {
      "cell_type": "markdown",
      "source": [
        "##91번"
      ],
      "metadata": {
        "id": "vrFwoS7gJDEp"
      }
    },
    {
      "cell_type": "code",
      "source": [
        "def solution(data):\n",
        "    if data == 1:\n",
        "        return 1\n",
        "    return data * solution(data-1)"
      ],
      "metadata": {
        "id": "dP66oY1mJb0j"
      },
      "execution_count": null,
      "outputs": []
    },
    {
      "cell_type": "code",
      "source": [
        "def solution(data):\n",
        "    if data == 0:\n",
        "        return 1\n",
        "    return data * solution(data-1)"
      ],
      "metadata": {
        "id": "P__2yIgyJb9Y"
      },
      "execution_count": null,
      "outputs": []
    },
    {
      "cell_type": "code",
      "source": [
        "def solution(data):\n",
        "    if data <= 1:\n",
        "        return 1\n",
        "    else:\n",
        "        return data * solution(data - 1)"
      ],
      "metadata": {
        "id": "5rtrPna4JeSY"
      },
      "execution_count": null,
      "outputs": []
    },
    {
      "cell_type": "code",
      "source": [
        "def solution(n):\n",
        "    # 기저 사례: n이 0이거나 1일 때는 1을 반환합니다.\n",
        "    if n == 0 or n == 1:\n",
        "        return 1\n",
        "\n",
        "    # 재귀 호출을 통해 n-1의 팩토리얼을 구하고 n에 곱하여 반환합니다.\n",
        "    return n * solution(n - 1)\n"
      ],
      "metadata": {
        "id": "sZ81-nD-JeZ0"
      },
      "execution_count": null,
      "outputs": []
    },
    {
      "cell_type": "code",
      "source": [
        "def solution(data):\n",
        "    if data == 0:\n",
        "        return 1\n",
        "    return data * solution(data-1)"
      ],
      "metadata": {
        "id": "MMZNbil5JhXo"
      },
      "execution_count": null,
      "outputs": []
    },
    {
      "cell_type": "markdown",
      "source": [
        "##92번"
      ],
      "metadata": {
        "id": "-LTT37rUJDKr"
      }
    },
    {
      "cell_type": "code",
      "source": [
        "def solution(data):\n",
        "    if data == 1 or data == 2:\n",
        "        return 1\n",
        "    return solution(data-1) + solution(data-2)"
      ],
      "metadata": {
        "id": "0wjHUSEcJjNm"
      },
      "execution_count": null,
      "outputs": []
    },
    {
      "cell_type": "code",
      "source": [
        "def solution(data):\n",
        "    if data == 0:\n",
        "        return 0\n",
        "    elif data == 1:\n",
        "        return 1\n",
        "    return solution(data-1) + solution(data-2)"
      ],
      "metadata": {
        "id": "tmkP28zxJjTf"
      },
      "execution_count": null,
      "outputs": []
    },
    {
      "cell_type": "code",
      "source": [
        "def solution(data):\n",
        "    n = data\n",
        "    # 기저 사례: n이 0일 때는 0을 반환하고, n이 1일 때는 1을 반환합니다.\n",
        "    if n == 0:\n",
        "        return 0\n",
        "    elif n == 1:\n",
        "        return 1\n",
        "    # F(n) = F(n-1) + F(n-2)의 관계를 이용하여 재귀적으로 호출합니다.\n",
        "    else:\n",
        "        return solution(n - 1) + solution(n - 2)\n"
      ],
      "metadata": {
        "id": "ZkYHbi-_JjYK"
      },
      "execution_count": null,
      "outputs": []
    },
    {
      "cell_type": "code",
      "source": [
        "def solution(data):\n",
        "    if data == 0:\n",
        "        return 0\n",
        "    elif data == 1:\n",
        "        return 1\n",
        "    return solution(data - 1) + solution(data - 2)"
      ],
      "metadata": {
        "id": "N92TPdGyJyA4"
      },
      "execution_count": null,
      "outputs": []
    },
    {
      "cell_type": "code",
      "source": [
        "def solution(data):\n",
        "    if data == 0:\n",
        "        return 0\n",
        "    if data == 1 or data == 2:\n",
        "        return 1\n",
        "    return solution(data-1) + solution(data-2)"
      ],
      "metadata": {
        "id": "qxOJ_e20J1Uw"
      },
      "execution_count": null,
      "outputs": []
    },
    {
      "cell_type": "markdown",
      "source": [
        "##93번"
      ],
      "metadata": {
        "id": "Je1xVb7BJDPL"
      }
    },
    {
      "cell_type": "code",
      "source": [
        "def solution(data):\n",
        "    if not data:\n",
        "        return 0\n",
        "    return data[0] + solution(data[1:])"
      ],
      "metadata": {
        "id": "sf_bNzjDJzbp"
      },
      "execution_count": null,
      "outputs": []
    },
    {
      "cell_type": "code",
      "source": [
        "def solution(data):\n",
        "    if len(data) == 1:\n",
        "        return data[0]\n",
        "    return data[0] + solution(data[1:])"
      ],
      "metadata": {
        "id": "r5JyAi7AJzhh"
      },
      "execution_count": null,
      "outputs": []
    },
    {
      "cell_type": "code",
      "source": [
        "def solution(data):\n",
        "    return data[-1] + (0 if len(data) == 1 else solution(data[:-1]))"
      ],
      "metadata": {
        "id": "tt1LYsurJzp6"
      },
      "execution_count": null,
      "outputs": []
    },
    {
      "cell_type": "code",
      "source": [
        "def solution(data):\n",
        "    nums = data\n",
        "\n",
        "\n",
        "    if not nums:\n",
        "        return 0\n",
        "\n",
        "\n",
        "    first_element = nums[0]\n",
        "    rest_of_list = nums[1:]\n",
        "\n",
        "\n",
        "    return first_element + solution(rest_of_list)\n"
      ],
      "metadata": {
        "id": "VSGUOBv-J8dx"
      },
      "execution_count": null,
      "outputs": []
    },
    {
      "cell_type": "code",
      "source": [
        "def solution(data):\n",
        "    if len(data) == 0:\n",
        "        return 0\n",
        "    else:\n",
        "        return data[0] + solution(data[1:])"
      ],
      "metadata": {
        "id": "RbyTpKqqJ8jp"
      },
      "execution_count": null,
      "outputs": []
    },
    {
      "cell_type": "markdown",
      "source": [
        "##94번"
      ],
      "metadata": {
        "id": "5JlR4v5QJDVn"
      }
    },
    {
      "cell_type": "code",
      "source": [
        "def solution(data):\n",
        "    a, b = max(data), min(data)\n",
        "    if a % b == 0:\n",
        "        return b\n",
        "    return solution((b, a % b))"
      ],
      "metadata": {
        "id": "UYZEV3gXJ_Ll"
      },
      "execution_count": null,
      "outputs": []
    },
    {
      "cell_type": "code",
      "source": [
        "def solution(data):\n",
        "    return data[0] if data[1] == 0 else solution([min(data), (max(data) % min(data))])"
      ],
      "metadata": {
        "id": "PQq89NYYJ_Rd"
      },
      "execution_count": null,
      "outputs": []
    },
    {
      "cell_type": "code",
      "source": [
        "def solution(data):\n",
        "    a, b = data\n",
        "    if b == 0:\n",
        "        return a\n",
        "    else:\n",
        "        return solution((b, a % b))"
      ],
      "metadata": {
        "id": "Oo0DaINyJ_Ww"
      },
      "execution_count": null,
      "outputs": []
    },
    {
      "cell_type": "code",
      "source": [
        "def solution(data):\n",
        "    # 최대공약수 계산 함수\n",
        "    def gcd(a, b):\n",
        "        # base case: 만약 b가 0이면 a를 반환\n",
        "        if b == 0:\n",
        "            return a\n",
        "        # 재귀 호출: a를 b로, b를 a % b로 업데이트하여 다시 gcd 함수 호출\n",
        "        else:\n",
        "            return gcd(b, a % b)\n",
        "\n",
        "    # data 리스트에서 두 숫자 a, b를 할당\n",
        "    a, b = data\n",
        "\n",
        "    # gcd 함수를 이용하여 a와 b의 최대공약수 계산 및 반환\n",
        "    return gcd(a, b)\n"
      ],
      "metadata": {
        "id": "wWNgZwWMJ_ba"
      },
      "execution_count": null,
      "outputs": []
    }
  ]
}