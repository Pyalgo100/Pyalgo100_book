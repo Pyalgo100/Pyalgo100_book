{
  "nbformat": 4,
  "nbformat_minor": 0,
  "metadata": {
    "colab": {
      "provenance": []
    },
    "kernelspec": {
      "name": "python3",
      "display_name": "Python 3"
    },
    "language_info": {
      "name": "python"
    }
  },
  "cells": [
    {
      "cell_type": "markdown",
      "source": [
        "##41번"
      ],
      "metadata": {
        "id": "wtpU2If3gB5F"
      }
    },
    {
      "cell_type": "code",
      "source": [
        "def solution(data):\n",
        "    result = []\n",
        "    for i in data:\n",
        "        if i in ['(', '[', '{']:\n",
        "            result.append(i)\n",
        "        else:\n",
        "            last = result.pop()\n",
        "            if (last == '(' and i == ')') or (last == '[' and i == ']') or (last == '{' and i == '}') :\n",
        "                pass\n",
        "            else:\n",
        "                return False\n",
        "    return len(result) == 0"
      ],
      "metadata": {
        "id": "ss8sqxrngekF"
      },
      "execution_count": null,
      "outputs": []
    },
    {
      "cell_type": "code",
      "source": [
        "def isValid(s):\n",
        "    stack = []\n",
        "    bracket_map = {\"(\": \")\", \"{\": \"}\", \"[\": \"]\"}  # 여는 괄호를 키로, 해당하는 닫는 괄호를 값으로 가지는 딕셔너리를 정의합니다.\n",
        "\n",
        "    for char in s:  # 주어진 문자열 `s`를 한 문자씩 순회합니다.\n",
        "        if char in bracket_map:  # 현재 문자가 여는 괄호인 경우\n",
        "            stack.append(char)  # 스택에 현재 괄호를 추가합니다.\n",
        "        elif stack and char == bracket_map[stack[-1]]:  # 현재 문자가 닫는 괄호이며, 스택의 마지막 요소와 짝이 맞는 경우\n",
        "            stack.pop()  # 스택에서 마지막 요소(짝이 맞는 여는 괄호)를 제거합니다.\n",
        "        else:  # 짝이 맞지 않는 경우 (예: 스택이 비어있거나, 현재 닫는 괄호와 스택의 마지막 요소가 짝이 맞지 않는 경우)\n",
        "            return False  # 괄호의 짝이 맞지 않으므로, 함수는 False를 반환하고 종료됩니다.\n",
        "\n",
        "    return not stack  # 최종적으로 스택이 비어있다면 (모든 괄호의 짝이 맞았다면) True를 반환하고, 아니면 False를 반환합니다."
      ],
      "metadata": {
        "id": "EMSFjoWlhCql"
      },
      "execution_count": null,
      "outputs": []
    },
    {
      "cell_type": "code",
      "source": [
        "def solution(data):\n",
        "\n",
        "    # 괄호 쌍을 찾아 제거\n",
        "    check_length = 0\n",
        "    while check_length != len(data):\n",
        "        check_length = len(data)\n",
        "        data = re.sub(r'\\(\\)', '', data)  # () 제거\n",
        "        data = re.sub(r'\\[\\]', '', data)  # [] 제거\n",
        "        data = re.sub(r'\\{\\}', '', data)  # {} 제거\n",
        "        print(check_length, len(data), data)\n",
        "\n",
        "    return len(data) == 0  # 모든 괄호가 제거되었으면 True, 아니면 False"
      ],
      "metadata": {
        "id": "q0S4tu2Pght_"
      },
      "execution_count": null,
      "outputs": []
    },
    {
      "cell_type": "code",
      "source": [
        "def solution(data):\n",
        "    # 괄호의 짝을 정의한 딕셔너리\n",
        "    brackets = {'(': ')', '{': '}', '[': ']'}\n",
        "    stack = []\n",
        "\n",
        "    for char in data:\n",
        "        # 열린 괄호인 경우 스택에 푸시\n",
        "        if char in brackets:\n",
        "            stack.append(char)\n",
        "        # 닫힌 괄호인 경우\n",
        "        elif char in brackets.values():\n",
        "            # 스택이 비어 있거나 짝이 맞지 않는 경우\n",
        "            if not stack or char != brackets[stack.pop()]:\n",
        "                return False\n",
        "    # 스택이 비어 있어야 올바른 괄호 사용\n",
        "    return not stack"
      ],
      "metadata": {
        "id": "qTFUXZ7Tgj4f"
      },
      "execution_count": null,
      "outputs": []
    },
    {
      "cell_type": "code",
      "source": [
        "def solution(data):\n",
        "    stack = []\n",
        "    bracket_map = {\"(\": \")\", \"{\": \"}\", \"[\": \"]\"}\n",
        "\n",
        "    for char in data:\n",
        "        if char in bracket_map:\n",
        "            stack.append(char)\n",
        "        elif stack and char == bracket_map[stack[-1]]:\n",
        "            stack.pop()\n",
        "        else:\n",
        "            return False\n",
        "\n",
        "    return not stack"
      ],
      "metadata": {
        "id": "beniVd0Dgl4W"
      },
      "execution_count": null,
      "outputs": []
    },
    {
      "cell_type": "code",
      "source": [
        "def solution(data):\n",
        "    stack = []\n",
        "    brackets = {')': '(', '}': '{', ']': '['}  # 괄호의 짝을 매칭하기 위한 딕셔너리\n",
        "\n",
        "    for char in data:\n",
        "        if char in brackets.values():  # 여는 괄호일 경우\n",
        "            stack.append(char)\n",
        "        elif char in brackets.keys():  # 닫는 괄호일 경우\n",
        "            if not stack or brackets[char] != stack.pop():  # 스택이 비어있거나 짝이 맞지 않는 경우\n",
        "                return False\n",
        "\n",
        "    return not stack  # 스택에 남아있는 괄호가 없어야 올바른 괄호 사용"
      ],
      "metadata": {
        "id": "r05qmqnGgnIu"
      },
      "execution_count": null,
      "outputs": []
    },
    {
      "cell_type": "code",
      "source": [
        "def solution(data):\n",
        "    stack = [] # 열린 괄호는 stack에 넣음, 닫힌 괄호의 경우 stack의 마지막 요소를 꺼내어서 해당 닫힌 괄호와 짝이 맞는지 확인\n",
        "    parentheses = {'(': ')', '[': ']', '{': '}'} # 열린괄호를 키로 닫힌괄호를 값으로 하는 올바른 짝 딕셔너리\n",
        "\n",
        "    for char in data: # 요소 뽑음\n",
        "        if char in parentheses.keys(): # 뽑은 요소가 짝의 키에 해당하면 해당 요소는 열린 괄호\n",
        "            stack.append(char) # 열린 괄호는 stack에 집어넣음\n",
        "        elif char in parentheses.values(): # 뽑은 요소가 짝의 값에 해당하면 해당요소는 닫힌 괄호\n",
        "            if not stack or parentheses[stack.pop()] != char: # stack의 마지막 열린괄호 요소를 꺼내어 해당 닫힌 괄호와 비교 ; 올바른 짝이면 stack의 마지막 요소가 비워지는 결과\n",
        "                return False # 비교 결과 올바른 짝이 아니면 False 반환 => 함수 종료\n",
        "    return not stack # for문이 중간에 반환없이 다 돌았으면 stack은 비어있음. True 반환 => bool(not []) => True\n",
        "\n",
        "    # data = \"{[()()]}\" 예시\n",
        "    # 손으로 직접 써보면 직관적으로 이해됨.\n",
        "    # for문\n",
        "    # 닫힌 괄호가 나올 때까지 stack에 쌓음\n",
        "    # 0번째 요소 : '{' => parentheses의 키에 포함 => stack에 들어감 ; stack 상태 ['{']\n",
        "    # 1번째 요소 : '[' => stack 상태 : ['{', '[']\n",
        "    # 2번째 요소 : '(' => stack : ['{', '[', '(']\n",
        "    # 3번째 요소 : ')' => stack.pop() => 뽑힌 요소 '(' ; stack : ['{', '[']\n",
        "    #                  => bool(parenteses['('] == ')') => True => for문으로 돌아감\n",
        "    # 4번째 요소 : '(' => stack : ['{', '[', '(']\n",
        "    # 5번째 요소 : ')' => stack : ['{', '['] ; popped '(' ')' 짝 확인 => True\n",
        "    # 6번째 요소 : ']' => stack : ['{'] ; popped '[' ']' => True\n",
        "    # 7번째 요소 : '}' => stack : [] ; popped '{' '}' => True\n",
        "    # 중간에 return없이 for문 다 돌았으니 True 반환\n",
        "    # : return not stack => return not [] => True"
      ],
      "metadata": {
        "id": "RY4CdySbihC5"
      },
      "execution_count": null,
      "outputs": []
    },
    {
      "cell_type": "markdown",
      "source": [
        "##42번"
      ],
      "metadata": {
        "id": "eTEOgMr2gnwv"
      }
    },
    {
      "cell_type": "code",
      "source": [
        "def solution(data):\n",
        "    size = data['size']\n",
        "    requests = data['requests']\n",
        "\n",
        "    return requests[-(size):]"
      ],
      "metadata": {
        "id": "47tuOZeugpVu"
      },
      "execution_count": null,
      "outputs": []
    },
    {
      "cell_type": "code",
      "source": [
        "def solution(data):\n",
        "    size = data[\"size\"]\n",
        "    requests = data[\"requests\"]\n",
        "    queue = deque(maxlen=size)\n",
        "    for request in requests:\n",
        "        queue.append(request)\n",
        "    return list(queue)"
      ],
      "metadata": {
        "id": "UiWbdzClg25O"
      },
      "execution_count": null,
      "outputs": []
    },
    {
      "cell_type": "code",
      "source": [
        "from collections import deque\n",
        "def solution(data):\n",
        "    size, requests = data['size'], data['requests']\n",
        "    result = deque(maxlen=size) # 최대 길이 값을 넘으면 가장 오래된 값이 자동 삭제\n",
        "    for i in requests:\n",
        "        result.append(i)\n",
        "    return list(result)"
      ],
      "metadata": {
        "id": "mRILs3QQhOQs"
      },
      "execution_count": null,
      "outputs": []
    },
    {
      "cell_type": "code",
      "source": [
        "def solution(data):\n",
        "    size = data[\"size\"]\n",
        "    requests = data[\"requests\"]\n",
        "    queue = []  # deque 대신 리스트 사용\n",
        "    for request in requests:\n",
        "        if len(queue) >= size:  # 큐가 최대 크기에 도달하면,\n",
        "            queue.pop(0)  # 가장 오래된 요소 제거\n",
        "        queue.append(request)  # 새 요청 추가\n",
        "    return queue"
      ],
      "metadata": {
        "id": "nuNXpWxFhTsQ"
      },
      "execution_count": null,
      "outputs": []
    },
    {
      "cell_type": "code",
      "source": [
        "def solution(data):\n",
        "    size = data[\"size\"]\n",
        "    q_list = data[\"requests\"]\n",
        "    answer_list = []\n",
        "    for i in q_list:\n",
        "        if len(answer_list) == size:\n",
        "            answer_list.pop(0)\n",
        "            answer_list.append(i)\n",
        "        else:\n",
        "            answer_list.append(i)\n",
        "    return answer_list"
      ],
      "metadata": {
        "id": "TAvax2MghU30"
      },
      "execution_count": null,
      "outputs": []
    },
    {
      "cell_type": "code",
      "source": [
        "q_list = []\n",
        "max_size = 3\n",
        "\n",
        "def enqueue(data):\n",
        "    q_list.append(data)\n",
        "    if len(q_list) > max_size:\n",
        "        dequeue()  ##return 값 없음\n",
        "\n",
        "def dequeue():\n",
        "    if q_list:  ##리스트가 비어있으면 IndexError 예외가 발생\n",
        "        return q_list.pop(0)\n",
        "\n",
        "\n",
        "enqueue(1)\n",
        "q_list\n",
        "\n",
        "enqueue(2)\n",
        "q_list\n",
        "\n",
        "enqueue(3)\n",
        "q_list\n",
        "\n",
        "enqueue(4)\n",
        "q_list\n",
        "\n",
        "q_list.pop(0)"
      ],
      "metadata": {
        "id": "ugD7Mub7hXAG"
      },
      "execution_count": null,
      "outputs": []
    },
    {
      "cell_type": "code",
      "source": [
        "def solution(data):\n",
        "    size = data['size']\n",
        "    requests = data['requests']\n",
        "\n",
        "    queue = []\n",
        "    for request in requests:\n",
        "        if len(queue) >= size: # queue안의 요소 갯수가 사이즈 이상이면\n",
        "            queue.pop(0)\n",
        "        queue.append(request)\n",
        "    return queue"
      ],
      "metadata": {
        "id": "5YLq5LjLhZO3"
      },
      "execution_count": null,
      "outputs": []
    },
    {
      "cell_type": "markdown",
      "source": [
        "##43번"
      ],
      "metadata": {
        "id": "AvBTMY0ahaRU"
      }
    },
    {
      "cell_type": "code",
      "source": [
        "def solution(data):\n",
        "    size = data['size']\n",
        "    pages = data['pages']\n",
        "\n",
        "    return pages[-(size):]"
      ],
      "metadata": {
        "id": "53uc3kj8hb_m"
      },
      "execution_count": null,
      "outputs": []
    },
    {
      "cell_type": "code",
      "source": [
        "def solution(data):\n",
        "    size = data[\"size\"]\n",
        "    requests = data[\"requests\"]\n",
        "    queue = deque(maxlen=size)\n",
        "    for request in requests:\n",
        "        queue.append(request)\n",
        "    return list(queue)"
      ],
      "metadata": {
        "id": "bhoZ2-zreqEG"
      },
      "execution_count": null,
      "outputs": []
    },
    {
      "cell_type": "code",
      "source": [
        "from collections import deque\n",
        "def solution(data):\n",
        "    size, pages = data['size'], data['pages']\n",
        "    result = deque(maxlen=size)\n",
        "    for i in pages:\n",
        "        if not i in result:\n",
        "            result.append(i)\n",
        "        else:\n",
        "            result.remove(i)\n",
        "            result.append(i)\n",
        "    return list(result)"
      ],
      "metadata": {
        "id": "LatGkZ1_hdm2"
      },
      "execution_count": null,
      "outputs": []
    },
    {
      "cell_type": "code",
      "source": [
        "def solution(data):\n",
        "    size = data[\"size\"]\n",
        "    q_list = data[\"pages\"]\n",
        "    answer_list = []\n",
        "    for i in q_list:\n",
        "        if len(answer_list) == size:\n",
        "            answer_list.pop(0)\n",
        "            answer_list.append(i)\n",
        "        else:\n",
        "            answer_list.append(i)\n",
        "    return answer_list"
      ],
      "metadata": {
        "id": "WFuJJ7p6hemN"
      },
      "execution_count": null,
      "outputs": []
    },
    {
      "cell_type": "code",
      "source": [
        "def solution(data):\n",
        "    size = data[\"size\"]\n",
        "    pages = data[\"pages\"]\n",
        "    cache = {}  # 순서가 유지되는 사전을 사용하기 위해 일반적인 사전을 사용합니다.\n",
        "    keys = []\n",
        "\n",
        "    for page in pages:\n",
        "        if page in cache:\n",
        "            keys.remove(page)  # 해당 페이지를 keys 리스트에서 제거하여 순서를 조절합니다.\n",
        "        elif len(cache) >= size:\n",
        "            del cache[keys.pop(0)]  # 가장 오래된 페이지를 제거하고 해당 키를 keys 리스트에서도 제거합니다.\n",
        "        cache[page] = True\n",
        "        keys.append(page)  # 새 페이지를 keys 리스트의 끝에 추가하여 순서를 조절합니다.\n",
        "\n",
        "    return keys"
      ],
      "metadata": {
        "id": "rhywYpPlhh4l"
      },
      "execution_count": null,
      "outputs": []
    },
    {
      "cell_type": "code",
      "source": [
        "def solution(data):\n",
        "    size = data[\"size\"]\n",
        "    pages = data[\"pages\"]\n",
        "    cache = OrderedDict()\n",
        "\n",
        "    for page in pages:\n",
        "        if page in cache:\n",
        "            cache.pop(page)\n",
        "        elif len(cache) >= size:\n",
        "            cache.popitem(last=False)\n",
        "        cache[page] = True\n",
        "    return list(cache.keys())"
      ],
      "metadata": {
        "id": "v6G_MEH-ed13"
      },
      "execution_count": null,
      "outputs": []
    },
    {
      "cell_type": "code",
      "source": [
        "def solution(data):\n",
        "    size = data['size']\n",
        "    pages = data['pages']\n",
        "\n",
        "    l = list()\n",
        "\n",
        "    for i in pages:\n",
        "        if len(l) == size:\n",
        "            del l[0]\n",
        "        l.append(i)\n",
        "    return l"
      ],
      "metadata": {
        "id": "EFPb1pnDed8s"
      },
      "execution_count": null,
      "outputs": []
    },
    {
      "cell_type": "markdown",
      "source": [
        "##44번"
      ],
      "metadata": {
        "id": "JogarLfyh26F"
      }
    },
    {
      "cell_type": "code",
      "source": [
        "import re\n",
        "def solution(data):\n",
        "    data = data.lower()\n",
        "    words = sorted(list(set(re.findall(r\"\\w+\", data))))\n",
        "    return {i:data.count(i) for i in words}"
      ],
      "metadata": {
        "id": "fuYOWiCDh4lF"
      },
      "execution_count": null,
      "outputs": []
    },
    {
      "cell_type": "code",
      "source": [
        "def solution(data):\n",
        "    clean_text = re.sub(r'[^a-zA-Z0-9\\s]', ' ', data.lower())\n",
        "    text_list = clean_text.split()\n",
        "\n",
        "    answer = {}\n",
        "\n",
        "    for i in text_list:\n",
        "        if i in answer:\n",
        "            answer[i] += 1\n",
        "        else:\n",
        "            answer[i] = 1\n",
        "    return answer"
      ],
      "metadata": {
        "id": "e5AlNw1ah7Ok"
      },
      "execution_count": null,
      "outputs": []
    },
    {
      "cell_type": "code",
      "source": [
        "def solution(data):\n",
        "    words = data.lower().split()\n",
        "    frequency = {}\n",
        "    for word in words:\n",
        "        cleaned_word = \"\".join(char for char in word if char.isalpha())\n",
        "        if cleaned_word:\n",
        "            frequency[cleaned_word] = frequency.get(cleaned_word, 0) + 1\n",
        "    return frequency"
      ],
      "metadata": {
        "id": "tZPMUrjeh8X-"
      },
      "execution_count": null,
      "outputs": []
    },
    {
      "cell_type": "code",
      "source": [
        "def solution(data):\n",
        "    # 문자열을 소문자로 변환\n",
        "    data = data.lower()\n",
        "    cleaned_data = ''\n",
        "\n",
        "    for char in data:\n",
        "        # 만약 문자가 알파벳이거나 공백이라면\n",
        "        if char.isalpha() or char.isspace():\n",
        "            cleaned_data += char  # 문자를 그대로 사용\n",
        "        else:\n",
        "            cleaned_data += ' '  # 그렇지 않으면 공백으로 대체\n",
        "    # 공백으로 단어를 분리\n",
        "    words = cleaned_data.split()\n",
        "    # 단어의 빈도수 계산\n",
        "    word_count = {}\n",
        "    for word in words:\n",
        "        if word in word_count:\n",
        "            word_count[word] += 1\n",
        "        else:\n",
        "            word_count[word] = 1\n",
        "    return word_count"
      ],
      "metadata": {
        "id": "VKCw93Tah9oE"
      },
      "execution_count": null,
      "outputs": []
    },
    {
      "cell_type": "code",
      "source": [
        "import string\n",
        "def solution(data):\n",
        "    # 주어진 텍스트에서 모든 구두점을 제거하고, 소문자로 변환\n",
        "    # string.punctuation : 모든 구두점 문자를 포함한 문자열\n",
        "    # maketrans 함수의 첫 번째와 두 번째 파라미터는 1:1 대응되는 문자의 변환\n",
        "    # 세 번째 파라미터는 제거할 문자들\n",
        "    text = data.translate(str.maketrans('', '', string.punctuation)).lower()\n",
        "    freq = {}\n",
        "    for word in text.split():\n",
        "        if word in freq:\n",
        "            freq[word] += 1\n",
        "        else:\n",
        "            freq[word] = 1\n",
        "    return freq"
      ],
      "metadata": {
        "id": "xeell7bhh-3N"
      },
      "execution_count": null,
      "outputs": []
    },
    {
      "cell_type": "code",
      "source": [
        "def word_frequency(text):\n",
        "    # 소문자로 변환하고, 쉼표와 마침표를 제거합니다.\n",
        "    text = text.lower().replace(',', '').replace('.', '')  ##문자열\n",
        "\n",
        "    # 공백으로 단어를 구분합니다.\n",
        "    words = text.split()  ##리스트\n",
        "\n",
        "    # 빈도수를 저장할 사전을 생성합니다.\n",
        "    frequency = {}\n",
        "\n",
        "    # 각 단어의 빈도수를 계산합니다.\n",
        "    for word in words:\n",
        "        frequency[word] = frequency.get(word, 0) + 1\n",
        "\n",
        "    return frequency\n",
        "\n",
        "# 예시 문자열을 사용하여 함수를 테스트합니다.\n",
        "example_text = \"Hello world, hello\"\n",
        "print(word_frequency(example_text))"
      ],
      "metadata": {
        "id": "WctL-yIwiACd"
      },
      "execution_count": null,
      "outputs": []
    },
    {
      "cell_type": "code",
      "source": [
        "def solution(data):\n",
        "    words = data.lower().split()\n",
        "    frequency = {}\n",
        "    for word in words:\n",
        "        cleaned_word = \"\".join(char for char in word if char.isalpha())\n",
        "        if cleaned_word:\n",
        "            frequency[cleaned_word] = frequency.get(cleaned_word, 0) + 1\n",
        "    return frequency"
      ],
      "metadata": {
        "id": "UZ9CuyKBiC0t"
      },
      "execution_count": null,
      "outputs": []
    },
    {
      "cell_type": "code",
      "source": [
        "def solution(data):\n",
        "    words = data.lower().split()\n",
        "    frequency = {}\n",
        "    for word in words:\n",
        "        cleaned_word = \"\".join(char for char in word if char.isalpha())\n",
        "        if cleaned_word:\n",
        "            frequency[cleaned_word] = frequency.get(cleaned_word, 0) + 1\n",
        "    return frequency"
      ],
      "metadata": {
        "id": "WMbOG2JAfibF"
      },
      "execution_count": null,
      "outputs": []
    },
    {
      "cell_type": "code",
      "source": [
        "def solution(data):\n",
        "    l1 = data.split(' ')\n",
        "\n",
        "    l2 = list()\n",
        "    for i in l1:\n",
        "        if i[-1] == ',':\n",
        "            i = i[:-1]\n",
        "        i = i.lower()\n",
        "        l2.append(i)\n",
        "\n",
        "    dict1 = dict()\n",
        "    for i in set(l2):\n",
        "        dict1[i] = l2.count(i)\n",
        "    return dict1"
      ],
      "metadata": {
        "id": "uEI_KIQIfiiM"
      },
      "execution_count": null,
      "outputs": []
    },
    {
      "cell_type": "markdown",
      "source": [
        "##45번"
      ],
      "metadata": {
        "id": "3v3GsWvNiDhe"
      }
    },
    {
      "cell_type": "code",
      "source": [
        "from collections import deque\n",
        "\n",
        "def solution(data):\n",
        "    q1 = deque(data['queue1'])\n",
        "    q2 = deque(data['queue2'])\n",
        "    count = 0\n",
        "    sum_q1 = sum(q1)\n",
        "    sum_q2 = sum(q2)\n",
        "\n",
        "    # 두 큐의 합이 홀수라면 이들을 같게 만들 수 없음\n",
        "    if (sum_q1 + sum_q2) % 2 != 0:\n",
        "        return -1\n",
        "\n",
        "    while sum_q1 != sum_q2:\n",
        "        if sum_q1 > sum_q2:\n",
        "            pop_q1 = q1.popleft()\n",
        "            sum_q1 -= pop_q1\n",
        "            sum_q2 += pop_q1\n",
        "            q2.append(pop_q1)\n",
        "            count += 1\n",
        "        else:\n",
        "            pop_q2 = q2.popleft()\n",
        "            sum_q1 += pop_q2\n",
        "            sum_q2 -= pop_q2\n",
        "            q1.append(pop_q2)\n",
        "            count += 1\n",
        "\n",
        "        # 두 큐의 합이 홀수라면 이들을 같게 만들 수 없음\n",
        "        if (sum_q1 + sum_q2) % 2 != 0:\n",
        "            return -1\n",
        "\n",
        "    return count"
      ],
      "metadata": {
        "id": "goSY-CE1iFHW"
      },
      "execution_count": null,
      "outputs": []
    },
    {
      "cell_type": "code",
      "source": [
        "from collections import deque\n",
        "\n",
        "def equalize_queue_sums(queue1, queue2):\n",
        "    # 두 큐의 합을 계산합니다.\n",
        "    sum1, sum2 = sum(queue1), sum(queue2)\n",
        "    total_sum = sum1 + sum2\n",
        "\n",
        "    # 총 합이 홀수인 경우, 정확히 같은 합을 만들 수 없습니다.\n",
        "    if total_sum % 2 != 0:\n",
        "        return -1\n",
        "\n",
        "    target_sum = total_sum // 2\n",
        "    operations = 0\n",
        "    q1, q2 = deque(queue1), deque(queue2)\n",
        "\n",
        "    # 두 큐의 합이 동일해질 때까지 원소를 옮깁니다.\n",
        "    while sum1 != sum2:\n",
        "        # 최대한의 연산 횟수를 넘어서면 불가능한 것으로 간주합니다.\n",
        "        # 이는 두 큐의 길이의 합을 넘어서는 경우를 의미합니다.\n",
        "        if operations > len(queue1) + len(queue2):\n",
        "            return -1\n",
        "\n",
        "        # 첫 번째 큐의 합이 더 큰 경우, 첫 번째 큐에서 원소를 옮깁니다.\n",
        "        if sum1 > sum2:\n",
        "            moved = q1.popleft()\n",
        "            q2.append(moved)\n",
        "            sum1 -= moved\n",
        "            sum2 += moved\n",
        "        else:\n",
        "            moved = q2.popleft()\n",
        "            q1.append(moved)\n",
        "            sum1 += moved\n",
        "            sum2 -= moved\n",
        "\n",
        "        operations += 1\n",
        "\n",
        "    return operations\n",
        "\n",
        "# 예시 실행\n",
        "queue1 = [1, 2, 1, 2]\n",
        "queue2 = [1, 10, 1, 2]\n",
        "print(equalize_queue_sums(queue1, queue2))"
      ],
      "metadata": {
        "id": "Kjhs59YFiGwO"
      },
      "execution_count": null,
      "outputs": []
    },
    {
      "cell_type": "code",
      "source": [
        "from collections import deque\n",
        "def solution(data):\n",
        "    queue1, queue2 = deque(data['queue1']), deque(data['queue2'])\n",
        "    sum1, sum2 = sum(queue1), sum(queue2)\n",
        "    len1, len2 = len(queue1), len(queue2)\n",
        "    target = (sum1 + sum2) // 2\n",
        "    cnt = 0\n",
        "    for _ in range(len1+len2):\n",
        "        cnt += 1\n",
        "        if sum1 > target:\n",
        "            moved = queue1.popleft()\n",
        "            queue2.append(moved)\n",
        "            sum1 -= moved\n",
        "            sum2 += moved\n",
        "        elif sum1 < target:\n",
        "            moved = queue2.popleft()\n",
        "            queue1.append(moved)\n",
        "            sum1 += moved\n",
        "            sum2 -= moved\n",
        "        if sum1 == target:\n",
        "            return cnt\n",
        "    return -1"
      ],
      "metadata": {
        "id": "ueFMpm_JiIAY"
      },
      "execution_count": null,
      "outputs": []
    },
    {
      "cell_type": "code",
      "source": [
        "def solution(data):\n",
        "    queue1 = list(data[\"queue1\"])\n",
        "    queue2 = list(data[\"queue2\"])\n",
        "    sum1, sum2 = sum(queue1), sum(queue2)\n",
        "    total_sum = sum1 + sum2\n",
        "    operations = 0\n",
        "\n",
        "    if total_sum % 2 != 0:\n",
        "        return -1\n",
        "\n",
        "    while sum1 != sum2:\n",
        "        if sum1 > sum2:\n",
        "            value = queue1.pop(0)\n",
        "            sum1 -= value\n",
        "            sum2 += value\n",
        "            queue2.append(value)\n",
        "        else:\n",
        "            value = queue2.pop(0)\n",
        "            sum2 -= value\n",
        "            sum1 += value\n",
        "            queue1.append(value)\n",
        "        operations += 1\n",
        "\n",
        "        if operations > len(queue1) + len(queue2):\n",
        "            return -1\n",
        "\n",
        "    return operations"
      ],
      "metadata": {
        "id": "eacR0ktliMpF"
      },
      "execution_count": null,
      "outputs": []
    },
    {
      "cell_type": "code",
      "source": [
        "def solution(data):\n",
        "    queue1 = data['queue1']\n",
        "    queue2 = data['queue2']\n",
        "\n",
        "    queue1 = data['queue1']\n",
        "    queue2 = data['queue2']\n",
        "\n",
        "    if (sum(queue1) + sum(queue2)) % 2 != 0:\n",
        "        return -1\n",
        "\n",
        "    count = 0\n",
        "    while sum(queue1) != sum(queue2): # 두 합이 같아질 때까지 while문 돌림\n",
        "        if sum(queue1) > sum(queue2):\n",
        "            tmp1 = queue1.pop(0) # 제일 첫번쨰 값을 pop하고 그 값을 tmp1으로 저장\n",
        "            queue2.append(tmp1) # 저장한 tmp1을 queue2의 마지막에 추가\n",
        "        elif sum(queue1) < sum(queue2):\n",
        "            tmp2 = queue2.pop(0)\n",
        "            queue1.append(tmp2)\n",
        "        else:\n",
        "            break\n",
        "        count += 1\n",
        "    return count"
      ],
      "metadata": {
        "id": "OCBguCtcgGwD"
      },
      "execution_count": null,
      "outputs": []
    },
    {
      "cell_type": "markdown",
      "source": [
        "##46번"
      ],
      "metadata": {
        "id": "AN6-kHnmiQsu"
      }
    },
    {
      "cell_type": "code",
      "source": [
        "def solution(data):\n",
        "    size = data['size']\n",
        "    commands = data['commands']\n",
        "    q = []\n",
        "    result = []\n",
        "\n",
        "    for command in commands:\n",
        "        s, *i = command.split()\n",
        "        if s == 'insert':\n",
        "            q.append(i)\n",
        "            result.append(None)\n",
        "        elif s == 'search':\n",
        "            if i in q:\n",
        "                result.append(True)\n",
        "            else:\n",
        "                result.append(False)\n",
        "        else:\n",
        "            if q:  # 큐가 비어있는지 확인\n",
        "                q.pop()\n",
        "            result.append(None)\n",
        "    return result"
      ],
      "metadata": {
        "id": "OV2-_xeQiTDF"
      },
      "execution_count": null,
      "outputs": []
    },
    {
      "cell_type": "code",
      "source": [
        "from collections import deque\n",
        "def process_commands(size, commands):\n",
        "    queue = deque(maxlen=size)\n",
        "    result = []\n",
        "\n",
        "    for command in commands:\n",
        "        if command.startswith('insert'):\n",
        "            _, element = command.split()\n",
        "            queue.append(element)\n",
        "            result.append(None)\n",
        "        elif command == 'delete':\n",
        "            if queue:\n",
        "                queue.popleft()\n",
        "            result.append(None)\n",
        "        elif command.startswith('search'):\n",
        "            _, element = command.split()\n",
        "            result.append(element in queue)\n",
        "    return result"
      ],
      "metadata": {
        "id": "6nCKzLcHiUUF"
      },
      "execution_count": null,
      "outputs": []
    },
    {
      "cell_type": "code",
      "source": [
        "def solution(data):\n",
        "    class CircularQueue:\n",
        "        def __init__(self, size):\n",
        "            self.queue = []\n",
        "            self.size = size\n",
        "\n",
        "        def insert(self, element):\n",
        "            self.queue.append(element)\n",
        "            if len(self.queue) > self.size:\n",
        "                self.queue.pop(0)\n",
        "\n",
        "        def delete(self):\n",
        "            if self.queue:\n",
        "                self.queue.pop(0)\n",
        "\n",
        "        def search(self, element):\n",
        "            return element in self.queue\n",
        "\n",
        "    cq = CircularQueue(data[\"size\"])\n",
        "    result = []\n",
        "    for command in data[\"commands\"]:\n",
        "        if command.startswith(\"insert\"):\n",
        "            _, element = command.split()\n",
        "            cq.insert(element)\n",
        "            result.append(None)\n",
        "        elif command == \"delete\":\n",
        "            cq.delete()\n",
        "            result.append(None)\n",
        "        elif command.startswith(\"search\"):\n",
        "            _, element = command.split()\n",
        "            result.append(cq.search(element))\n",
        "\n",
        "    return result"
      ],
      "metadata": {
        "id": "gxYBMdpRiVPV"
      },
      "execution_count": null,
      "outputs": []
    },
    {
      "cell_type": "code",
      "source": [
        "def solution(data):\n",
        "    q_size = data['size']\n",
        "    c_list = data['commands']\n",
        "\n",
        "    q_l = list()\n",
        "    res = list()\n",
        "    for i in c_list:\n",
        "        if 'insert' in i:\n",
        "            if len(q_l) == q_size:\n",
        "                q_l.pop(0)\n",
        "            q_l.append(i.split(' ')[1])\n",
        "            res.append(None)\n",
        "        elif 'search' in i:\n",
        "            i_bool = i.split(' ')[1] in q_l\n",
        "            res.append(i_bool)\n",
        "        elif 'delete' in i:\n",
        "            q_l.pop(0)\n",
        "            res.append(None)\n",
        "\n",
        "    return res"
      ],
      "metadata": {
        "id": "LEjPDJkkiYpu"
      },
      "execution_count": null,
      "outputs": []
    }
  ]
}