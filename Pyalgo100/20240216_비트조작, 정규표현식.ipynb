{
  "nbformat": 4,
  "nbformat_minor": 0,
  "metadata": {
    "colab": {
      "provenance": []
    },
    "kernelspec": {
      "name": "python3",
      "display_name": "Python 3"
    },
    "language_info": {
      "name": "python"
    }
  },
  "cells": [
    {
      "cell_type": "markdown",
      "source": [
        "# 문제 31번"
      ],
      "metadata": {
        "id": "bAb2zRUGDTlr"
      }
    },
    {
      "cell_type": "code",
      "execution_count": null,
      "metadata": {
        "id": "Bh1L9qclDPG-"
      },
      "outputs": [],
      "source": [
        "def solution(data):\n",
        "    binary_str = bin(data)[2:].zfill(10)\n",
        "\n",
        "    flipped_bits = []\n",
        "\n",
        "    for bit in binary_str:\n",
        "        if bit == '1':\n",
        "            flipped_bits.append('0')\n",
        "        else:\n",
        "            flipped_bits.append('1')\n",
        "\n",
        "    return int(''.join(flipped_bits),2)"
      ]
    },
    {
      "cell_type": "code",
      "source": [
        "# 문제 31번\n",
        "\n",
        "def solution(data):\n",
        "    binary = f'{data:010b}'\n",
        "    s = ''\n",
        "    for i in binary:\n",
        "        if i == '0':\n",
        "            s += '1'\n",
        "        else:\n",
        "            s += '0'\n",
        "    return int(s, 2)"
      ],
      "metadata": {
        "id": "hSET3IxbDa-p"
      },
      "execution_count": null,
      "outputs": []
    },
    {
      "cell_type": "code",
      "source": [
        "def solution(data):\n",
        "    binary = bin(data)[2:]\n",
        "    binary = binary.zfill(10)\n",
        "    result = binary.replace('1', '2').replace('0', '1').replace('2', '0')\n",
        "    return int(result, 2)"
      ],
      "metadata": {
        "id": "L6uwKAGGDcDA"
      },
      "execution_count": null,
      "outputs": []
    },
    {
      "cell_type": "code",
      "source": [
        "# 31번\n",
        "def solution(data):\n",
        "    #data = format(data, '010b')\n",
        "    data = format(data, 'b').zfill(10)\n",
        "    answer = ''\n",
        "    for i in data:\n",
        "        if i == '0':\n",
        "            answer += '1'\n",
        "        else:\n",
        "            answer += '0'\n",
        "    return int(answer, 2)"
      ],
      "metadata": {
        "id": "cKcF1e0qDdou"
      },
      "execution_count": null,
      "outputs": []
    },
    {
      "cell_type": "code",
      "source": [
        "def invert_bits(N):\n",
        "    # 정수의 이진 표현을 구하고 '0b' 접두사를 제거\n",
        "    binary_representation = bin(N)[2:]\n",
        "\n",
        "    # 각 비트를 반전\n",
        "    inverted = ''.join('1' if bit == '0' else '0' for bit in binary_representation)\n",
        "\n",
        "    # 반전된 이진 표현을 다시 정수로 변환\n",
        "    return int('0b' + inverted, 2)"
      ],
      "metadata": {
        "id": "miAlfIJQDf26"
      },
      "execution_count": null,
      "outputs": []
    },
    {
      "cell_type": "code",
      "source": [
        "def solution(data):\n",
        "    bin_data = bin(data)[2:].zfill(10) # 2진수 문자열로 변환 후 0b뒤부분만 슬라이싱으로 뽑아준다. 10자리중 나머지 부분은 0으로 채워넣는다.\n",
        "    result = '0b'\n",
        "    for num in bin_data:\n",
        "        result += str(1 ^ int(num))\n",
        "    return int(result, 2)"
      ],
      "metadata": {
        "id": "PilyvEKPDg_l"
      },
      "execution_count": null,
      "outputs": []
    },
    {
      "cell_type": "code",
      "source": [
        "def solution(data):\n",
        "    # 이진 표현에서 모든 비트를 반전시킨 후, 정수로 변환\n",
        "    reversed_bits = int(bin(data)[2:].zfill(10).replace('0', '2').replace('1', '0').replace('2', '1'), 2)\n",
        "    return reversed_bits"
      ],
      "metadata": {
        "id": "6r1R-3rFDhdl"
      },
      "execution_count": null,
      "outputs": []
    },
    {
      "cell_type": "code",
      "source": [
        "# 31번\n",
        "# 가장 많은 추천을 받은 문제풀이\n",
        "\n",
        "def solution(data):\n",
        "    # N은 10자리 이진수 (10개비트가 모두 1인 수) -> 1111111111\n",
        "    # 1000과 가장 가까운 1024에서 data 빼기\n",
        "    return 1023 - data"
      ],
      "metadata": {
        "id": "-z8BpZn9DiY4"
      },
      "execution_count": null,
      "outputs": []
    },
    {
      "cell_type": "code",
      "source": [
        "# 31\n",
        "def solution(data):\n",
        "    bin_d = bin(data)[2:]\n",
        "    len_digit = len(bin_d)\n",
        "    digit_data = '0' * (10 - len_digit) + bin_d\n",
        "    def reverse_digit(c):\n",
        "        if c=='0':\n",
        "            ret = '1'\n",
        "        else:\n",
        "            ret = '0'\n",
        "        return ret\n",
        "    rev_d = ''.join(map(reverse_digit, digit_data))\n",
        "    return int(rev_d, 2)"
      ],
      "metadata": {
        "id": "IBQRoVYUDkIv"
      },
      "execution_count": null,
      "outputs": []
    },
    {
      "cell_type": "markdown",
      "source": [
        "# 문제 32번"
      ],
      "metadata": {
        "id": "7o0G5kvJDtr4"
      }
    },
    {
      "cell_type": "code",
      "source": [
        "def solution(nums):\n",
        "    if not nums:\n",
        "        return (0, 0)\n",
        "\n",
        "    bit_and = nums[0]\n",
        "    bit_or = nums[0]\n",
        "\n",
        "    for num in nums[1:]:\n",
        "        bit_and &= num\n",
        "        bit_or |= num\n",
        "\n",
        "    return (bit_and, bit_or)"
      ],
      "metadata": {
        "id": "9ETOgzmBDu1q"
      },
      "execution_count": null,
      "outputs": []
    },
    {
      "cell_type": "code",
      "source": [
        "# 32번\n",
        "def solution(data):\n",
        "    # 배열의 첫 번째 요소로 비트 AND 및 비트 OR 연산의 초기값을 설정\n",
        "    bit_and_result = data[0]\n",
        "    bit_or_result = data[0]\n",
        "\n",
        "    # 배열의 모든 요소에 대해 비트 연산 수행\n",
        "    for num in data[1:]:  # 첫 번째 요소는 이미 초기값으로 사용했으므로, 두 번째 요소부터 순회\n",
        "        bit_and_result &= num  # 비트 AND 연산\n",
        "        bit_or_result |= num   # 비트 OR 연산\n",
        "\n",
        "    # 비트 AND 및 비트 OR 연산 결과를 튜플로 반환\n",
        "    return (bit_and_result, bit_or_result)"
      ],
      "metadata": {
        "id": "tsKw49PoDzMJ"
      },
      "execution_count": null,
      "outputs": []
    },
    {
      "cell_type": "code",
      "source": [
        "# 문제 32번\n",
        "\n",
        "def solution(data):\n",
        "    and_result = data[0]\n",
        "    or_result = data[0]\n",
        "    for i in data[1:]:\n",
        "        and_result = i & and_result\n",
        "        or_result = i | or_result\n",
        "\n",
        "    return (and_result, or_result)"
      ],
      "metadata": {
        "id": "Pq3s8GA3D0ds"
      },
      "execution_count": null,
      "outputs": []
    },
    {
      "cell_type": "code",
      "source": [
        "import functools, operator\n",
        "\n",
        "def solution(data):\n",
        "    # functools.reduce()는 시퀀스형 자료형의 모든 요소에 주어진 함수를 적용한 결과 반환\n",
        "    # functools.reduce(함수, 시퀀스자료형)\n",
        "    # operator 모듈은 특정 연산자의 결과를 반환한다.\n",
        "    and_ = functools.reduce(operator.and_, data)\n",
        "    or_ = functools.reduce(operator.or_, data)\n",
        "    return (and_, or_)"
      ],
      "metadata": {
        "id": "zPbVkMPpD2RJ"
      },
      "execution_count": null,
      "outputs": []
    },
    {
      "cell_type": "code",
      "source": [
        "def solution(data):\n",
        "    result_and = result_or = data[0]\n",
        "    for num in range(1, len(data)):\n",
        "        result_and &= data[num]\n",
        "        result_or |= data[num]\n",
        "    return (result_and, result_or)\n",
        "\n",
        "solution([12, 5, 6])"
      ],
      "metadata": {
        "id": "gbZlf_SkD3Vp"
      },
      "execution_count": null,
      "outputs": []
    },
    {
      "cell_type": "code",
      "source": [
        "# 32\n",
        "def solution(data):\n",
        "    and_calc = data[0]\n",
        "    for i in range(len(data)-1):\n",
        "        and_calc = and_calc & data[i+1]\n",
        "\n",
        "    or_calc = data[0]\n",
        "    for i in range(len(data)-1):\n",
        "        or_calc = or_calc | data[i+1]\n",
        "    or_calc\n",
        "\n",
        "    res = (and_calc, or_calc)\n",
        "    return res"
      ],
      "metadata": {
        "id": "p_hhxflMD3u6"
      },
      "execution_count": null,
      "outputs": []
    },
    {
      "cell_type": "code",
      "source": [
        "def bit_and_or(nums):\n",
        "    if not nums:\n",
        "        return 0, 0  # 배열이 비어있는 경우\n",
        "\n",
        "    bit_and = nums[0]\n",
        "    bit_or = nums[0]\n",
        "\n",
        "    for num in nums[1:]:\n",
        "        bit_and &= num\n",
        "        bit_or |= num\n",
        "\n",
        "    return bit_and, bit_or"
      ],
      "metadata": {
        "id": "ZJxgjiyyD414"
      },
      "execution_count": null,
      "outputs": []
    },
    {
      "cell_type": "code",
      "source": [
        "def solution(data):\n",
        "    # 배열 내 모든 요소에 대한 비트 AND 연산 결과 계산\n",
        "    and_result = data[0]\n",
        "    for num in data[1:]:\n",
        "        and_result &= num\n",
        "\n",
        "    # 배열 내 모든 요소에 대한 비트 OR 연산 결과 계산\n",
        "    or_result = data[0]\n",
        "    for num in data[1:]:\n",
        "        or_result |= num\n",
        "\n",
        "    return and_result, or_result"
      ],
      "metadata": {
        "id": "pDAd8x5VD6ZX"
      },
      "execution_count": null,
      "outputs": []
    },
    {
      "cell_type": "code",
      "source": [
        "# 32번\n",
        "# 가장 많은 추천을 받은 문제풀이\n",
        "def solution(data):\n",
        "    bit_and = data[0]\n",
        "    bit_or = data[0]\n",
        "\n",
        "    for num in data[1:]:\n",
        "        bit_and &= num\n",
        "        bit_or |= num\n",
        "\n",
        "    return (bit_and, bit_or)"
      ],
      "metadata": {
        "id": "s8pltAVbD7ok"
      },
      "execution_count": null,
      "outputs": []
    },
    {
      "cell_type": "markdown",
      "source": [
        "# 문제 33번"
      ],
      "metadata": {
        "id": "lyYi7XDPEGk5"
      }
    },
    {
      "cell_type": "code",
      "source": [
        "# 문제 33번\n",
        "import re\n",
        "def solution(data):\n",
        "    pattern = r'[a-zA-Z0-9._+]+@[a-zA-Z0-9.-]+\\.[a-zA-Z]{2,}'\n",
        "    match_data = re.match(pattern, data)\n",
        "\n",
        "    if match_data:\n",
        "        return True\n",
        "    else:\n",
        "        return False"
      ],
      "metadata": {
        "id": "RmiqdVggEGFZ"
      },
      "execution_count": null,
      "outputs": []
    },
    {
      "cell_type": "code",
      "source": [
        "#33번\n",
        "def solution(data):\n",
        "    import re\n",
        "    pattern = r'^[a-zA-Z0-9._+]+@[a-zA-Z0-9.-]+\\.[a-zA-Z]{2,}$'\n",
        "    return bool(re.match(pattern, data))"
      ],
      "metadata": {
        "id": "qNz9fYwiEIf3"
      },
      "execution_count": null,
      "outputs": []
    },
    {
      "cell_type": "code",
      "source": [
        "import re\n",
        "def solution(data):\n",
        "    p = re.compile('[0-9a-zA-Z._+]+@[0-9a-zA-Z-.]+\\.[a-zA-z]{2,}')\n",
        "    result = p.match(data)\n",
        "    return True if result else False"
      ],
      "metadata": {
        "id": "7l8SEJZHEJc8"
      },
      "execution_count": null,
      "outputs": []
    },
    {
      "cell_type": "code",
      "source": [
        "import re\n",
        "\n",
        "def solution(data):\n",
        "    standard = re.compile(r\"[a-zA-Z0-9._+]+@[a-zA-Z0-9.-]+\\.[a-zA-Z]{2,}\")\n",
        "    return True if standard.match(data) else False\n",
        "\n",
        "solution(\"user@example.com\")"
      ],
      "metadata": {
        "id": "ELD2E5J9EKOq"
      },
      "execution_count": null,
      "outputs": []
    },
    {
      "cell_type": "code",
      "source": [
        "# 가장 많은 추천을 받은 문제풀\n",
        "def solution(data):\n",
        "    import re\n",
        "    pattern = r'^[a-zA-Z0-9._+]+@[a-zA-Z0-9._+]+\\.[a-zA-Z]{2,}$'\n",
        "    return bool(re.match(pattern, data))"
      ],
      "metadata": {
        "id": "gPt_u9cQELUT"
      },
      "execution_count": null,
      "outputs": []
    },
    {
      "cell_type": "code",
      "source": [
        "#33\n",
        "def solution(data):\n",
        "    import re\n",
        "\n",
        "    pattern = '[a-zA-Z1-9._+]+@[a-zA-Z1-9\\-\\.]+\\.\\w\\w+'\n",
        "\n",
        "    res = re.search(pattern, data)\n",
        "    if res != None:\n",
        "        return True\n",
        "    else:\n",
        "        return False"
      ],
      "metadata": {
        "id": "3Tt3yYimEQB0"
      },
      "execution_count": null,
      "outputs": []
    },
    {
      "cell_type": "code",
      "source": [
        "import re\n",
        "def solution(data):\n",
        "    # 이메일 주소를 검사하는 정규표현식\n",
        "    email_pattern = r'^[a-zA-Z0-9._%+-]+@[a-zA-Z0-9.-]+\\.[a-zA-Z]{2,}$'\n",
        "\n",
        "    # 정규표현식에 맞게 검사\n",
        "    return bool(re.match(email_pattern, data))"
      ],
      "metadata": {
        "id": "uQ_wzML4EQgG"
      },
      "execution_count": null,
      "outputs": []
    },
    {
      "cell_type": "code",
      "source": [
        "import re\n",
        "\n",
        "def is_valid_email(email):\n",
        "    # 이메일 주소를 검증하는 정규 표현식\n",
        "    pattern = r'^[a-zA-Z0-9._+]+@[a-zA-Z0-9.-]+\\.[a-zA-Z]{2,}$'   # ^: 시작, $: 끝, \\.: .\n",
        "\n",
        "    # 주어진 이메일이 정규 표현식과 일치하는지 확인\n",
        "    if re.match(pattern, email):  #match()\n",
        "        return True\n",
        "    else:\n",
        "        return False\n",
        "\n",
        "# 테스트\n",
        "print(is_valid_email(\"example@test.com\"))  # 유효한 이메일\n",
        "print(is_valid_email(\"example_test.com\"))  # 유효하지 않은 이메일 (at 기호(@)가 없음)\n",
        "print(is_valid_email(\"example@test\"))  # 유효하지 않은 이메일 (도메인의 마지막 부분이 두 글자 이상의 알파벳 문자열이 아님)\n",
        "print(is_valid_email(\"example@te_st.com\"))  # 유효한 이메일"
      ],
      "metadata": {
        "id": "AiyQhUmjESDV"
      },
      "execution_count": null,
      "outputs": []
    },
    {
      "cell_type": "markdown",
      "source": [
        "# 문제 34번"
      ],
      "metadata": {
        "id": "wkPdxEvPETc0"
      }
    },
    {
      "cell_type": "code",
      "source": [
        "import re\n",
        "\n",
        "def solution(data):\n",
        "    # 정규표현식으로 연, 월, 일을 직접 추출\n",
        "    dates = re.findall(r\"(\\d{4})-(\\d{2})-(\\d{2})\", data)\n",
        "    # 추출한 연, 월, 일을 정수형으로 변환하여 튜플로 만듦\n",
        "    result = [tuple(map(int, date)) for date in dates]\n",
        "    return result"
      ],
      "metadata": {
        "id": "DZleRAzdEUYI"
      },
      "execution_count": null,
      "outputs": []
    },
    {
      "cell_type": "code",
      "source": [
        "import re\n",
        "\n",
        "def extract_dates(text):\n",
        "    # 날짜 형식을 찾기 위한 정규 표현식\n",
        "    pattern = r'(\\d{4})-(\\d{2})-(\\d{2})'  #그룹화\n",
        "\n",
        "    # 정규 표현식과 일치하는 모든 부분을 찾고, 각 부분을 튜플로 변환\n",
        "    matches = re.findall(pattern, text)   #findall with 그룹화된 데이터: 튜플 반환  #only findall: 리스트 반환\n",
        "    dates = [(int(year), int(month), int(day)) for year, month, day in matches]\n",
        "\n",
        "    return dates\n",
        "\n",
        "# 테스트\n",
        "text = \"2024-01-20에 약속이 하나 있고 다른 약속은 2023-12-31이야!\"\n",
        "extract_dates(text)"
      ],
      "metadata": {
        "id": "poo4IoW9EVWi"
      },
      "execution_count": null,
      "outputs": []
    },
    {
      "cell_type": "code",
      "source": [
        "# 문제 34번\n",
        "def solution(data):\n",
        "    '''\n",
        "    패턴을 찾은 후 '-'을 기준으로 나눠 리스트를 만든 후 컴프리헨션을 통해 정수로 바꿔\n",
        "    튜플로 다시 변환 시킨 후 리스트에 하나씩 넣어 반환함.\n",
        "    '''\n",
        "    l = []\n",
        "    pattern = r'[0-9]{4}\\-[0-9]{2}\\-[0-9]{2}'\n",
        "    find_day = re.findall(pattern, data)\n",
        "\n",
        "    for i in find_day:\n",
        "        result = tuple([int(x) for x in i.split('-')])\n",
        "        l.append(result)\n",
        "\n",
        "    return l"
      ],
      "metadata": {
        "id": "lDtnugkgEWTg"
      },
      "execution_count": null,
      "outputs": []
    },
    {
      "cell_type": "code",
      "source": [
        "# 가장 많은 추천을 받은 문제풀\n",
        "import re\n",
        "def solution(data):\n",
        "    p = re.findall(r'[0-9]+-[0-9]+-[0-9]+', data)\n",
        "    return [tuple(map(int, i.split('-'))) for i in p]"
      ],
      "metadata": {
        "id": "QxiQIBJTEXXi"
      },
      "execution_count": null,
      "outputs": []
    },
    {
      "cell_type": "code",
      "source": [
        "# 34번\n",
        "def solution(data):\n",
        "    import re\n",
        "    pattern = r'(\\d{4})-(\\d{2})-(\\d{2})'\n",
        "    matches = re.findall(pattern, data)\n",
        "    return [(int(year), int(month), int(day)) for year, month, day in matches]"
      ],
      "metadata": {
        "id": "jdaJk_IpEcJ4"
      },
      "execution_count": null,
      "outputs": []
    },
    {
      "cell_type": "code",
      "source": [
        "def solution(data):\n",
        "    import re\n",
        "    pattern = r'\\b(\\d{4})-(\\d{2})-(\\d{2})\\b'\n",
        "    matches = re.findall(pattern, data)\n",
        "    return [(int(year), int(month), int(day)) for year, month, day in matches]"
      ],
      "metadata": {
        "id": "rsvPpNiTEcex"
      },
      "execution_count": null,
      "outputs": []
    },
    {
      "cell_type": "code",
      "source": [
        "#34번\n",
        "def solution(data):\n",
        "    # YYYY-MM-DD 형식의 날짜를 찾기 위한 정규 표현식\n",
        "    date_pattern = re.compile(r'(\\d{4})-(\\d{2})-(\\d{2})')\n",
        "\n",
        "    # 정규 표현식을 사용해 모든 날짜 형식 매칭\n",
        "    matches = date_pattern.findall(data)\n",
        "\n",
        "    # 각 매칭된 날짜를 정수형 튜플로 변환\n",
        "    dates = [(int(year), int(month), int(day)) for year, month, day in matches]\n",
        "\n",
        "    return dates"
      ],
      "metadata": {
        "id": "Oy_kNEYCEdx0"
      },
      "execution_count": null,
      "outputs": []
    },
    {
      "cell_type": "markdown",
      "source": [
        "# 문제 35번"
      ],
      "metadata": {
        "id": "g62UP-wPEflE"
      }
    },
    {
      "cell_type": "code",
      "source": [
        "# 문제 35\n",
        "def solution(data):\n",
        "    pattern = r'<[a-zA-Z/]+>'\n",
        "    return re.sub(pattern, '', data)"
      ],
      "metadata": {
        "id": "bIAbLr7dEg4E"
      },
      "execution_count": null,
      "outputs": []
    },
    {
      "cell_type": "code",
      "source": [
        "import re\n",
        "\n",
        "def solution(data):\n",
        "    result = re.sub(r\"<[^>]+>\", \"\", data)\n",
        "    return result"
      ],
      "metadata": {
        "id": "-X9Bk_1IEiap"
      },
      "execution_count": null,
      "outputs": []
    },
    {
      "cell_type": "code",
      "source": [
        "python import re\n",
        "\n",
        "data = \"<p>Hello, <b>World</b>!</p>\"\n",
        "\n",
        "def solution(data):\n",
        "    return re.sub(r'<[^>]+>', '', data)\n",
        "\n",
        "solution(data)\n",
        "# \"<p>Hello, <b>World</b>!</p>\"    \"Hello, World!\"\n",
        "# \"<div><i>Sample</i> Text</div>\"    \"Sample Text\"\n",
        "# \"No tags here.\"    \"No tags here.\""
      ],
      "metadata": {
        "id": "zJsyF8w5EjQG"
      },
      "execution_count": null,
      "outputs": []
    },
    {
      "cell_type": "code",
      "source": [
        "def solution(data):\n",
        "    inside_tag = False\n",
        "    result = \"\"\n",
        "    for char in data:\n",
        "        if char == \"<\":\n",
        "            inside_tag = True\n",
        "        elif char == \">\":\n",
        "            inside_tag = False\n",
        "        elif not inside_tag:\n",
        "            result += char\n",
        "    return result"
      ],
      "metadata": {
        "id": "I7hRDKfeEkEK"
      },
      "execution_count": null,
      "outputs": []
    },
    {
      "cell_type": "code",
      "source": [
        "# 가장 많은 추천을 받은 문제풀이\n",
        "import re\n",
        "def solution(data):\n",
        "    p = re.sub(r'<.*?>', '', data)\n",
        "    return p"
      ],
      "metadata": {
        "id": "MsDeDKDeEk-8"
      },
      "execution_count": null,
      "outputs": []
    },
    {
      "cell_type": "code",
      "source": [
        "def solution(data):\n",
        "    # 정규표현식을 사용하여 HTML 태그 제거\n",
        "    cleaned_text = re.sub(r'<[^>]*>', '', data)\n",
        "    return cleaned_text"
      ],
      "metadata": {
        "id": "bjE_o-2UEpMq"
      },
      "execution_count": null,
      "outputs": []
    },
    {
      "cell_type": "code",
      "source": [
        "#35번\n",
        "def solution(data):\n",
        "    import re\n",
        "    return re.sub(r'<[^>]+>', '', data)"
      ],
      "metadata": {
        "id": "bVo2XTclEqVt"
      },
      "execution_count": null,
      "outputs": []
    },
    {
      "cell_type": "markdown",
      "source": [
        "# 문제 36번"
      ],
      "metadata": {
        "id": "SjJhWpTNEsQK"
      }
    },
    {
      "cell_type": "code",
      "source": [
        "# 문제 36\n",
        "def solution(data):\n",
        "    '''\n",
        "    그룹으로 묶어서 정규표현식을 표현하는 것이 핵심\n",
        "    앞에서부터 숫자로 그룹을 지칭할 수 있음\n",
        "    '''\n",
        "    pattern = r'(\\d{2,3})(\\d{3,4})(\\d{4})'\n",
        "    return re.sub(pattern, r'\\1-\\2-\\3', data)"
      ],
      "metadata": {
        "id": "gnGnYYz1ErZu"
      },
      "execution_count": null,
      "outputs": []
    },
    {
      "cell_type": "code",
      "source": [
        "import re\n",
        "def solution(data):\n",
        "    p = re.sub(r'(\\d{3})(\\d{4})(\\d{4})', r'\\1-\\2-\\3', data)\n",
        "    return p"
      ],
      "metadata": {
        "id": "_keAqprAEu7y"
      },
      "execution_count": null,
      "outputs": []
    },
    {
      "cell_type": "code",
      "source": [
        "# 가장 많은 추천을 받은 문제풀이\n",
        "def solution(data):\n",
        "    def format_phone_number(match):\n",
        "        phone_number = match.group(0)\n",
        "        if len(phone_number) == 10:\n",
        "            return f\"{phone_number[:3]}-{phone_number[3:7]}-{phone_number[7:]}\"\n",
        "        elif len(phone_number) == 11:\n",
        "            return f\"{phone_number[:3]}-{phone_number[3:7]}-{phone_number[7:]}\"\n",
        "        else:\n",
        "            return phone_number\n",
        "\n",
        "    # 정규표현식을 사용하여 전화번호 찾기\n",
        "    pattern = re.compile(r'\\b\\d{10,11}\\b')\n",
        "    result = pattern.sub(format_phone_number, data)\n",
        "\n",
        "    return result"
      ],
      "metadata": {
        "id": "yqV5jTWGEwBf"
      },
      "execution_count": null,
      "outputs": []
    },
    {
      "cell_type": "code",
      "source": [
        "import re\n",
        "\n",
        "def solution(data):\n",
        "    result = re.sub(r\"(\\d{3})(\\d{4})(\\d{3,4})\", r\"\\1-\\2-\\3\", data)\n",
        "    return result"
      ],
      "metadata": {
        "id": "EWMR_U9zExfv"
      },
      "execution_count": null,
      "outputs": []
    },
    {
      "cell_type": "code",
      "source": [
        "def solution(data):\n",
        "    import re\n",
        "    return re.sub(r'(\\d{3})(\\d{4})(\\d{4})', r'\\1-\\2-\\3', data)"
      ],
      "metadata": {
        "id": "-RQn6DdhEzJw"
      },
      "execution_count": null,
      "outputs": []
    },
    {
      "cell_type": "code",
      "source": [
        "#36번\n",
        "def solution(data):\n",
        "    import re\n",
        "    return re.sub(r'(\\d{2,3})(\\d{3,4})(\\d{4})', r'\\1-\\2-\\3', data)"
      ],
      "metadata": {
        "id": "uJe4eCyEEzhM"
      },
      "execution_count": null,
      "outputs": []
    },
    {
      "cell_type": "code",
      "source": [
        "# 36번\n",
        "def solution(data):\n",
        "    # 전화번호 패턴: 10자리 또는 11자리 숫자\n",
        "    pattern = re.compile(r'\\b(\\d{3})(\\d{4})(\\d{4})\\b')\n",
        "\n",
        "    # 정규 표현식을 사용하여 전화번호 찾기 및 변환\n",
        "    answer = pattern.sub(r'\\1-\\2-\\3', data)\n",
        "\n",
        "    return answer"
      ],
      "metadata": {
        "id": "U6uSWkv9E08t"
      },
      "execution_count": null,
      "outputs": []
    },
    {
      "cell_type": "code",
      "source": [
        "import re\n",
        "\n",
        "data = \"No numbers here.\"\n",
        "\n",
        "def solution(data):\n",
        "    return re.sub(r'(\\d{3})(\\d{4})(\\d{3,4})', r'\\1-\\2-\\3', data)  #그룹화와, 그룹별 구분\n",
        "\n",
        "solution(data)"
      ],
      "metadata": {
        "id": "1_lrERsEE17j"
      },
      "execution_count": null,
      "outputs": []
    },
    {
      "cell_type": "markdown",
      "source": [
        "# 문제 37번"
      ],
      "metadata": {
        "id": "aHw7nmEZE8pL"
      }
    },
    {
      "cell_type": "code",
      "source": [
        "# 문제 37\n",
        "import re\n",
        "def solution(data):\n",
        "    pattern1 = r'[0-2]{1}[0-9]{1}:[0-6]{1}[0-9]{1}:[0-6]{1}[0-9]{1}'\n",
        "    pattern2 = r'[\\uAC00-\\uD7A3]{1,}'\n",
        "    time_num = re.findall(pattern1, data)\n",
        "    kr_str = re.findall(pattern2, data)\n",
        "    dict_asd = {'time': time_num[0], 'message': ' '.join(kr_str)}\n",
        "    return dict_asd"
      ],
      "metadata": {
        "id": "XY-rxSe9E_Ug"
      },
      "execution_count": null,
      "outputs": []
    },
    {
      "cell_type": "code",
      "source": [
        "# 가장 많은 추천을 받은 문제풀이\n",
        "import re\n",
        "\n",
        "def solution(data):\n",
        "    values = re.findall(r\"([0-9:]{8})\\] (\\w+\\s\\w+)\", data)\n",
        "    time, message = values[0]\n",
        "    return {\"time\": time, \"message\": message}"
      ],
      "metadata": {
        "id": "dvPp8FNmFCu7"
      },
      "execution_count": null,
      "outputs": []
    },
    {
      "cell_type": "code",
      "source": [
        "import re\n",
        "def solution(data):\n",
        "    p = r\"\\[(\\d{2}:\\d{2}:\\d{2})\\] (.*)\"\n",
        "    match = re.search(p, data) # 주어진 정규표현식(p)에 맞는 첫 번째 문자열 반환\n",
        "    time = match.group(1) # 시간 추출, group(0) = 전체 문자열\n",
        "    message = match.group(2) # 메시지 추출, (.*) 부분\n",
        "    return {'time':time,'message':message}"
      ],
      "metadata": {
        "id": "qpAiO0sjFIBi"
      },
      "execution_count": null,
      "outputs": []
    },
    {
      "cell_type": "code",
      "source": [
        "#37번\n",
        "def solution(log):\n",
        "    import re\n",
        "    pattern = r'\\[(?P<time>\\d{2}:\\d{2}:\\d{2})\\] (?P<message>.+)'\n",
        "    match = re.match(pattern, log)\n",
        "    if match:\n",
        "        return match.groupdict()\n",
        "    return {}"
      ],
      "metadata": {
        "id": "JwWALaf1FJlH"
      },
      "execution_count": null,
      "outputs": []
    },
    {
      "cell_type": "code",
      "source": [
        "def solution(data):\n",
        "    pattern = r\"\\[(?P<time>\\d{2}:\\d{2}:\\d{2})\\] (?P<message>.+)\"\n",
        "    match = re.match(pattern, data)\n",
        "    if match:\n",
        "        return match.groupdict()\n",
        "    else:\n",
        "        return None"
      ],
      "metadata": {
        "id": "rhdglwm3FKhQ"
      },
      "execution_count": null,
      "outputs": []
    },
    {
      "cell_type": "code",
      "source": [
        "# 37번\n",
        "def solution(data):\n",
        "    # 정규 표현식 패턴: 시간과 메시지를 이름이 지정된 그룹으로 추출\n",
        "    pattern = re.compile(r'\\[(?P<time>\\d{2}:\\d{2}:\\d{2})\\] (?P<message>.+)')\n",
        "\n",
        "    # 정규 표현식 매칭\n",
        "    match = pattern.match(data)\n",
        "\n",
        "    if match:\n",
        "        # 이름이 지정된 그룹을 사용하여 시간과 메시지 추출\n",
        "        return match.groupdict()\n",
        "    else:\n",
        "        return {}"
      ],
      "metadata": {
        "id": "5N4XJhT9FLdD"
      },
      "execution_count": null,
      "outputs": []
    },
    {
      "cell_type": "code",
      "source": [
        "import re\n",
        "\n",
        "data = \"[08:55:45] 사용자 로그인\"\n",
        "\n",
        "time = re.findall(r'\\d{2}:\\d{2}:\\d{2}', data)\n",
        "string = re.findall(r'[^\\d\\[\\]:]+', data)\n",
        "\n",
        "# time\n",
        "string\n",
        "\n",
        "result = {'time': time[0], 'message': string[0].strip()}\n",
        "result"
      ],
      "metadata": {
        "id": "jszpx2ctFMXl"
      },
      "execution_count": null,
      "outputs": []
    },
    {
      "cell_type": "markdown",
      "source": [
        "# 문제 38번"
      ],
      "metadata": {
        "id": "C3qgBr31FZBP"
      }
    },
    {
      "cell_type": "code",
      "source": [
        "def solution(data):\n",
        "    pattern = r\"(?P<protocol>https?|ftp)://(?P<domain>[^/\\s]+)(?P<path>/[^?]*|)(\\?(?P<query>[^#\\s]*))?\"\n",
        "    match = re.match(pattern, data)\n",
        "    if match:\n",
        "        return {\n",
        "            \"protocol\": match.group(\"protocol\"),\n",
        "            \"domain\": match.group(\"domain\"),\n",
        "            \"path\": match.group(\"path\") if match.group(\"path\") else \"\",\n",
        "            \"query\": match.group(\"query\") if match.group(\"query\") else \"\",\n",
        "        }\n",
        "    else:\n",
        "        return None"
      ],
      "metadata": {
        "id": "A5-J6HPFFNYf"
      },
      "execution_count": null,
      "outputs": []
    },
    {
      "cell_type": "code",
      "source": [
        "import re\n",
        "\n",
        "def solution(data):\n",
        "    pattern = r\"(?P<protocol>https?|ftp)://(?P<domain>[^/\\s]+)(?P<path>/[^?]*|)(\\?(?P<query>[^#\\s]*))?\"\n",
        "    match = re.match(pattern, data)\n",
        "    if match:\n",
        "        return {\n",
        "            \"protocol\": match.group(\"protocol\"),\n",
        "            \"domain\": match.group(\"domain\"),\n",
        "            \"path\": match.group(\"path\") if match.group(\"path\") else \"\",\n",
        "            \"query\": match.group(\"query\") if match.group(\"query\") else \"\",\n",
        "        }\n",
        "    else:\n",
        "        return None"
      ],
      "metadata": {
        "id": "nRuMftuyFOfT"
      },
      "execution_count": null,
      "outputs": []
    },
    {
      "cell_type": "code",
      "source": [
        "import re\n",
        "\n",
        "def solution(url):\n",
        "    # *표시는 가능한 많은 패턴을 찾기에 *와 ?를 같이 사용해 첫번째 패턴을 찾으면 종료하도록 설정\n",
        "    pattern = re.compile(r'(.*?):\\/\\/([^\\/]*)(\\/[^?]*)?(\\?.*)?')\n",
        "    match = pattern.search(url)\n",
        "\n",
        "    if match is None:\n",
        "        return {'protocol': '', 'domain': '', 'path': '', 'query': ''}\n",
        "\n",
        "    protocol = match.group(1) if match.group(1) else ''\n",
        "    domain = match.group(2) if match.group(2) else ''\n",
        "    path = match.group(3) if match.group(3) else ''\n",
        "    query = match.group(4)[1:] if match.group(4) else ''\n",
        "\n",
        "    return {'protocol': protocol, 'domain': domain, 'path': path, 'query': query}"
      ],
      "metadata": {
        "id": "kYxT9XHLFPb0"
      },
      "execution_count": null,
      "outputs": []
    },
    {
      "cell_type": "code",
      "source": [
        "# 가장 많은 추천을 받은 문제풀이\n",
        "# 정규표현식을 최대한 사용해서 멋있게.\n",
        "import re\n",
        "\n",
        "def solution(data):\n",
        "    result = re.match(r\"(?P<protocol>.*)://(?P<domain>.[^/]*)(?P<path>[^?]*)\\??(?P<query>.*)\", data)\n",
        "    return result.groupdict()"
      ],
      "metadata": {
        "id": "iX0l0QtIFQWH"
      },
      "execution_count": null,
      "outputs": []
    },
    {
      "cell_type": "code",
      "source": [
        "#38번\n",
        "def solution(data):\n",
        "    import re\n",
        "    pattern = r'(?P<protocol>https?|ftp)://(?P<domain>[^/]+)(?P<path>/[^?]*|)(?:\\?(?P<query>.*))?'\n",
        "    match = re.match(pattern, data)\n",
        "    if match:\n",
        "        result = match.groupdict()\n",
        "        # 'path'가 매칭되지 않은 경우, 빈 문자열로 설정\n",
        "        result['path'] = result.get('path', '')\n",
        "        # 'query'가 None인 경우, 빈 문자열로 대체\n",
        "        if result['query'] is None:\n",
        "            result['query'] = ''\n",
        "        return result\n",
        "    return {'protocol': '', 'domain': '', 'path': '', 'query': ''}"
      ],
      "metadata": {
        "id": "naGNQszmFgTD"
      },
      "execution_count": null,
      "outputs": []
    },
    {
      "cell_type": "code",
      "source": [
        "# 38번\n",
        "def solution(data):\n",
        "    # URL 구성 요소를 추출하기 위한 정규 표현식\n",
        "    pattern = re.compile(\n",
        "        r'(?P<protocol>[a-zA-Z]+)://(?P<domain>[^/]+)(?P<path>/[^?]*)?(?:\\?(?P<query>.*))?'\n",
        "    )\n",
        "\n",
        "    # 정규 표현식 매칭\n",
        "    match = pattern.match(data)\n",
        "\n",
        "    if match:\n",
        "        # 매칭된 그룹에서 각 부분 추출 후 None 값을 빈 문자열로 변환\n",
        "        parts = {k: (v if v is not None else '') for k, v in match.groupdict().items()}\n",
        "        return parts\n",
        "    else:\n",
        "        # 매칭되지 않는 경우 모든 값이 빈 문자열인 딕셔너리 반환\n",
        "        return {'protocol': '', 'domain': '', 'path': '', 'query': ''}"
      ],
      "metadata": {
        "id": "H7JsppjlFhON"
      },
      "execution_count": null,
      "outputs": []
    },
    {
      "cell_type": "code",
      "source": [
        "import re\n",
        "\n",
        "def extract_url_parts(url):\n",
        "    # URL 패턴: 프로토콜, 도메인, 경로, 쿼리스트링\n",
        "    pattern = r'(?P<protocol>https?)://(?P<domain>[^/]+)(?P<path>/[^?]*)\\??(?P<query>.*)'\n",
        "\n",
        "    # 정규 표현식과 일치하는 부분을 찾아 이름이 지정된 그룹으로 반환\n",
        "    match = re.search(pattern, url)\n",
        "    if match:\n",
        "        return match.groupdict()\n",
        "    else:\n",
        "        return None\n",
        "\n",
        "# 테스트\n",
        "url = \"https://www.weniv.co.kr/path/to/resource\"\n",
        "extract_url_parts(url)"
      ],
      "metadata": {
        "id": "WT53PvGQFiYs"
      },
      "execution_count": null,
      "outputs": []
    },
    {
      "cell_type": "markdown",
      "source": [
        "# 문제 39번"
      ],
      "metadata": {
        "id": "hgZ1rFHmFllW"
      }
    },
    {
      "cell_type": "code",
      "source": [
        "def solution(data):\n",
        "    import re\n",
        "    pattern = r'\\.([^.]+)$'\n",
        "    match = re.search(pattern, data)\n",
        "    if match:\n",
        "        return match.group(1)\n",
        "    else:\n",
        "        return \"\""
      ],
      "metadata": {
        "id": "K32nPCGIFmwy"
      },
      "execution_count": null,
      "outputs": []
    },
    {
      "cell_type": "code",
      "source": [
        "# 39번\n",
        "def solution(data):\n",
        "    # 마지막 점('.')의 위치 찾기\n",
        "    dot_index = data.rfind('.')\n",
        "\n",
        "    # 점이 존재하면 점 다음 문자열(확장자) 반환, 그렇지 않으면 빈 문자열 반환\n",
        "    if dot_index != -1:\n",
        "        return data[dot_index + 1:]\n",
        "    else:\n",
        "        return ''"
      ],
      "metadata": {
        "id": "qWef6s4NFoAC"
      },
      "execution_count": null,
      "outputs": []
    },
    {
      "cell_type": "code",
      "source": [
        "def solution(data):\n",
        "    pattern = r\".*\\.([^./]+)$\"\n",
        "    match = re.search(pattern, data)\n",
        "    if match:\n",
        "        return match.group(1)\n",
        "    else:\n",
        "        return \"\""
      ],
      "metadata": {
        "id": "KpPSyTIgFo4G"
      },
      "execution_count": null,
      "outputs": []
    },
    {
      "cell_type": "code",
      "source": [
        "# 가장 많은 추천을 받은 문제풀\n",
        "def solution(data):\n",
        "    my_str = data.split('.')\n",
        "    return my_str[-1] if len(my_str) != 1 else ''"
      ],
      "metadata": {
        "id": "tr_2OnbEFqSY"
      },
      "execution_count": null,
      "outputs": []
    },
    {
      "cell_type": "code",
      "source": [
        "import re\n",
        "\n",
        "def solution(data):\n",
        "    pattern = r'\\.([a-zA-Z0-9]+)$'  #$: 문자열의 끝\n",
        "    return re.search(pattern, data).group(1)  #group(0): 전체 문자열, group(1):첫 번째 괄호에 해당하는 문자열\n",
        "\n",
        "data = \"https://www.example.com/image.jpg\"\n",
        "solution(data)"
      ],
      "metadata": {
        "id": "TAsbv-RSFu-Z"
      },
      "execution_count": null,
      "outputs": []
    },
    {
      "cell_type": "code",
      "source": [
        "#39번\n",
        "def solution(data):\n",
        "    # 마지막 점('.')의 위치를 찾습니다.\n",
        "    last_dot_index = data.rfind('.')\n",
        "\n",
        "    # 마지막 점이 발견되지 않았거나, 파일명의 마지막에 위치하는 경우 빈 문자열을 반환합니다.\n",
        "    if last_dot_index == -1 or last_dot_index == len(data) - 1:\n",
        "        return ''\n",
        "\n",
        "    # 마지막 점 이후의 문자열(파일 확장자)을 반환합니다.\n",
        "    return data[last_dot_index + 1:]"
      ],
      "metadata": {
        "id": "AHyq9vSEFwlM"
      },
      "execution_count": null,
      "outputs": []
    },
    {
      "cell_type": "code",
      "source": [
        "import re\n",
        "\n",
        "def solution(data):\n",
        "    result = re.search(r\"(?<=\\.)(\\w+)$\", data)\n",
        "    return result.group() if result else \"\""
      ],
      "metadata": {
        "id": "JqgRKlmSFxx9"
      },
      "execution_count": null,
      "outputs": []
    },
    {
      "cell_type": "markdown",
      "source": [
        "# 문제 40번"
      ],
      "metadata": {
        "id": "E7BLy_wpFy_m"
      }
    },
    {
      "cell_type": "code",
      "source": [
        "import re\n",
        "\n",
        "def solution(data):\n",
        "    # pattern = r'(\\d,)+'\n",
        "    pattern = r'([0-9]+)'\n",
        "    return re.search(pattern, data)\n",
        "\n",
        "data = \"오늘은 2023년 3월 5일\"\n",
        "solution(data)"
      ],
      "metadata": {
        "id": "eZf1zOosF0Pk"
      },
      "execution_count": null,
      "outputs": []
    },
    {
      "cell_type": "code",
      "source": [
        "# 가장 많은 추천을 받은 문제풀이\n",
        "import re\n",
        "\n",
        "def solution(data):\n",
        "    result = re.sub(\"\\D\", \"\", data)\n",
        "    return result"
      ],
      "metadata": {
        "id": "Jv-DiJLnF2zT"
      },
      "execution_count": null,
      "outputs": []
    },
    {
      "cell_type": "code",
      "source": [
        "# 40번\n",
        "def solution(data):\n",
        "    import re\n",
        "    # 숫자와 쉼표를 포함한 문자열을 추출합니다.\n",
        "    numbers_commas = re.findall(r'[\\d,]+', data)\n",
        "    # 추출된 문자열을 하나로 합치고, 쉼표를 제거합니다.\n",
        "    numbers_only = ''.join(numbers_commas).replace(',', '')\n",
        "    return numbers_only"
      ],
      "metadata": {
        "id": "6A5Of5dIF6uk"
      },
      "execution_count": null,
      "outputs": []
    },
    {
      "cell_type": "code",
      "source": [
        "# 40번\n",
        "def solution(data):\n",
        "    # 숫자와 쉼표만을 찾는 정규 표현식\n",
        "    matches = re.findall(r'[0-9,]+', data)\n",
        "\n",
        "    # 찾아낸 숫자와 쉼표가 포함된 문자열들을 합침\n",
        "    number_string = ''.join(matches)\n",
        "\n",
        "    # 쉼표 제거\n",
        "    pure_number_string = number_string.replace(',', '')\n",
        "\n",
        "    return pure_number_string"
      ],
      "metadata": {
        "id": "L4u00KJ6F7oS"
      },
      "execution_count": null,
      "outputs": []
    },
    {
      "cell_type": "code",
      "source": [
        "# 40\n",
        "def solution(data):\n",
        "    return \"\".join([char for char in data if char.isdigit()])"
      ],
      "metadata": {
        "id": "T7uqswJiF8uV"
      },
      "execution_count": null,
      "outputs": []
    },
    {
      "cell_type": "code",
      "source": [
        "import re\n",
        "def solution(data):\n",
        "    numbers = re.findall(r'[\\d,]+', data)\n",
        "    result = ''.join(num.replace(',', '') for num in numbers)\n",
        "    return result"
      ],
      "metadata": {
        "id": "UoD343A-F90M"
      },
      "execution_count": null,
      "outputs": []
    }
  ]
}